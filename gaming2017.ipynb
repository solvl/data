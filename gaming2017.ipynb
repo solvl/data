{
 "cells": [
  {
   "cell_type": "markdown",
   "metadata": {
    "toc": true
   },
   "source": [
    "<h1>Оглавление<span class=\"tocSkip\"></span></h1>\n",
    "<div class=\"toc\"><ul class=\"toc-item\"><li><span><a href=\"#Обзор-данных\" data-toc-modified-id=\"Обзор-данных-1\"><span class=\"toc-item-num\">1&nbsp;&nbsp;</span>Обзор данных</a></span><ul class=\"toc-item\"><li><span><a href=\"#Описание-данных\" data-toc-modified-id=\"Описание-данных-1.1\"><span class=\"toc-item-num\">1.1&nbsp;&nbsp;</span>Описание данных</a></span></li></ul></li><li><span><a href=\"#Подготовка-данных\" data-toc-modified-id=\"Подготовка-данных-2\"><span class=\"toc-item-num\">2&nbsp;&nbsp;</span>Подготовка данных</a></span><ul class=\"toc-item\"><li><span><a href=\"#Регистр\" data-toc-modified-id=\"Регистр-2.1\"><span class=\"toc-item-num\">2.1&nbsp;&nbsp;</span>Регистр</a></span></li><li><span><a href=\"#Типы\" data-toc-modified-id=\"Типы-2.2\"><span class=\"toc-item-num\">2.2&nbsp;&nbsp;</span>Типы</a></span></li><li><span><a href=\"#Пропуски\" data-toc-modified-id=\"Пропуски-2.3\"><span class=\"toc-item-num\">2.3&nbsp;&nbsp;</span>Пропуски</a></span></li></ul></li><li><span><a href=\"#Исследовательский-анализ-данных\" data-toc-modified-id=\"Исследовательский-анализ-данных-3\"><span class=\"toc-item-num\">3&nbsp;&nbsp;</span>Исследовательский анализ данных</a></span><ul class=\"toc-item\"><li><span><a href=\"#Посмотрим,-сколько-игр-выпускалось-в-разные-годы.\" data-toc-modified-id=\"Посмотрим,-сколько-игр-выпускалось-в-разные-годы.-3.1\"><span class=\"toc-item-num\">3.1&nbsp;&nbsp;</span>Посмотрим, сколько игр выпускалось в разные годы.</a></span></li><li><span><a href=\"#Посмотрим,-как-менялись-продажи-по-платформам.\" data-toc-modified-id=\"Посмотрим,-как-менялись-продажи-по-платформам.-3.2\"><span class=\"toc-item-num\">3.2&nbsp;&nbsp;</span>Посмотрим, как менялись продажи по платформам.</a></span></li><li><span><a href=\"#Возьмём-данные-за-соответствующий-актуальный-период.\" data-toc-modified-id=\"Возьмём-данные-за-соответствующий-актуальный-период.-3.3\"><span class=\"toc-item-num\">3.3&nbsp;&nbsp;</span>Возьмём данные за соответствующий актуальный период.</a></span></li><li><span><a href=\"#Построим-график-«ящик-с-усами»-по-глобальным-продажам-игр-в-разбивке-по-платформам.\" data-toc-modified-id=\"Построим-график-«ящик-с-усами»-по-глобальным-продажам-игр-в-разбивке-по-платформам.-3.4\"><span class=\"toc-item-num\">3.4&nbsp;&nbsp;</span>Построим график «ящик с усами» по глобальным продажам игр в разбивке по платформам.</a></span></li><li><span><a href=\"#Посмотрим,-как-влияют-на-продажи-внутри-одной-популярной-платформы-отзывы-пользователей-и-критиков.\" data-toc-modified-id=\"Посмотрим,-как-влияют-на-продажи-внутри-одной-популярной-платформы-отзывы-пользователей-и-критиков.-3.5\"><span class=\"toc-item-num\">3.5&nbsp;&nbsp;</span>Посмотрим, как влияют на продажи внутри одной популярной платформы отзывы пользователей и критиков.</a></span></li><li><span><a href=\"#Соотнесем-выводы-с-продажами-на-других-топовых-платформах.\" data-toc-modified-id=\"Соотнесем-выводы-с-продажами-на-других-топовых-платформах.-3.6\"><span class=\"toc-item-num\">3.6&nbsp;&nbsp;</span>Соотнесем выводы с продажами на других топовых платформах.</a></span></li><li><span><a href=\"#Посмотрим-на-общее-распределение-игр-по-жанрам.\" data-toc-modified-id=\"Посмотрим-на-общее-распределение-игр-по-жанрам.-3.7\"><span class=\"toc-item-num\">3.7&nbsp;&nbsp;</span>Посмотрим на общее распределение игр по жанрам.</a></span></li></ul></li><li><span><a href=\"#Составим-портрет-пользователя-каждого-региона\" data-toc-modified-id=\"Составим-портрет-пользователя-каждого-региона-4\"><span class=\"toc-item-num\">4&nbsp;&nbsp;</span>Составим портрет пользователя каждого региона</a></span><ul class=\"toc-item\"><li><span><a href=\"#Самые-популярные-платформы-(топ-5).\" data-toc-modified-id=\"Самые-популярные-платформы-(топ-5).-4.1\"><span class=\"toc-item-num\">4.1&nbsp;&nbsp;</span>Самые популярные платформы (топ-5).</a></span></li><li><span><a href=\"#Самые-популярные-жанры-(топ-5).\" data-toc-modified-id=\"Самые-популярные-жанры-(топ-5).-4.2\"><span class=\"toc-item-num\">4.2&nbsp;&nbsp;</span>Самые популярные жанры (топ-5).</a></span></li><li><span><a href=\"#Влияет-ли-рейтинг-ESRB-на-продажи-в-отдельном-регионе?\" data-toc-modified-id=\"Влияет-ли-рейтинг-ESRB-на-продажи-в-отдельном-регионе?-4.3\"><span class=\"toc-item-num\">4.3&nbsp;&nbsp;</span>Влияет ли рейтинг ESRB на продажи в отдельном регионе?</a></span></li></ul></li><li><span><a href=\"#Проверка-гипотез\" data-toc-modified-id=\"Проверка-гипотез-5\"><span class=\"toc-item-num\">5&nbsp;&nbsp;</span>Проверка гипотез</a></span><ul class=\"toc-item\"><li><span><a href=\"#Средние-пользовательские-рейтинги-платформ-Xbox-One-и-PC-одинаковые\" data-toc-modified-id=\"Средние-пользовательские-рейтинги-платформ-Xbox-One-и-PC-одинаковые-5.1\"><span class=\"toc-item-num\">5.1&nbsp;&nbsp;</span>Средние пользовательские рейтинги платформ Xbox One и PC одинаковые</a></span></li><li><span><a href=\"#Средние-пользовательские-рейтинги-жанров-Action-(англ.-«действие»,-экшен-игры)-и-Sports-(англ.-«спортивные-соревнования»)-разные.\" data-toc-modified-id=\"Средние-пользовательские-рейтинги-жанров-Action-(англ.-«действие»,-экшен-игры)-и-Sports-(англ.-«спортивные-соревнования»)-разные.-5.2\"><span class=\"toc-item-num\">5.2&nbsp;&nbsp;</span>Средние пользовательские рейтинги жанров Action (англ. «действие», экшен-игры) и Sports (англ. «спортивные соревнования») разные.</a></span></li></ul></li></ul></div>"
   ]
  },
  {
   "cell_type": "markdown",
   "metadata": {},
   "source": [
    "# Анализ игрового рынка на 2017 год."
   ]
  },
  {
   "cell_type": "markdown",
   "metadata": {},
   "source": [
    "Целью текущей работы является анализ имеющихся данных по продажам игрового рынка с 1978 по конец 2016 года для интернет-магазина видеоигр с целью выявления закономерностей и взаимосвязей между различными жанрами и платформами для нахождения путей повышения продаж в 2017 году."
   ]
  },
  {
   "cell_type": "markdown",
   "metadata": {},
   "source": [
    "## Обзор данных"
   ]
  },
  {
   "cell_type": "code",
   "execution_count": 1,
   "metadata": {},
   "outputs": [],
   "source": [
    "import matplotlib.pyplot as plt\n",
    "import numpy as np\n",
    "import pandas as pd\n",
    "import seaborn as sns\n",
    "\n",
    "from scipy import stats as st"
   ]
  },
  {
   "cell_type": "code",
   "execution_count": 2,
   "metadata": {},
   "outputs": [],
   "source": [
    "df = pd.read_csv(r'C:\\datasets\\games.csv')"
   ]
  },
  {
   "cell_type": "code",
   "execution_count": 3,
   "metadata": {},
   "outputs": [
    {
     "name": "stdout",
     "output_type": "stream",
     "text": [
      "<class 'pandas.core.frame.DataFrame'>\n",
      "RangeIndex: 16715 entries, 0 to 16714\n",
      "Data columns (total 11 columns):\n",
      "Name               16713 non-null object\n",
      "Platform           16715 non-null object\n",
      "Year_of_Release    16446 non-null float64\n",
      "Genre              16713 non-null object\n",
      "NA_sales           16715 non-null float64\n",
      "EU_sales           16715 non-null float64\n",
      "JP_sales           16715 non-null float64\n",
      "Other_sales        16715 non-null float64\n",
      "Critic_Score       8137 non-null float64\n",
      "User_Score         10014 non-null object\n",
      "Rating             9949 non-null object\n",
      "dtypes: float64(6), object(5)\n",
      "memory usage: 1.4+ MB\n"
     ]
    }
   ],
   "source": [
    "df.info()"
   ]
  },
  {
   "cell_type": "markdown",
   "metadata": {},
   "source": [
    "### Описание данных"
   ]
  },
  {
   "cell_type": "markdown",
   "metadata": {},
   "source": [
    "Описание данных\n",
    "\n",
    "    Name — название игры\n",
    "    Platform — платформа\n",
    "    Year_of_Release — год выпуска\n",
    "    Genre — жанр игры\n",
    "    NA_sales — продажи в Северной Америке (миллионы проданных копий)\n",
    "    EU_sales — продажи в Европе (миллионы проданных копий)\n",
    "    JP_sales — продажи в Японии (миллионы проданных копий)\n",
    "    Other_sales — продажи в других странах (миллионы проданных копий)\n",
    "    Critic_Score — оценка критиков (максимум 100)\n",
    "    User_Score — оценка пользователей (максимум 10)\n",
    "    Rating — рейтинг от организации ESRB (англ. Entertainment Software Rating Board). Эта ассоциация определяет рейтинг компьютерных игр и присваивает им подходящую возрастную категорию."
   ]
  },
  {
   "cell_type": "markdown",
   "metadata": {},
   "source": [
    "## Подготовка данных"
   ]
  },
  {
   "cell_type": "markdown",
   "metadata": {},
   "source": [
    "### Регистр"
   ]
  },
  {
   "cell_type": "code",
   "execution_count": 4,
   "metadata": {},
   "outputs": [
    {
     "data": {
      "text/plain": [
       "Index(['Name', 'Platform', 'Year_of_Release', 'Genre', 'NA_sales', 'EU_sales',\n",
       "       'JP_sales', 'Other_sales', 'Critic_Score', 'User_Score', 'Rating'],\n",
       "      dtype='object')"
      ]
     },
     "execution_count": 4,
     "metadata": {},
     "output_type": "execute_result"
    }
   ],
   "source": [
    "df.columns"
   ]
  },
  {
   "cell_type": "code",
   "execution_count": 5,
   "metadata": {},
   "outputs": [],
   "source": [
    "df.columns = df.columns.str.lower()"
   ]
  },
  {
   "cell_type": "code",
   "execution_count": 6,
   "metadata": {},
   "outputs": [
    {
     "data": {
      "text/html": [
       "<div>\n",
       "<style scoped>\n",
       "    .dataframe tbody tr th:only-of-type {\n",
       "        vertical-align: middle;\n",
       "    }\n",
       "\n",
       "    .dataframe tbody tr th {\n",
       "        vertical-align: top;\n",
       "    }\n",
       "\n",
       "    .dataframe thead th {\n",
       "        text-align: right;\n",
       "    }\n",
       "</style>\n",
       "<table border=\"1\" class=\"dataframe\">\n",
       "  <thead>\n",
       "    <tr style=\"text-align: right;\">\n",
       "      <th></th>\n",
       "      <th>name</th>\n",
       "      <th>platform</th>\n",
       "      <th>year_of_release</th>\n",
       "      <th>genre</th>\n",
       "      <th>na_sales</th>\n",
       "      <th>eu_sales</th>\n",
       "      <th>jp_sales</th>\n",
       "      <th>other_sales</th>\n",
       "      <th>critic_score</th>\n",
       "      <th>user_score</th>\n",
       "      <th>rating</th>\n",
       "    </tr>\n",
       "  </thead>\n",
       "  <tbody>\n",
       "    <tr>\n",
       "      <td>0</td>\n",
       "      <td>Wii Sports</td>\n",
       "      <td>Wii</td>\n",
       "      <td>2006.0</td>\n",
       "      <td>Sports</td>\n",
       "      <td>41.36</td>\n",
       "      <td>28.96</td>\n",
       "      <td>3.77</td>\n",
       "      <td>8.45</td>\n",
       "      <td>76.0</td>\n",
       "      <td>8</td>\n",
       "      <td>E</td>\n",
       "    </tr>\n",
       "    <tr>\n",
       "      <td>1</td>\n",
       "      <td>Super Mario Bros.</td>\n",
       "      <td>NES</td>\n",
       "      <td>1985.0</td>\n",
       "      <td>Platform</td>\n",
       "      <td>29.08</td>\n",
       "      <td>3.58</td>\n",
       "      <td>6.81</td>\n",
       "      <td>0.77</td>\n",
       "      <td>NaN</td>\n",
       "      <td>NaN</td>\n",
       "      <td>NaN</td>\n",
       "    </tr>\n",
       "    <tr>\n",
       "      <td>2</td>\n",
       "      <td>Mario Kart Wii</td>\n",
       "      <td>Wii</td>\n",
       "      <td>2008.0</td>\n",
       "      <td>Racing</td>\n",
       "      <td>15.68</td>\n",
       "      <td>12.76</td>\n",
       "      <td>3.79</td>\n",
       "      <td>3.29</td>\n",
       "      <td>82.0</td>\n",
       "      <td>8.3</td>\n",
       "      <td>E</td>\n",
       "    </tr>\n",
       "  </tbody>\n",
       "</table>\n",
       "</div>"
      ],
      "text/plain": [
       "                name platform  year_of_release     genre  na_sales  eu_sales  \\\n",
       "0         Wii Sports      Wii           2006.0    Sports     41.36     28.96   \n",
       "1  Super Mario Bros.      NES           1985.0  Platform     29.08      3.58   \n",
       "2     Mario Kart Wii      Wii           2008.0    Racing     15.68     12.76   \n",
       "\n",
       "   jp_sales  other_sales  critic_score user_score rating  \n",
       "0      3.77         8.45          76.0          8      E  \n",
       "1      6.81         0.77           NaN        NaN    NaN  \n",
       "2      3.79         3.29          82.0        8.3      E  "
      ]
     },
     "execution_count": 6,
     "metadata": {},
     "output_type": "execute_result"
    }
   ],
   "source": [
    "df.head(3)"
   ]
  },
  {
   "cell_type": "markdown",
   "metadata": {},
   "source": [
    "### Типы"
   ]
  },
  {
   "cell_type": "code",
   "execution_count": 7,
   "metadata": {},
   "outputs": [
    {
     "name": "stdout",
     "output_type": "stream",
     "text": [
      "<class 'pandas.core.frame.DataFrame'>\n",
      "RangeIndex: 16715 entries, 0 to 16714\n",
      "Data columns (total 11 columns):\n",
      "name               16713 non-null object\n",
      "platform           16715 non-null object\n",
      "year_of_release    16446 non-null float64\n",
      "genre              16713 non-null object\n",
      "na_sales           16715 non-null float64\n",
      "eu_sales           16715 non-null float64\n",
      "jp_sales           16715 non-null float64\n",
      "other_sales        16715 non-null float64\n",
      "critic_score       8137 non-null float64\n",
      "user_score         10014 non-null object\n",
      "rating             9949 non-null object\n",
      "dtypes: float64(6), object(5)\n",
      "memory usage: 1.4+ MB\n"
     ]
    }
   ],
   "source": [
    "df.info()"
   ]
  },
  {
   "cell_type": "markdown",
   "metadata": {},
   "source": [
    "Возможно стоит перевести столбец year_of_release в int, так как год выпуска это целое число."
   ]
  },
  {
   "cell_type": "code",
   "execution_count": 8,
   "metadata": {},
   "outputs": [],
   "source": [
    "df['year_of_release'] = df['year_of_release'].astype('Int32') # так перевожу в целочисленный формат не заполняя NaN"
   ]
  },
  {
   "cell_type": "markdown",
   "metadata": {},
   "source": [
    "Также нам надо перевести столбец user_score в числовое выражение, однако нам мешает значение 'tbd' в столбце.\n",
    "TBD в применении к оценкам и рейтингам обычно означает \"To Be Determined\", что в вольном переводе означает \"Ещё не определено\". Посмотрим вообще как выглядят строки с \"tbd\" и сколько их."
   ]
  },
  {
   "cell_type": "code",
   "execution_count": 9,
   "metadata": {},
   "outputs": [
    {
     "data": {
      "text/plain": [
       "array(['8', nan, '8.3', '8.5', '6.6', '8.4', '8.6', '7.7', '6.3', '7.4',\n",
       "       '8.2', '9', '7.9', '8.1', '8.7', '7.1', '3.4', '5.3', '4.8', '3.2',\n",
       "       '8.9', '6.4', '7.8', '7.5', '2.6', '7.2', '9.2', '7', '7.3', '4.3',\n",
       "       '7.6', '5.7', '5', '9.1', '6.5', 'tbd', '8.8', '6.9', '9.4', '6.8',\n",
       "       '6.1', '6.7', '5.4', '4', '4.9', '4.5', '9.3', '6.2', '4.2', '6',\n",
       "       '3.7', '4.1', '5.8', '5.6', '5.5', '4.4', '4.6', '5.9', '3.9',\n",
       "       '3.1', '2.9', '5.2', '3.3', '4.7', '5.1', '3.5', '2.5', '1.9', '3',\n",
       "       '2.7', '2.2', '2', '9.5', '2.1', '3.6', '2.8', '1.8', '3.8', '0',\n",
       "       '1.6', '9.6', '2.4', '1.7', '1.1', '0.3', '1.5', '0.7', '1.2',\n",
       "       '2.3', '0.5', '1.3', '0.2', '0.6', '1.4', '0.9', '1', '9.7'],\n",
       "      dtype=object)"
      ]
     },
     "execution_count": 9,
     "metadata": {},
     "output_type": "execute_result"
    }
   ],
   "source": [
    "df['user_score'].unique()"
   ]
  },
  {
   "cell_type": "code",
   "execution_count": 10,
   "metadata": {},
   "outputs": [
    {
     "data": {
      "text/plain": [
       "2424"
      ]
     },
     "execution_count": 10,
     "metadata": {},
     "output_type": "execute_result"
    }
   ],
   "source": [
    "len(df[df['user_score'] == 'tbd'])"
   ]
  },
  {
   "cell_type": "code",
   "execution_count": 11,
   "metadata": {},
   "outputs": [
    {
     "data": {
      "text/plain": [
       "count    2376.000000\n",
       "mean     2007.450337\n",
       "std         3.484229\n",
       "min      1997.000000\n",
       "25%      2005.000000\n",
       "50%      2008.000000\n",
       "75%      2010.000000\n",
       "max      2016.000000\n",
       "Name: year_of_release, dtype: float64"
      ]
     },
     "execution_count": 11,
     "metadata": {},
     "output_type": "execute_result"
    }
   ],
   "source": [
    "df[df['user_score'] == 'tbd']['year_of_release'].describe()"
   ]
  },
  {
   "cell_type": "markdown",
   "metadata": {},
   "source": [
    "Строк с \"tbd\" много, они распределены по всем годам предоставленных данных. Считаю, что к ним нужно отнестись также как к NaN.\n",
    "\n",
    "Переведём user_score в числовой формат и обNaNим tbd."
   ]
  },
  {
   "cell_type": "code",
   "execution_count": 12,
   "metadata": {},
   "outputs": [],
   "source": [
    "df['user_score'] = pd.to_numeric(df['user_score'], errors='coerce') # так с помощью errors='coerce' str перешли в NaN"
   ]
  },
  {
   "cell_type": "code",
   "execution_count": 13,
   "metadata": {},
   "outputs": [],
   "source": [
    "#df.info()"
   ]
  },
  {
   "cell_type": "markdown",
   "metadata": {},
   "source": [
    "### Пропуски"
   ]
  },
  {
   "cell_type": "code",
   "execution_count": 14,
   "metadata": {},
   "outputs": [
    {
     "name": "stdout",
     "output_type": "stream",
     "text": [
      "<class 'pandas.core.frame.DataFrame'>\n",
      "RangeIndex: 16715 entries, 0 to 16714\n",
      "Data columns (total 11 columns):\n",
      "name               16713 non-null object\n",
      "platform           16715 non-null object\n",
      "year_of_release    16446 non-null Int32\n",
      "genre              16713 non-null object\n",
      "na_sales           16715 non-null float64\n",
      "eu_sales           16715 non-null float64\n",
      "jp_sales           16715 non-null float64\n",
      "other_sales        16715 non-null float64\n",
      "critic_score       8137 non-null float64\n",
      "user_score         7590 non-null float64\n",
      "rating             9949 non-null object\n",
      "dtypes: Int32(1), float64(6), object(4)\n",
      "memory usage: 1.4+ MB\n"
     ]
    }
   ],
   "source": [
    "df.info()"
   ]
  },
  {
   "cell_type": "markdown",
   "metadata": {},
   "source": [
    "Итак, рассмотрим первый столбец с пропусками, 'name'."
   ]
  },
  {
   "cell_type": "code",
   "execution_count": 15,
   "metadata": {},
   "outputs": [
    {
     "data": {
      "text/html": [
       "<div>\n",
       "<style scoped>\n",
       "    .dataframe tbody tr th:only-of-type {\n",
       "        vertical-align: middle;\n",
       "    }\n",
       "\n",
       "    .dataframe tbody tr th {\n",
       "        vertical-align: top;\n",
       "    }\n",
       "\n",
       "    .dataframe thead th {\n",
       "        text-align: right;\n",
       "    }\n",
       "</style>\n",
       "<table border=\"1\" class=\"dataframe\">\n",
       "  <thead>\n",
       "    <tr style=\"text-align: right;\">\n",
       "      <th></th>\n",
       "      <th>name</th>\n",
       "      <th>platform</th>\n",
       "      <th>year_of_release</th>\n",
       "      <th>genre</th>\n",
       "      <th>na_sales</th>\n",
       "      <th>eu_sales</th>\n",
       "      <th>jp_sales</th>\n",
       "      <th>other_sales</th>\n",
       "      <th>critic_score</th>\n",
       "      <th>user_score</th>\n",
       "      <th>rating</th>\n",
       "    </tr>\n",
       "  </thead>\n",
       "  <tbody>\n",
       "    <tr>\n",
       "      <td>659</td>\n",
       "      <td>NaN</td>\n",
       "      <td>GEN</td>\n",
       "      <td>1993</td>\n",
       "      <td>NaN</td>\n",
       "      <td>1.78</td>\n",
       "      <td>0.53</td>\n",
       "      <td>0.00</td>\n",
       "      <td>0.08</td>\n",
       "      <td>NaN</td>\n",
       "      <td>NaN</td>\n",
       "      <td>NaN</td>\n",
       "    </tr>\n",
       "    <tr>\n",
       "      <td>14244</td>\n",
       "      <td>NaN</td>\n",
       "      <td>GEN</td>\n",
       "      <td>1993</td>\n",
       "      <td>NaN</td>\n",
       "      <td>0.00</td>\n",
       "      <td>0.00</td>\n",
       "      <td>0.03</td>\n",
       "      <td>0.00</td>\n",
       "      <td>NaN</td>\n",
       "      <td>NaN</td>\n",
       "      <td>NaN</td>\n",
       "    </tr>\n",
       "  </tbody>\n",
       "</table>\n",
       "</div>"
      ],
      "text/plain": [
       "      name platform  year_of_release genre  na_sales  eu_sales  jp_sales  \\\n",
       "659    NaN      GEN             1993   NaN      1.78      0.53      0.00   \n",
       "14244  NaN      GEN             1993   NaN      0.00      0.00      0.03   \n",
       "\n",
       "       other_sales  critic_score  user_score rating  \n",
       "659           0.08           NaN         NaN    NaN  \n",
       "14244         0.00           NaN         NaN    NaN  "
      ]
     },
     "execution_count": 15,
     "metadata": {},
     "output_type": "execute_result"
    }
   ],
   "source": [
    "df[df['name'].isna()]"
   ]
  },
  {
   "cell_type": "markdown",
   "metadata": {},
   "source": [
    "Видим две игры, выпущенные для Sega Genesis(Sega MegaDrive) в 1993, про которые известны только цифры продаж. Учитывая специфику рынка и то, что данные по продажам по регионам дополняющие(в одной строке данные по всем регионам кроме Японии, а в другой - только по Японии), можно предположить, что это одна и та же игра, но выпущенная для разных рынков.\n",
    "\n",
    "Для платформы Genesis и 1993 года значения продаж у строчки 659 весьма внушительные. Проверим это, посмотрев остальные игры этой платформы в таблице.\n"
   ]
  },
  {
   "cell_type": "code",
   "execution_count": 16,
   "metadata": {
    "scrolled": true
   },
   "outputs": [
    {
     "data": {
      "text/html": [
       "<div>\n",
       "<style scoped>\n",
       "    .dataframe tbody tr th:only-of-type {\n",
       "        vertical-align: middle;\n",
       "    }\n",
       "\n",
       "    .dataframe tbody tr th {\n",
       "        vertical-align: top;\n",
       "    }\n",
       "\n",
       "    .dataframe thead th {\n",
       "        text-align: right;\n",
       "    }\n",
       "</style>\n",
       "<table border=\"1\" class=\"dataframe\">\n",
       "  <thead>\n",
       "    <tr style=\"text-align: right;\">\n",
       "      <th></th>\n",
       "      <th>name</th>\n",
       "      <th>platform</th>\n",
       "      <th>year_of_release</th>\n",
       "      <th>genre</th>\n",
       "      <th>na_sales</th>\n",
       "      <th>eu_sales</th>\n",
       "      <th>jp_sales</th>\n",
       "      <th>other_sales</th>\n",
       "      <th>critic_score</th>\n",
       "      <th>user_score</th>\n",
       "      <th>rating</th>\n",
       "    </tr>\n",
       "  </thead>\n",
       "  <tbody>\n",
       "    <tr>\n",
       "      <td>145</td>\n",
       "      <td>Sonic the Hedgehog 2</td>\n",
       "      <td>GEN</td>\n",
       "      <td>1992</td>\n",
       "      <td>Platform</td>\n",
       "      <td>4.47</td>\n",
       "      <td>1.20</td>\n",
       "      <td>0.16</td>\n",
       "      <td>0.19</td>\n",
       "      <td>NaN</td>\n",
       "      <td>NaN</td>\n",
       "      <td>NaN</td>\n",
       "    </tr>\n",
       "    <tr>\n",
       "      <td>257</td>\n",
       "      <td>Sonic the Hedgehog</td>\n",
       "      <td>GEN</td>\n",
       "      <td>1991</td>\n",
       "      <td>Platform</td>\n",
       "      <td>3.03</td>\n",
       "      <td>0.91</td>\n",
       "      <td>0.26</td>\n",
       "      <td>0.13</td>\n",
       "      <td>NaN</td>\n",
       "      <td>NaN</td>\n",
       "      <td>NaN</td>\n",
       "    </tr>\n",
       "    <tr>\n",
       "      <td>564</td>\n",
       "      <td>Mortal Kombat</td>\n",
       "      <td>GEN</td>\n",
       "      <td>1992</td>\n",
       "      <td>Fighting</td>\n",
       "      <td>1.95</td>\n",
       "      <td>0.63</td>\n",
       "      <td>0.00</td>\n",
       "      <td>0.09</td>\n",
       "      <td>NaN</td>\n",
       "      <td>NaN</td>\n",
       "      <td>NaN</td>\n",
       "    </tr>\n",
       "    <tr>\n",
       "      <td>588</td>\n",
       "      <td>Streets of Rage</td>\n",
       "      <td>GEN</td>\n",
       "      <td>1990</td>\n",
       "      <td>Action</td>\n",
       "      <td>1.86</td>\n",
       "      <td>0.55</td>\n",
       "      <td>0.11</td>\n",
       "      <td>0.08</td>\n",
       "      <td>NaN</td>\n",
       "      <td>NaN</td>\n",
       "      <td>NaN</td>\n",
       "    </tr>\n",
       "    <tr>\n",
       "      <td>659</td>\n",
       "      <td>NaN</td>\n",
       "      <td>GEN</td>\n",
       "      <td>1993</td>\n",
       "      <td>NaN</td>\n",
       "      <td>1.78</td>\n",
       "      <td>0.53</td>\n",
       "      <td>0.00</td>\n",
       "      <td>0.08</td>\n",
       "      <td>NaN</td>\n",
       "      <td>NaN</td>\n",
       "      <td>NaN</td>\n",
       "    </tr>\n",
       "    <tr>\n",
       "      <td>832</td>\n",
       "      <td>NBA Jam</td>\n",
       "      <td>GEN</td>\n",
       "      <td>1992</td>\n",
       "      <td>Sports</td>\n",
       "      <td>1.75</td>\n",
       "      <td>0.25</td>\n",
       "      <td>0.00</td>\n",
       "      <td>0.05</td>\n",
       "      <td>NaN</td>\n",
       "      <td>NaN</td>\n",
       "      <td>NaN</td>\n",
       "    </tr>\n",
       "    <tr>\n",
       "      <td>960</td>\n",
       "      <td>Sonic &amp; Knuckles</td>\n",
       "      <td>GEN</td>\n",
       "      <td>1994</td>\n",
       "      <td>Platform</td>\n",
       "      <td>1.24</td>\n",
       "      <td>0.43</td>\n",
       "      <td>0.03</td>\n",
       "      <td>0.12</td>\n",
       "      <td>NaN</td>\n",
       "      <td>NaN</td>\n",
       "      <td>NaN</td>\n",
       "    </tr>\n",
       "    <tr>\n",
       "      <td>996</td>\n",
       "      <td>Sonic the Hedgehog 3</td>\n",
       "      <td>GEN</td>\n",
       "      <td>1994</td>\n",
       "      <td>Platform</td>\n",
       "      <td>1.02</td>\n",
       "      <td>0.47</td>\n",
       "      <td>0.20</td>\n",
       "      <td>0.07</td>\n",
       "      <td>NaN</td>\n",
       "      <td>NaN</td>\n",
       "      <td>NaN</td>\n",
       "    </tr>\n",
       "    <tr>\n",
       "      <td>1099</td>\n",
       "      <td>Street Fighter II': Special Champion Edition</td>\n",
       "      <td>GEN</td>\n",
       "      <td>1992</td>\n",
       "      <td>Fighting</td>\n",
       "      <td>1.00</td>\n",
       "      <td>0.30</td>\n",
       "      <td>0.31</td>\n",
       "      <td>0.04</td>\n",
       "      <td>NaN</td>\n",
       "      <td>NaN</td>\n",
       "      <td>NaN</td>\n",
       "    </tr>\n",
       "    <tr>\n",
       "      <td>1365</td>\n",
       "      <td>Disney's The Lion King</td>\n",
       "      <td>GEN</td>\n",
       "      <td>1994</td>\n",
       "      <td>Platform</td>\n",
       "      <td>0.97</td>\n",
       "      <td>0.37</td>\n",
       "      <td>0.03</td>\n",
       "      <td>0.05</td>\n",
       "      <td>NaN</td>\n",
       "      <td>NaN</td>\n",
       "      <td>NaN</td>\n",
       "    </tr>\n",
       "    <tr>\n",
       "      <td>1453</td>\n",
       "      <td>Mortal Kombat 3</td>\n",
       "      <td>GEN</td>\n",
       "      <td>1994</td>\n",
       "      <td>Fighting</td>\n",
       "      <td>1.03</td>\n",
       "      <td>0.27</td>\n",
       "      <td>0.00</td>\n",
       "      <td>0.04</td>\n",
       "      <td>NaN</td>\n",
       "      <td>NaN</td>\n",
       "      <td>NaN</td>\n",
       "    </tr>\n",
       "    <tr>\n",
       "      <td>1842</td>\n",
       "      <td>NBA Jam Tournament Edition</td>\n",
       "      <td>GEN</td>\n",
       "      <td>1994</td>\n",
       "      <td>Sports</td>\n",
       "      <td>0.95</td>\n",
       "      <td>0.14</td>\n",
       "      <td>0.00</td>\n",
       "      <td>0.03</td>\n",
       "      <td>NaN</td>\n",
       "      <td>NaN</td>\n",
       "      <td>NaN</td>\n",
       "    </tr>\n",
       "    <tr>\n",
       "      <td>6451</td>\n",
       "      <td>Virtua Racing</td>\n",
       "      <td>GEN</td>\n",
       "      <td>1994</td>\n",
       "      <td>Racing</td>\n",
       "      <td>0.00</td>\n",
       "      <td>0.00</td>\n",
       "      <td>0.26</td>\n",
       "      <td>0.00</td>\n",
       "      <td>NaN</td>\n",
       "      <td>NaN</td>\n",
       "      <td>NaN</td>\n",
       "    </tr>\n",
       "    <tr>\n",
       "      <td>7885</td>\n",
       "      <td>Shining Force II</td>\n",
       "      <td>GEN</td>\n",
       "      <td>1993</td>\n",
       "      <td>Strategy</td>\n",
       "      <td>0.00</td>\n",
       "      <td>0.00</td>\n",
       "      <td>0.19</td>\n",
       "      <td>0.00</td>\n",
       "      <td>NaN</td>\n",
       "      <td>NaN</td>\n",
       "      <td>NaN</td>\n",
       "    </tr>\n",
       "    <tr>\n",
       "      <td>8893</td>\n",
       "      <td>Super Street Fighter II</td>\n",
       "      <td>GEN</td>\n",
       "      <td>1993</td>\n",
       "      <td>Fighting</td>\n",
       "      <td>0.00</td>\n",
       "      <td>0.00</td>\n",
       "      <td>0.15</td>\n",
       "      <td>0.00</td>\n",
       "      <td>NaN</td>\n",
       "      <td>NaN</td>\n",
       "      <td>NaN</td>\n",
       "    </tr>\n",
       "    <tr>\n",
       "      <td>9000</td>\n",
       "      <td>Lunar 2: Eternal Blue(sales, but wrong system)</td>\n",
       "      <td>GEN</td>\n",
       "      <td>1994</td>\n",
       "      <td>Role-Playing</td>\n",
       "      <td>0.00</td>\n",
       "      <td>0.00</td>\n",
       "      <td>0.14</td>\n",
       "      <td>0.00</td>\n",
       "      <td>NaN</td>\n",
       "      <td>NaN</td>\n",
       "      <td>NaN</td>\n",
       "    </tr>\n",
       "    <tr>\n",
       "      <td>9563</td>\n",
       "      <td>Gunstar Heroes</td>\n",
       "      <td>GEN</td>\n",
       "      <td>1992</td>\n",
       "      <td>Shooter</td>\n",
       "      <td>0.00</td>\n",
       "      <td>0.00</td>\n",
       "      <td>0.13</td>\n",
       "      <td>0.00</td>\n",
       "      <td>NaN</td>\n",
       "      <td>NaN</td>\n",
       "      <td>NaN</td>\n",
       "    </tr>\n",
       "    <tr>\n",
       "      <td>9787</td>\n",
       "      <td>Ecco the Dolphin</td>\n",
       "      <td>GEN</td>\n",
       "      <td>1992</td>\n",
       "      <td>Adventure</td>\n",
       "      <td>0.00</td>\n",
       "      <td>0.00</td>\n",
       "      <td>0.12</td>\n",
       "      <td>0.00</td>\n",
       "      <td>NaN</td>\n",
       "      <td>NaN</td>\n",
       "      <td>NaN</td>\n",
       "    </tr>\n",
       "    <tr>\n",
       "      <td>11563</td>\n",
       "      <td>Yuu Yuu Hakusho: Makyo Toitsusen</td>\n",
       "      <td>GEN</td>\n",
       "      <td>1994</td>\n",
       "      <td>Fighting</td>\n",
       "      <td>0.00</td>\n",
       "      <td>0.00</td>\n",
       "      <td>0.08</td>\n",
       "      <td>0.00</td>\n",
       "      <td>NaN</td>\n",
       "      <td>NaN</td>\n",
       "      <td>NaN</td>\n",
       "    </tr>\n",
       "    <tr>\n",
       "      <td>11660</td>\n",
       "      <td>Dragon Slayer: The Legend of Heroes</td>\n",
       "      <td>GEN</td>\n",
       "      <td>1994</td>\n",
       "      <td>Role-Playing</td>\n",
       "      <td>0.00</td>\n",
       "      <td>0.00</td>\n",
       "      <td>0.08</td>\n",
       "      <td>0.00</td>\n",
       "      <td>NaN</td>\n",
       "      <td>NaN</td>\n",
       "      <td>NaN</td>\n",
       "    </tr>\n",
       "    <tr>\n",
       "      <td>11986</td>\n",
       "      <td>Ecco: The Tides of Time</td>\n",
       "      <td>GEN</td>\n",
       "      <td>1993</td>\n",
       "      <td>Adventure</td>\n",
       "      <td>0.00</td>\n",
       "      <td>0.00</td>\n",
       "      <td>0.07</td>\n",
       "      <td>0.00</td>\n",
       "      <td>NaN</td>\n",
       "      <td>NaN</td>\n",
       "      <td>NaN</td>\n",
       "    </tr>\n",
       "    <tr>\n",
       "      <td>12098</td>\n",
       "      <td>Street Fighter II': Special Champion Edition (...</td>\n",
       "      <td>GEN</td>\n",
       "      <td>1993</td>\n",
       "      <td>Action</td>\n",
       "      <td>0.00</td>\n",
       "      <td>0.00</td>\n",
       "      <td>0.07</td>\n",
       "      <td>0.00</td>\n",
       "      <td>NaN</td>\n",
       "      <td>NaN</td>\n",
       "      <td>NaN</td>\n",
       "    </tr>\n",
       "    <tr>\n",
       "      <td>12264</td>\n",
       "      <td>Streets of Rage 3</td>\n",
       "      <td>GEN</td>\n",
       "      <td>1993</td>\n",
       "      <td>Action</td>\n",
       "      <td>0.00</td>\n",
       "      <td>0.00</td>\n",
       "      <td>0.07</td>\n",
       "      <td>0.00</td>\n",
       "      <td>NaN</td>\n",
       "      <td>NaN</td>\n",
       "      <td>NaN</td>\n",
       "    </tr>\n",
       "    <tr>\n",
       "      <td>12984</td>\n",
       "      <td>Dynamite Headdy</td>\n",
       "      <td>GEN</td>\n",
       "      <td>1993</td>\n",
       "      <td>Platform</td>\n",
       "      <td>0.00</td>\n",
       "      <td>0.00</td>\n",
       "      <td>0.05</td>\n",
       "      <td>0.00</td>\n",
       "      <td>NaN</td>\n",
       "      <td>NaN</td>\n",
       "      <td>NaN</td>\n",
       "    </tr>\n",
       "    <tr>\n",
       "      <td>13343</td>\n",
       "      <td>Beyond Oasis</td>\n",
       "      <td>GEN</td>\n",
       "      <td>1993</td>\n",
       "      <td>Role-Playing</td>\n",
       "      <td>0.00</td>\n",
       "      <td>0.00</td>\n",
       "      <td>0.05</td>\n",
       "      <td>0.00</td>\n",
       "      <td>NaN</td>\n",
       "      <td>NaN</td>\n",
       "      <td>NaN</td>\n",
       "    </tr>\n",
       "    <tr>\n",
       "      <td>14085</td>\n",
       "      <td>J-League Pro Striker 2</td>\n",
       "      <td>GEN</td>\n",
       "      <td>1994</td>\n",
       "      <td>Sports</td>\n",
       "      <td>0.00</td>\n",
       "      <td>0.00</td>\n",
       "      <td>0.04</td>\n",
       "      <td>0.00</td>\n",
       "      <td>NaN</td>\n",
       "      <td>NaN</td>\n",
       "      <td>NaN</td>\n",
       "    </tr>\n",
       "    <tr>\n",
       "      <td>14132</td>\n",
       "      <td>Castlevania Bloodlines</td>\n",
       "      <td>GEN</td>\n",
       "      <td>1994</td>\n",
       "      <td>Platform</td>\n",
       "      <td>0.00</td>\n",
       "      <td>0.00</td>\n",
       "      <td>0.04</td>\n",
       "      <td>0.00</td>\n",
       "      <td>NaN</td>\n",
       "      <td>NaN</td>\n",
       "      <td>NaN</td>\n",
       "    </tr>\n",
       "    <tr>\n",
       "      <td>14244</td>\n",
       "      <td>NaN</td>\n",
       "      <td>GEN</td>\n",
       "      <td>1993</td>\n",
       "      <td>NaN</td>\n",
       "      <td>0.00</td>\n",
       "      <td>0.00</td>\n",
       "      <td>0.03</td>\n",
       "      <td>0.00</td>\n",
       "      <td>NaN</td>\n",
       "      <td>NaN</td>\n",
       "      <td>NaN</td>\n",
       "    </tr>\n",
       "    <tr>\n",
       "      <td>14488</td>\n",
       "      <td>Puzzle &amp; Action: Tant-R</td>\n",
       "      <td>GEN</td>\n",
       "      <td>1994</td>\n",
       "      <td>Misc</td>\n",
       "      <td>0.00</td>\n",
       "      <td>0.00</td>\n",
       "      <td>0.03</td>\n",
       "      <td>0.00</td>\n",
       "      <td>NaN</td>\n",
       "      <td>NaN</td>\n",
       "      <td>NaN</td>\n",
       "    </tr>\n",
       "  </tbody>\n",
       "</table>\n",
       "</div>"
      ],
      "text/plain": [
       "                                                    name platform  \\\n",
       "145                                 Sonic the Hedgehog 2      GEN   \n",
       "257                                   Sonic the Hedgehog      GEN   \n",
       "564                                        Mortal Kombat      GEN   \n",
       "588                                      Streets of Rage      GEN   \n",
       "659                                                  NaN      GEN   \n",
       "832                                              NBA Jam      GEN   \n",
       "960                                     Sonic & Knuckles      GEN   \n",
       "996                                 Sonic the Hedgehog 3      GEN   \n",
       "1099        Street Fighter II': Special Champion Edition      GEN   \n",
       "1365                              Disney's The Lion King      GEN   \n",
       "1453                                     Mortal Kombat 3      GEN   \n",
       "1842                          NBA Jam Tournament Edition      GEN   \n",
       "6451                                       Virtua Racing      GEN   \n",
       "7885                                    Shining Force II      GEN   \n",
       "8893                             Super Street Fighter II      GEN   \n",
       "9000      Lunar 2: Eternal Blue(sales, but wrong system)      GEN   \n",
       "9563                                      Gunstar Heroes      GEN   \n",
       "9787                                    Ecco the Dolphin      GEN   \n",
       "11563                   Yuu Yuu Hakusho: Makyo Toitsusen      GEN   \n",
       "11660                Dragon Slayer: The Legend of Heroes      GEN   \n",
       "11986                            Ecco: The Tides of Time      GEN   \n",
       "12098  Street Fighter II': Special Champion Edition (...      GEN   \n",
       "12264                                  Streets of Rage 3      GEN   \n",
       "12984                                    Dynamite Headdy      GEN   \n",
       "13343                                       Beyond Oasis      GEN   \n",
       "14085                             J-League Pro Striker 2      GEN   \n",
       "14132                             Castlevania Bloodlines      GEN   \n",
       "14244                                                NaN      GEN   \n",
       "14488                            Puzzle & Action: Tant-R      GEN   \n",
       "\n",
       "       year_of_release         genre  na_sales  eu_sales  jp_sales  \\\n",
       "145               1992      Platform      4.47      1.20      0.16   \n",
       "257               1991      Platform      3.03      0.91      0.26   \n",
       "564               1992      Fighting      1.95      0.63      0.00   \n",
       "588               1990        Action      1.86      0.55      0.11   \n",
       "659               1993           NaN      1.78      0.53      0.00   \n",
       "832               1992        Sports      1.75      0.25      0.00   \n",
       "960               1994      Platform      1.24      0.43      0.03   \n",
       "996               1994      Platform      1.02      0.47      0.20   \n",
       "1099              1992      Fighting      1.00      0.30      0.31   \n",
       "1365              1994      Platform      0.97      0.37      0.03   \n",
       "1453              1994      Fighting      1.03      0.27      0.00   \n",
       "1842              1994        Sports      0.95      0.14      0.00   \n",
       "6451              1994        Racing      0.00      0.00      0.26   \n",
       "7885              1993      Strategy      0.00      0.00      0.19   \n",
       "8893              1993      Fighting      0.00      0.00      0.15   \n",
       "9000              1994  Role-Playing      0.00      0.00      0.14   \n",
       "9563              1992       Shooter      0.00      0.00      0.13   \n",
       "9787              1992     Adventure      0.00      0.00      0.12   \n",
       "11563             1994      Fighting      0.00      0.00      0.08   \n",
       "11660             1994  Role-Playing      0.00      0.00      0.08   \n",
       "11986             1993     Adventure      0.00      0.00      0.07   \n",
       "12098             1993        Action      0.00      0.00      0.07   \n",
       "12264             1993        Action      0.00      0.00      0.07   \n",
       "12984             1993      Platform      0.00      0.00      0.05   \n",
       "13343             1993  Role-Playing      0.00      0.00      0.05   \n",
       "14085             1994        Sports      0.00      0.00      0.04   \n",
       "14132             1994      Platform      0.00      0.00      0.04   \n",
       "14244             1993           NaN      0.00      0.00      0.03   \n",
       "14488             1994          Misc      0.00      0.00      0.03   \n",
       "\n",
       "       other_sales  critic_score  user_score rating  \n",
       "145           0.19           NaN         NaN    NaN  \n",
       "257           0.13           NaN         NaN    NaN  \n",
       "564           0.09           NaN         NaN    NaN  \n",
       "588           0.08           NaN         NaN    NaN  \n",
       "659           0.08           NaN         NaN    NaN  \n",
       "832           0.05           NaN         NaN    NaN  \n",
       "960           0.12           NaN         NaN    NaN  \n",
       "996           0.07           NaN         NaN    NaN  \n",
       "1099          0.04           NaN         NaN    NaN  \n",
       "1365          0.05           NaN         NaN    NaN  \n",
       "1453          0.04           NaN         NaN    NaN  \n",
       "1842          0.03           NaN         NaN    NaN  \n",
       "6451          0.00           NaN         NaN    NaN  \n",
       "7885          0.00           NaN         NaN    NaN  \n",
       "8893          0.00           NaN         NaN    NaN  \n",
       "9000          0.00           NaN         NaN    NaN  \n",
       "9563          0.00           NaN         NaN    NaN  \n",
       "9787          0.00           NaN         NaN    NaN  \n",
       "11563         0.00           NaN         NaN    NaN  \n",
       "11660         0.00           NaN         NaN    NaN  \n",
       "11986         0.00           NaN         NaN    NaN  \n",
       "12098         0.00           NaN         NaN    NaN  \n",
       "12264         0.00           NaN         NaN    NaN  \n",
       "12984         0.00           NaN         NaN    NaN  \n",
       "13343         0.00           NaN         NaN    NaN  \n",
       "14085         0.00           NaN         NaN    NaN  \n",
       "14132         0.00           NaN         NaN    NaN  \n",
       "14244         0.00           NaN         NaN    NaN  \n",
       "14488         0.00           NaN         NaN    NaN  "
      ]
     },
     "execution_count": 16,
     "metadata": {},
     "output_type": "execute_result"
    }
   ],
   "source": [
    "df[df['platform'] == 'GEN']"
   ]
  },
  {
   "cell_type": "markdown",
   "metadata": {},
   "source": [
    "Посмотрев продажные цифры можно заключить, что эта игра легко занимает позицию в ТОП10 или даже ТОП5 по своей платформе вне зависимости от года выпуска.\n",
    "\n",
    "Изучив данные открытых источников, можно выяснить, что название этой игры - \"Mortal Kombat II\", так же цифрами косвенно подверждается, что второй NaN, строка 14244 - это тоже Mortal Kombat II, но её японский релиз.\n",
    "\n",
    "Зная название, мы можем также из открытых источников заполнить пропуски по этой игре в столбцах 'genre'=Fighting , 'critic_score'=86 и 'user_score' = 8.2.\n",
    "\n",
    "Пропуск значения в поле 'rating' мы заполнить в данном случае не можем, так как рейтинговая организация ESRB была основана только годом позже после появления этой игры.(хотя она наверняка получила бы рейтинг \"АО\" в то время)\n",
    "\n",
    "Очень интересным фактом является также то, что Mortal Kombat II сама по себе послужила одним из драйвером возникновения этого рейтингового агентства. Игра содержит большое обилие сцен графического физического насилия , её предыдущую часть приводили в пример на слушаниях американского конгресса по жестокости в видеоиграх в 1993 году, а саму Mortal Kombat II в 1994 полностью запретили в Германии и физически изымали из продаж.\n",
    "\n",
    "В пользу того, что строка 14244 - это японский релиз Mortal Kombat II, говорит так же то, что из-за озвученных проблем с цензурой для японского рынка она была выпущена отдельно с рядом графический изменений.\n",
    "\n",
    "Отбросить такую игру как \"Mortal Kombat II\" как NaNовую строку было бы неправильно как минимум с историко-культурной точки зрения.\n",
    "\n",
    "Список источников: \n",
    "\n",
    "    https://www.vgchartz.com/article/5397/retro-sales-game-of-the-day-mortal-kombat-ii/ - цифры продаж\n",
    "    \n",
    "    https://web.archive.org/web/20190321131001/https://www.gamerankings.com/genesis/563224-mortal-kombat-ii/index.html - оценка критиков\n",
    "    https://www.imdb.com/title/tt0203703/ratings/?ref_=tt_ov_rt - оценка пользователей\n",
    "\n",
    "    https://en.wikipedia.org/wiki/Controversies_surrounding_Mortal_Kombat - история, рейтинг, запреты"
   ]
  },
  {
   "cell_type": "markdown",
   "metadata": {},
   "source": [
    "Итак, зададим строке 659 следующие значения: 'name' - 'Mortal Kombat II', 'genre' - 'Fighting',  'critic_score' - 86, 'user_score' - 8.2, а также перенесём туда данные из 14244 строки(японский релиз MKII) 'jp_sales' - 0.03, и удалим строку 14244. 'rating' наверно всё-таки самовольно присваивать не стоит."
   ]
  },
  {
   "cell_type": "code",
   "execution_count": 17,
   "metadata": {},
   "outputs": [],
   "source": [
    "df.loc[659:659,['name', 'genre', 'critic_score', 'jp_sales', 'user_score']] = ['Mortal Kombat II', 'Fighting', 86, 0.03, 8.2]"
   ]
  },
  {
   "cell_type": "code",
   "execution_count": 18,
   "metadata": {},
   "outputs": [
    {
     "data": {
      "text/html": [
       "<div>\n",
       "<style scoped>\n",
       "    .dataframe tbody tr th:only-of-type {\n",
       "        vertical-align: middle;\n",
       "    }\n",
       "\n",
       "    .dataframe tbody tr th {\n",
       "        vertical-align: top;\n",
       "    }\n",
       "\n",
       "    .dataframe thead th {\n",
       "        text-align: right;\n",
       "    }\n",
       "</style>\n",
       "<table border=\"1\" class=\"dataframe\">\n",
       "  <thead>\n",
       "    <tr style=\"text-align: right;\">\n",
       "      <th></th>\n",
       "      <th>name</th>\n",
       "      <th>platform</th>\n",
       "      <th>year_of_release</th>\n",
       "      <th>genre</th>\n",
       "      <th>na_sales</th>\n",
       "      <th>eu_sales</th>\n",
       "      <th>jp_sales</th>\n",
       "      <th>other_sales</th>\n",
       "      <th>critic_score</th>\n",
       "      <th>user_score</th>\n",
       "      <th>rating</th>\n",
       "    </tr>\n",
       "  </thead>\n",
       "  <tbody>\n",
       "    <tr>\n",
       "      <td>14244</td>\n",
       "      <td>NaN</td>\n",
       "      <td>GEN</td>\n",
       "      <td>1993</td>\n",
       "      <td>NaN</td>\n",
       "      <td>0.0</td>\n",
       "      <td>0.0</td>\n",
       "      <td>0.03</td>\n",
       "      <td>0.0</td>\n",
       "      <td>NaN</td>\n",
       "      <td>NaN</td>\n",
       "      <td>NaN</td>\n",
       "    </tr>\n",
       "  </tbody>\n",
       "</table>\n",
       "</div>"
      ],
      "text/plain": [
       "      name platform  year_of_release genre  na_sales  eu_sales  jp_sales  \\\n",
       "14244  NaN      GEN             1993   NaN       0.0       0.0      0.03   \n",
       "\n",
       "       other_sales  critic_score  user_score rating  \n",
       "14244          0.0           NaN         NaN    NaN  "
      ]
     },
     "execution_count": 18,
     "metadata": {},
     "output_type": "execute_result"
    }
   ],
   "source": [
    "df.loc[14244:14244]"
   ]
  },
  {
   "cell_type": "code",
   "execution_count": 19,
   "metadata": {},
   "outputs": [],
   "source": [
    "df = df.drop(labels=[14244],axis=0).reset_index(drop=True)"
   ]
  },
  {
   "cell_type": "code",
   "execution_count": 20,
   "metadata": {},
   "outputs": [
    {
     "data": {
      "text/html": [
       "<div>\n",
       "<style scoped>\n",
       "    .dataframe tbody tr th:only-of-type {\n",
       "        vertical-align: middle;\n",
       "    }\n",
       "\n",
       "    .dataframe tbody tr th {\n",
       "        vertical-align: top;\n",
       "    }\n",
       "\n",
       "    .dataframe thead th {\n",
       "        text-align: right;\n",
       "    }\n",
       "</style>\n",
       "<table border=\"1\" class=\"dataframe\">\n",
       "  <thead>\n",
       "    <tr style=\"text-align: right;\">\n",
       "      <th></th>\n",
       "      <th>name</th>\n",
       "      <th>platform</th>\n",
       "      <th>year_of_release</th>\n",
       "      <th>genre</th>\n",
       "      <th>na_sales</th>\n",
       "      <th>eu_sales</th>\n",
       "      <th>jp_sales</th>\n",
       "      <th>other_sales</th>\n",
       "      <th>critic_score</th>\n",
       "      <th>user_score</th>\n",
       "      <th>rating</th>\n",
       "    </tr>\n",
       "  </thead>\n",
       "  <tbody>\n",
       "    <tr>\n",
       "      <td>14243</td>\n",
       "      <td>Superstars V8 Racing</td>\n",
       "      <td>PS3</td>\n",
       "      <td>2009</td>\n",
       "      <td>Racing</td>\n",
       "      <td>0.0</td>\n",
       "      <td>0.02</td>\n",
       "      <td>0.00</td>\n",
       "      <td>0.01</td>\n",
       "      <td>66.0</td>\n",
       "      <td>4.9</td>\n",
       "      <td>E</td>\n",
       "    </tr>\n",
       "    <tr>\n",
       "      <td>14244</td>\n",
       "      <td>Detective Conan: Phantom Rhapsody</td>\n",
       "      <td>3DS</td>\n",
       "      <td>2014</td>\n",
       "      <td>Action</td>\n",
       "      <td>0.0</td>\n",
       "      <td>0.00</td>\n",
       "      <td>0.03</td>\n",
       "      <td>0.00</td>\n",
       "      <td>NaN</td>\n",
       "      <td>NaN</td>\n",
       "      <td>NaN</td>\n",
       "    </tr>\n",
       "    <tr>\n",
       "      <td>14245</td>\n",
       "      <td>Mashiro Iro Symphony: *mutsu-no-hana</td>\n",
       "      <td>PSP</td>\n",
       "      <td>2011</td>\n",
       "      <td>Adventure</td>\n",
       "      <td>0.0</td>\n",
       "      <td>0.00</td>\n",
       "      <td>0.03</td>\n",
       "      <td>0.00</td>\n",
       "      <td>NaN</td>\n",
       "      <td>NaN</td>\n",
       "      <td>NaN</td>\n",
       "    </tr>\n",
       "  </tbody>\n",
       "</table>\n",
       "</div>"
      ],
      "text/plain": [
       "                                       name platform  year_of_release  \\\n",
       "14243                  Superstars V8 Racing      PS3             2009   \n",
       "14244     Detective Conan: Phantom Rhapsody      3DS             2014   \n",
       "14245  Mashiro Iro Symphony: *mutsu-no-hana      PSP             2011   \n",
       "\n",
       "           genre  na_sales  eu_sales  jp_sales  other_sales  critic_score  \\\n",
       "14243     Racing       0.0      0.02      0.00         0.01          66.0   \n",
       "14244     Action       0.0      0.00      0.03         0.00           NaN   \n",
       "14245  Adventure       0.0      0.00      0.03         0.00           NaN   \n",
       "\n",
       "       user_score rating  \n",
       "14243         4.9      E  \n",
       "14244         NaN    NaN  \n",
       "14245         NaN    NaN  "
      ]
     },
     "execution_count": 20,
     "metadata": {},
     "output_type": "execute_result"
    }
   ],
   "source": [
    "df.loc[14243:14245]"
   ]
  },
  {
   "cell_type": "code",
   "execution_count": 21,
   "metadata": {},
   "outputs": [
    {
     "name": "stdout",
     "output_type": "stream",
     "text": [
      "<class 'pandas.core.frame.DataFrame'>\n",
      "RangeIndex: 16714 entries, 0 to 16713\n",
      "Data columns (total 11 columns):\n",
      "name               16714 non-null object\n",
      "platform           16714 non-null object\n",
      "year_of_release    16445 non-null Int32\n",
      "genre              16714 non-null object\n",
      "na_sales           16714 non-null float64\n",
      "eu_sales           16714 non-null float64\n",
      "jp_sales           16714 non-null float64\n",
      "other_sales        16714 non-null float64\n",
      "critic_score       8138 non-null float64\n",
      "user_score         7591 non-null float64\n",
      "rating             9949 non-null object\n",
      "dtypes: Int32(1), float64(6), object(4)\n",
      "memory usage: 1.4+ MB\n"
     ]
    }
   ],
   "source": [
    "df.info()"
   ]
  },
  {
   "cell_type": "markdown",
   "metadata": {},
   "source": [
    "Остались пропуски в: year_of_release, critic_score, user_score, rating."
   ]
  },
  {
   "cell_type": "markdown",
   "metadata": {},
   "source": [
    "Создадим столбец с суммой продаж"
   ]
  },
  {
   "cell_type": "code",
   "execution_count": 22,
   "metadata": {},
   "outputs": [],
   "source": [
    "df['total_sales'] = df['na_sales'] + df['eu_sales'] + df['jp_sales'] + df['other_sales']"
   ]
  },
  {
   "cell_type": "markdown",
   "metadata": {},
   "source": [
    "Чтобы обработать пропуски в столбце посмотрим строки с пропусками, отсортированные по сумме продаж."
   ]
  },
  {
   "cell_type": "code",
   "execution_count": 23,
   "metadata": {},
   "outputs": [
    {
     "data": {
      "text/html": [
       "<div>\n",
       "<style scoped>\n",
       "    .dataframe tbody tr th:only-of-type {\n",
       "        vertical-align: middle;\n",
       "    }\n",
       "\n",
       "    .dataframe tbody tr th {\n",
       "        vertical-align: top;\n",
       "    }\n",
       "\n",
       "    .dataframe thead th {\n",
       "        text-align: right;\n",
       "    }\n",
       "</style>\n",
       "<table border=\"1\" class=\"dataframe\">\n",
       "  <thead>\n",
       "    <tr style=\"text-align: right;\">\n",
       "      <th></th>\n",
       "      <th>name</th>\n",
       "      <th>platform</th>\n",
       "      <th>year_of_release</th>\n",
       "      <th>genre</th>\n",
       "      <th>na_sales</th>\n",
       "      <th>eu_sales</th>\n",
       "      <th>jp_sales</th>\n",
       "      <th>other_sales</th>\n",
       "      <th>critic_score</th>\n",
       "      <th>user_score</th>\n",
       "      <th>rating</th>\n",
       "      <th>total_sales</th>\n",
       "    </tr>\n",
       "  </thead>\n",
       "  <tbody>\n",
       "    <tr>\n",
       "      <td>183</td>\n",
       "      <td>Madden NFL 2004</td>\n",
       "      <td>PS2</td>\n",
       "      <td>NaN</td>\n",
       "      <td>Sports</td>\n",
       "      <td>4.26</td>\n",
       "      <td>0.26</td>\n",
       "      <td>0.01</td>\n",
       "      <td>0.71</td>\n",
       "      <td>94.0</td>\n",
       "      <td>8.5</td>\n",
       "      <td>E</td>\n",
       "      <td>5.24</td>\n",
       "    </tr>\n",
       "    <tr>\n",
       "      <td>377</td>\n",
       "      <td>FIFA Soccer 2004</td>\n",
       "      <td>PS2</td>\n",
       "      <td>NaN</td>\n",
       "      <td>Sports</td>\n",
       "      <td>0.59</td>\n",
       "      <td>2.36</td>\n",
       "      <td>0.04</td>\n",
       "      <td>0.51</td>\n",
       "      <td>84.0</td>\n",
       "      <td>6.4</td>\n",
       "      <td>E</td>\n",
       "      <td>3.50</td>\n",
       "    </tr>\n",
       "    <tr>\n",
       "      <td>456</td>\n",
       "      <td>LEGO Batman: The Videogame</td>\n",
       "      <td>Wii</td>\n",
       "      <td>NaN</td>\n",
       "      <td>Action</td>\n",
       "      <td>1.80</td>\n",
       "      <td>0.97</td>\n",
       "      <td>0.00</td>\n",
       "      <td>0.29</td>\n",
       "      <td>74.0</td>\n",
       "      <td>7.9</td>\n",
       "      <td>E10+</td>\n",
       "      <td>3.06</td>\n",
       "    </tr>\n",
       "    <tr>\n",
       "      <td>475</td>\n",
       "      <td>wwe Smackdown vs. Raw 2006</td>\n",
       "      <td>PS2</td>\n",
       "      <td>NaN</td>\n",
       "      <td>Fighting</td>\n",
       "      <td>1.57</td>\n",
       "      <td>1.02</td>\n",
       "      <td>0.00</td>\n",
       "      <td>0.41</td>\n",
       "      <td>NaN</td>\n",
       "      <td>NaN</td>\n",
       "      <td>NaN</td>\n",
       "      <td>3.00</td>\n",
       "    </tr>\n",
       "    <tr>\n",
       "      <td>609</td>\n",
       "      <td>Space Invaders</td>\n",
       "      <td>2600</td>\n",
       "      <td>NaN</td>\n",
       "      <td>Shooter</td>\n",
       "      <td>2.36</td>\n",
       "      <td>0.14</td>\n",
       "      <td>0.00</td>\n",
       "      <td>0.03</td>\n",
       "      <td>NaN</td>\n",
       "      <td>NaN</td>\n",
       "      <td>NaN</td>\n",
       "      <td>2.53</td>\n",
       "    </tr>\n",
       "    <tr>\n",
       "      <td>627</td>\n",
       "      <td>Rock Band</td>\n",
       "      <td>X360</td>\n",
       "      <td>NaN</td>\n",
       "      <td>Misc</td>\n",
       "      <td>1.93</td>\n",
       "      <td>0.33</td>\n",
       "      <td>0.00</td>\n",
       "      <td>0.21</td>\n",
       "      <td>92.0</td>\n",
       "      <td>8.2</td>\n",
       "      <td>T</td>\n",
       "      <td>2.47</td>\n",
       "    </tr>\n",
       "    <tr>\n",
       "      <td>657</td>\n",
       "      <td>Frogger's Adventures: Temple of the Frog</td>\n",
       "      <td>GBA</td>\n",
       "      <td>NaN</td>\n",
       "      <td>Adventure</td>\n",
       "      <td>2.15</td>\n",
       "      <td>0.18</td>\n",
       "      <td>0.00</td>\n",
       "      <td>0.07</td>\n",
       "      <td>73.0</td>\n",
       "      <td>NaN</td>\n",
       "      <td>E</td>\n",
       "      <td>2.40</td>\n",
       "    </tr>\n",
       "    <tr>\n",
       "      <td>678</td>\n",
       "      <td>LEGO Indiana Jones: The Original Adventures</td>\n",
       "      <td>Wii</td>\n",
       "      <td>NaN</td>\n",
       "      <td>Action</td>\n",
       "      <td>1.51</td>\n",
       "      <td>0.61</td>\n",
       "      <td>0.00</td>\n",
       "      <td>0.21</td>\n",
       "      <td>78.0</td>\n",
       "      <td>6.6</td>\n",
       "      <td>E10+</td>\n",
       "      <td>2.33</td>\n",
       "    </tr>\n",
       "    <tr>\n",
       "      <td>719</td>\n",
       "      <td>Call of Duty 3</td>\n",
       "      <td>Wii</td>\n",
       "      <td>NaN</td>\n",
       "      <td>Shooter</td>\n",
       "      <td>1.17</td>\n",
       "      <td>0.84</td>\n",
       "      <td>0.00</td>\n",
       "      <td>0.23</td>\n",
       "      <td>69.0</td>\n",
       "      <td>6.7</td>\n",
       "      <td>T</td>\n",
       "      <td>2.24</td>\n",
       "    </tr>\n",
       "    <tr>\n",
       "      <td>805</td>\n",
       "      <td>Rock Band</td>\n",
       "      <td>Wii</td>\n",
       "      <td>NaN</td>\n",
       "      <td>Misc</td>\n",
       "      <td>1.33</td>\n",
       "      <td>0.56</td>\n",
       "      <td>0.00</td>\n",
       "      <td>0.20</td>\n",
       "      <td>80.0</td>\n",
       "      <td>6.3</td>\n",
       "      <td>T</td>\n",
       "      <td>2.09</td>\n",
       "    </tr>\n",
       "  </tbody>\n",
       "</table>\n",
       "</div>"
      ],
      "text/plain": [
       "                                            name platform  year_of_release  \\\n",
       "183                              Madden NFL 2004      PS2              NaN   \n",
       "377                             FIFA Soccer 2004      PS2              NaN   \n",
       "456                   LEGO Batman: The Videogame      Wii              NaN   \n",
       "475                   wwe Smackdown vs. Raw 2006      PS2              NaN   \n",
       "609                               Space Invaders     2600              NaN   \n",
       "627                                    Rock Band     X360              NaN   \n",
       "657     Frogger's Adventures: Temple of the Frog      GBA              NaN   \n",
       "678  LEGO Indiana Jones: The Original Adventures      Wii              NaN   \n",
       "719                               Call of Duty 3      Wii              NaN   \n",
       "805                                    Rock Band      Wii              NaN   \n",
       "\n",
       "         genre  na_sales  eu_sales  jp_sales  other_sales  critic_score  \\\n",
       "183     Sports      4.26      0.26      0.01         0.71          94.0   \n",
       "377     Sports      0.59      2.36      0.04         0.51          84.0   \n",
       "456     Action      1.80      0.97      0.00         0.29          74.0   \n",
       "475   Fighting      1.57      1.02      0.00         0.41           NaN   \n",
       "609    Shooter      2.36      0.14      0.00         0.03           NaN   \n",
       "627       Misc      1.93      0.33      0.00         0.21          92.0   \n",
       "657  Adventure      2.15      0.18      0.00         0.07          73.0   \n",
       "678     Action      1.51      0.61      0.00         0.21          78.0   \n",
       "719    Shooter      1.17      0.84      0.00         0.23          69.0   \n",
       "805       Misc      1.33      0.56      0.00         0.20          80.0   \n",
       "\n",
       "     user_score rating  total_sales  \n",
       "183         8.5      E         5.24  \n",
       "377         6.4      E         3.50  \n",
       "456         7.9   E10+         3.06  \n",
       "475         NaN    NaN         3.00  \n",
       "609         NaN    NaN         2.53  \n",
       "627         8.2      T         2.47  \n",
       "657         NaN      E         2.40  \n",
       "678         6.6   E10+         2.33  \n",
       "719         6.7      T         2.24  \n",
       "805         6.3      T         2.09  "
      ]
     },
     "execution_count": 23,
     "metadata": {},
     "output_type": "execute_result"
    }
   ],
   "source": [
    "df[df['year_of_release'].isna()].sort_values(by='total_sales', ascending=False).head(10)"
   ]
  },
  {
   "cell_type": "markdown",
   "metadata": {},
   "source": [
    "Далее в исследовании нам потребуется определить актуальный период и не использовать невходящие в него данные. Предлагаю сейчас вручную из открытых заполнить год выпуска у первых 5-6 строк по продажам, остальным присвоить маркер года \"1337\", всё равно их потом отбросим при выборе актуального периода."
   ]
  },
  {
   "cell_type": "code",
   "execution_count": 24,
   "metadata": {},
   "outputs": [],
   "source": [
    "indices = [183, 377, 456, 475, 609, 627]\n",
    "years = [2003, 2003, 2008, 2005, 1978, 2007]\n",
    "\n",
    "for i,j in zip(indices, years) :\n",
    "    df.loc[i:i, 'year_of_release'] = j"
   ]
  },
  {
   "cell_type": "code",
   "execution_count": 25,
   "metadata": {},
   "outputs": [],
   "source": [
    "df['year_of_release'] = df['year_of_release'].fillna(1337)"
   ]
  },
  {
   "cell_type": "code",
   "execution_count": 26,
   "metadata": {},
   "outputs": [],
   "source": [
    "df['year_of_release'] = df['year_of_release'].astype(int)"
   ]
  },
  {
   "cell_type": "code",
   "execution_count": 27,
   "metadata": {},
   "outputs": [],
   "source": [
    "#df.info()"
   ]
  },
  {
   "cell_type": "markdown",
   "metadata": {},
   "source": [
    "Обработаем пропуски в оценках пользователей и критиков, critic_score и user_score."
   ]
  },
  {
   "cell_type": "code",
   "execution_count": 28,
   "metadata": {},
   "outputs": [
    {
     "name": "stdout",
     "output_type": "stream",
     "text": [
      "8576 - пропусков в critic_score\n",
      "\n",
      "9123 - пропусков в user_score\n"
     ]
    }
   ],
   "source": [
    "print(len(df[df['critic_score'].isna()]), '- пропусков в critic_score')\n",
    "print()\n",
    "print(len(df[df['user_score'].isna()]), '- пропусков в user_score')"
   ]
  },
  {
   "cell_type": "code",
   "execution_count": 29,
   "metadata": {},
   "outputs": [
    {
     "data": {
      "text/plain": [
       "count    8138.000000\n",
       "mean       68.969771\n",
       "std        13.938587\n",
       "min        13.000000\n",
       "25%        60.000000\n",
       "50%        71.000000\n",
       "75%        79.000000\n",
       "max        98.000000\n",
       "Name: critic_score, dtype: float64"
      ]
     },
     "execution_count": 29,
     "metadata": {},
     "output_type": "execute_result"
    }
   ],
   "source": [
    "df['critic_score'].describe()"
   ]
  },
  {
   "cell_type": "code",
   "execution_count": 30,
   "metadata": {},
   "outputs": [
    {
     "data": {
      "text/plain": [
       "count    7591.000000\n",
       "mean        7.125188\n",
       "std         1.499958\n",
       "min         0.000000\n",
       "25%         6.400000\n",
       "50%         7.500000\n",
       "75%         8.200000\n",
       "max         9.700000\n",
       "Name: user_score, dtype: float64"
      ]
     },
     "execution_count": 30,
     "metadata": {},
     "output_type": "execute_result"
    }
   ],
   "source": [
    "df['user_score'].describe()"
   ]
  },
  {
   "cell_type": "code",
   "execution_count": 31,
   "metadata": {},
   "outputs": [
    {
     "data": {
      "text/html": [
       "<div>\n",
       "<style scoped>\n",
       "    .dataframe tbody tr th:only-of-type {\n",
       "        vertical-align: middle;\n",
       "    }\n",
       "\n",
       "    .dataframe tbody tr th {\n",
       "        vertical-align: top;\n",
       "    }\n",
       "\n",
       "    .dataframe thead th {\n",
       "        text-align: right;\n",
       "    }\n",
       "</style>\n",
       "<table border=\"1\" class=\"dataframe\">\n",
       "  <thead>\n",
       "    <tr style=\"text-align: right;\">\n",
       "      <th></th>\n",
       "      <th>name</th>\n",
       "      <th>platform</th>\n",
       "      <th>year_of_release</th>\n",
       "      <th>genre</th>\n",
       "      <th>na_sales</th>\n",
       "      <th>eu_sales</th>\n",
       "      <th>jp_sales</th>\n",
       "      <th>other_sales</th>\n",
       "      <th>critic_score</th>\n",
       "      <th>user_score</th>\n",
       "      <th>rating</th>\n",
       "      <th>total_sales</th>\n",
       "    </tr>\n",
       "  </thead>\n",
       "  <tbody>\n",
       "    <tr>\n",
       "      <td>2835</td>\n",
       "      <td>My Little Pony: Pinkie Pie's Party</td>\n",
       "      <td>DS</td>\n",
       "      <td>2008</td>\n",
       "      <td>Adventure</td>\n",
       "      <td>0.66</td>\n",
       "      <td>0.0</td>\n",
       "      <td>0.0</td>\n",
       "      <td>0.06</td>\n",
       "      <td>NaN</td>\n",
       "      <td>0.0</td>\n",
       "      <td>E</td>\n",
       "      <td>0.72</td>\n",
       "    </tr>\n",
       "  </tbody>\n",
       "</table>\n",
       "</div>"
      ],
      "text/plain": [
       "                                    name platform  year_of_release      genre  \\\n",
       "2835  My Little Pony: Pinkie Pie's Party       DS             2008  Adventure   \n",
       "\n",
       "      na_sales  eu_sales  jp_sales  other_sales  critic_score  user_score  \\\n",
       "2835      0.66       0.0       0.0         0.06           NaN         0.0   \n",
       "\n",
       "     rating  total_sales  \n",
       "2835      E         0.72  "
      ]
     },
     "execution_count": 31,
     "metadata": {},
     "output_type": "execute_result"
    }
   ],
   "source": [
    "df[df['user_score'] == 0]"
   ]
  },
  {
   "cell_type": "markdown",
   "metadata": {},
   "source": [
    "Пропусков в обоих столбцах много, их не отбросишь. Также есть только 1 нулевое значение в столбце user_score. Если вручную поискать в открытых источниках рейтинг этой игры, то убедимся, что он не совсем нулевой. Видимо в данном случае нулевое значение служит аналогом NaN, воспользуемся этим примером и обработаем пропуски заменив NaNы нулевым значением."
   ]
  },
  {
   "cell_type": "code",
   "execution_count": 32,
   "metadata": {},
   "outputs": [],
   "source": [
    "df['critic_score'] = df['critic_score'].fillna(0)\n",
    "df['user_score'] = df['user_score'].fillna(0)"
   ]
  },
  {
   "cell_type": "code",
   "execution_count": 33,
   "metadata": {},
   "outputs": [],
   "source": [
    "#df.info()"
   ]
  },
  {
   "cell_type": "markdown",
   "metadata": {},
   "source": [
    "Обработаем пропуски в столбце rating. Их много, отбрасывать смысла нет, поставим плейсхолдер \"U\" от \"Unknown\"."
   ]
  },
  {
   "cell_type": "code",
   "execution_count": 34,
   "metadata": {},
   "outputs": [
    {
     "data": {
      "text/plain": [
       "E       3990\n",
       "T       2961\n",
       "M       1563\n",
       "E10+    1420\n",
       "EC         8\n",
       "RP         3\n",
       "K-A        3\n",
       "AO         1\n",
       "Name: rating, dtype: int64"
      ]
     },
     "execution_count": 34,
     "metadata": {},
     "output_type": "execute_result"
    }
   ],
   "source": [
    "df['rating'].value_counts()"
   ]
  },
  {
   "cell_type": "code",
   "execution_count": 35,
   "metadata": {},
   "outputs": [],
   "source": [
    "df['rating'] = df['rating'].fillna('U')"
   ]
  },
  {
   "cell_type": "code",
   "execution_count": 36,
   "metadata": {},
   "outputs": [],
   "source": [
    "#df.info()"
   ]
  },
  {
   "cell_type": "markdown",
   "metadata": {},
   "source": [
    "Причины пропусков:\n",
    "\n",
    "rating - не все игры оценивались/оцениваются ESRB, также многие игры старшего самого агентства, также причина пропусков может быть в том, что игра была выпущена для локального рынка страны, где этот рейтинг не выдают или он не используется.\n",
    "\n",
    "user_score, critic_score - эти данные не так просто агрегировать, также часто процесс оценки и обзоров продолжается долго после выхода игры, появляются новые оценки, нет единой методологии и сбора этих данных, и самой оценки.\n",
    "\n",
    "year_of_release - данные могли быть утеряны, также часто одна и та же игра в разных регионах выходит в разное время - данные конфликтуют.\n",
    "\n",
    "genre, name - пропуски только в рамках одного тайтла, ошибка не системная в отличие от остальных столбцов, появились вручную."
   ]
  },
  {
   "cell_type": "code",
   "execution_count": 37,
   "metadata": {},
   "outputs": [
    {
     "data": {
      "text/plain": [
       "False    16714\n",
       "dtype: int64"
      ]
     },
     "execution_count": 37,
     "metadata": {},
     "output_type": "execute_result"
    }
   ],
   "source": [
    "df.duplicated().value_counts() # напоследок проверим, нет ли явных дублей"
   ]
  },
  {
   "cell_type": "markdown",
   "metadata": {},
   "source": [
    "## Исследовательский анализ данных"
   ]
  },
  {
   "cell_type": "markdown",
   "metadata": {},
   "source": [
    "# Анализ выпуска игр по годам. Определим актуальный период.\n",
    "\n",
    "Попробуем посмотреть как менялись продажи по платформам. Выберем платформы с наибольшими суммарными продажами и построим распределение по годам. Выясним за какой характерный срок появляются новые и исчезают старые платформы.\n",
    "\n",
    "Для того, чтобы делать прогнозы на 2017 год\n",
    "Определим актуальный период. \n",
    "\n",
    "Выясним, какие платформы лидируют по продажам, растут или падают. \n",
    "Выберите несколько потенциально прибыльных платформ.\n",
    "\n",
    "Исследуем глобальные продажи игр в разбивке по платформам.\n",
    "Оценим влияние на продажи внутри одной популярной платформы отзывов пользователей и критиков. \n",
    "Построим диаграмму рассеяния и посчитаем корреляцию между отзывами и продажами. \n",
    "\n",
    "Соотнесём выводы с продажами игр на других платформах. Посмотрим на общее распределение игр по жанрам. "
   ]
  },
  {
   "cell_type": "markdown",
   "metadata": {},
   "source": [
    "###  Посмотрим, сколько игр выпускалось в разные годы."
   ]
  },
  {
   "cell_type": "code",
   "execution_count": 38,
   "metadata": {},
   "outputs": [
    {
     "data": {
      "text/plain": [
       "<matplotlib.axes._subplots.AxesSubplot at 0x2644c99c4c8>"
      ]
     },
     "execution_count": 38,
     "metadata": {},
     "output_type": "execute_result"
    },
    {
     "data": {
      "image/png": "[encoded data removed]",
      "text/plain": [
       "<Figure size 1080x360 with 1 Axes>"
      ]
     },
     "metadata": {
      "needs_background": "light"
     },
     "output_type": "display_data"
    }
   ],
   "source": [
    "df_real_years = df.query('year_of_release > 1900')\n",
    "df_real_years['year_of_release'].hist(bins=40, figsize=(15,5))"
   ]
  },
  {
   "cell_type": "markdown",
   "metadata": {},
   "source": [
    "### Посмотрим, как менялись продажи по платформам."
   ]
  },
  {
   "cell_type": "code",
   "execution_count": 39,
   "metadata": {},
   "outputs": [
    {
     "data": {
      "text/plain": [
       "Text(0, 0.5, 'Количество игр')"
      ]
     },
     "execution_count": 39,
     "metadata": {},
     "output_type": "execute_result"
    },
    {
     "data": {
      "image/png": "[encoded data removed]",
      "text/plain": [
       "<Figure size 1080x360 with 1 Axes>"
      ]
     },
     "metadata": {
      "needs_background": "light"
     },
     "output_type": "display_data"
    }
   ],
   "source": [
    "df_real_years.query('year_of_release > 2000').hist(column='year_of_release', bins=45, figsize=(15,5))\n",
    "plt.title('Количество выпущенных игр по годам')\n",
    "plt.xlabel('Год выпуска')\n",
    "plt.ylabel('Количество игр')"
   ]
  },
  {
   "cell_type": "code",
   "execution_count": 40,
   "metadata": {},
   "outputs": [],
   "source": [
    "df_years_sales = df_real_years.pivot_table(index='year_of_release', values='total_sales', aggfunc=sum)"
   ]
  },
  {
   "cell_type": "code",
   "execution_count": 41,
   "metadata": {},
   "outputs": [
    {
     "data": {
      "text/plain": [
       "Text(0, 0.5, 'Количество копий')"
      ]
     },
     "execution_count": 41,
     "metadata": {},
     "output_type": "execute_result"
    },
    {
     "data": {
      "image/png": "[encoded data removed]",
      "text/plain": [
       "<Figure size 1080x360 with 1 Axes>"
      ]
     },
     "metadata": {
      "needs_background": "light"
     },
     "output_type": "display_data"
    }
   ],
   "source": [
    "df_years_sales.plot.bar(figsize=(15,5))\n",
    "plt.title('Количество проданных копий по годам')\n",
    "plt.xlabel('Год выпуска')\n",
    "plt.ylabel('Количество копий')"
   ]
  },
  {
   "cell_type": "markdown",
   "metadata": {},
   "source": [
    "Глядя на разбивку общих продаж по годам можно условно выделить несколько периодов: \n",
    "    \n",
    "    1978 - 1995 : меньше 100млн проданных копий\n",
    "    \n",
    "    1996 - 2000 : 100-300млн проданных копий\n",
    "    \n",
    "    2001 - 2011 : 300-700млн проданных копий, взрывной рост\n",
    "    \n",
    "    2012 - 2016 : 100-400млн проданных копий\n",
    "    \n",
    "Я думаю, что данные до 2000 года для нас будут не очень важны."
   ]
  },
  {
   "cell_type": "code",
   "execution_count": 42,
   "metadata": {},
   "outputs": [],
   "source": [
    "plat_pivot = df_real_years.pivot_table(index='year_of_release', columns='platform', values='total_sales', aggfunc=sum)"
   ]
  },
  {
   "cell_type": "code",
   "execution_count": 43,
   "metadata": {},
   "outputs": [
    {
     "data": {
      "text/plain": [
       "platform\n",
       "PS2     1245.30\n",
       "X360     963.71\n",
       "PS3      931.34\n",
       "Wii      894.24\n",
       "DS       802.78\n",
       "PS       727.58\n",
       "PS4      314.14\n",
       "GBA      312.88\n",
       "PSP      289.53\n",
       "3DS      257.81\n",
       "PC       255.76\n",
       "GB       254.43\n",
       "XB       251.57\n",
       "NES      251.05\n",
       "N64      218.01\n",
       "SNES     200.04\n",
       "GC       196.73\n",
       "XOne     159.32\n",
       "2600      89.01\n",
       "WiiU      82.19\n",
       "PSV       53.81\n",
       "SAT       33.59\n",
       "GEN       30.77\n",
       "DC        15.95\n",
       "SCD        1.86\n",
       "NG         1.44\n",
       "WS         1.42\n",
       "TG16       0.16\n",
       "3DO        0.10\n",
       "GG         0.04\n",
       "PCFX       0.03\n",
       "Name: total_sales, dtype: float64"
      ]
     },
     "execution_count": 43,
     "metadata": {},
     "output_type": "execute_result"
    }
   ],
   "source": [
    "all_plats = df_real_years.groupby(['platform'])['total_sales'].sum().sort_values(ascending=False)\n",
    "all_plats"
   ]
  },
  {
   "cell_type": "markdown",
   "metadata": {},
   "source": [
    "Нам нужно выбрать платформы с наибольшими суммарными продажами.\n",
    "Можно выделить несколько групп по объёму продаж:\n",
    "    \n",
    "    более 700млн проданных копий (6 платформ)\n",
    "    100 - 700млн проданных копий (12 платформ)\n",
    "    10 - 100млн проданных копий (6 платформ)\n",
    "    менее 10 млн проданных копий (7 платформ)"
   ]
  },
  {
   "cell_type": "markdown",
   "metadata": {},
   "source": [
    "Чтобы захватить наиболее продававшиеся платформы тогда можно выбрать верхние 18 платформ."
   ]
  },
  {
   "cell_type": "code",
   "execution_count": 44,
   "metadata": {},
   "outputs": [],
   "source": [
    "top_plats = all_plats.head(18)"
   ]
  },
  {
   "cell_type": "code",
   "execution_count": 45,
   "metadata": {},
   "outputs": [],
   "source": [
    "# вычленяем для анализа топовые платформы по объёму продаж\n",
    "top_plat_pivot = plat_pivot[top_plats.index]"
   ]
  },
  {
   "cell_type": "code",
   "execution_count": 46,
   "metadata": {},
   "outputs": [
    {
     "data": {
      "text/plain": [
       "<matplotlib.axes._subplots.AxesSubplot at 0x2644eec7bc8>"
      ]
     },
     "execution_count": 46,
     "metadata": {},
     "output_type": "execute_result"
    },
    {
     "data": {
      "image/png": "[encoded data removed]",
      "text/plain": [
       "<Figure size 1080x360 with 1 Axes>"
      ]
     },
     "metadata": {
      "needs_background": "light"
     },
     "output_type": "display_data"
    }
   ],
   "source": [
    "top_plat_pivot.plot.bar(figsize=(15,5), width=1.4)"
   ]
  },
  {
   "cell_type": "code",
   "execution_count": 47,
   "metadata": {},
   "outputs": [
    {
     "data": {
      "text/plain": [
       "<matplotlib.axes._subplots.AxesSubplot at 0x2644fb4f588>"
      ]
     },
     "execution_count": 47,
     "metadata": {},
     "output_type": "execute_result"
    },
    {
     "data": {
      "image/png": "[encoded data removed]",
      "text/plain": [
       "<Figure size 1080x360 with 1 Axes>"
      ]
     },
     "metadata": {
      "needs_background": "light"
     },
     "output_type": "display_data"
    }
   ],
   "source": [
    "top_plat_pivot.query('year_of_release > 2000').plot.bar(figsize=(15,5), width=1.2)"
   ]
  },
  {
   "cell_type": "markdown",
   "metadata": {},
   "source": [
    "Чтобы ответить на вопрос, за какой характерный срок появляются новые и исчезают старые платформы, посмотрим сколько лет выпускались игры для каждой из платформ."
   ]
  },
  {
   "cell_type": "code",
   "execution_count": 48,
   "metadata": {},
   "outputs": [
    {
     "name": "stdout",
     "output_type": "stream",
     "text": [
      "11 лет выходили игры для 2600\n",
      "2 лет выходили игры для 3DO\n",
      "6 лет выходили игры для 3DS\n",
      "7 лет выходили игры для DC\n",
      "11 лет выходили игры для DS\n",
      "13 лет выходили игры для GB\n",
      "8 лет выходили игры для GBA\n",
      "7 лет выходили игры для GC\n",
      "5 лет выходили игры для GEN\n",
      "1 лет выходили игры для GG\n",
      "7 лет выходили игры для N64\n",
      "12 лет выходили игры для NES\n",
      "4 лет выходили игры для NG\n",
      "26 лет выходили игры для PC\n",
      "1 лет выходили игры для PCFX\n",
      "10 лет выходили игры для PS\n",
      "12 лет выходили игры для PS2\n",
      "11 лет выходили игры для PS3\n",
      "4 лет выходили игры для PS4\n",
      "12 лет выходили игры для PSP\n",
      "6 лет выходили игры для PSV\n",
      "6 лет выходили игры для SAT\n",
      "2 лет выходили игры для SCD\n",
      "10 лет выходили игры для SNES\n",
      "1 лет выходили игры для TG16\n",
      "3 лет выходили игры для WS\n",
      "11 лет выходили игры для Wii\n",
      "5 лет выходили игры для WiiU\n",
      "12 лет выходили игры для X360\n",
      "9 лет выходили игры для XB\n",
      "4 лет выходили игры для XOne\n"
     ]
    }
   ],
   "source": [
    "life_dur = []\n",
    "for i in plat_pivot.columns :\n",
    "    print(len(plat_pivot[plat_pivot[i].notna()]), 'лет выходили игры для',i)\n",
    "    life_dur.append(len(plat_pivot[plat_pivot[i].notna()]))"
   ]
  },
  {
   "cell_type": "code",
   "execution_count": 49,
   "metadata": {},
   "outputs": [
    {
     "name": "stdout",
     "output_type": "stream",
     "text": [
      "7.0 -медианная продолжительность выпуска игр на платформе\n",
      "\n",
      "7.709677419354839 -средняя продолжительность выпуска игр на платформе\n"
     ]
    },
    {
     "data": {
      "text/html": [
       "<div>\n",
       "<style scoped>\n",
       "    .dataframe tbody tr th:only-of-type {\n",
       "        vertical-align: middle;\n",
       "    }\n",
       "\n",
       "    .dataframe tbody tr th {\n",
       "        vertical-align: top;\n",
       "    }\n",
       "\n",
       "    .dataframe thead th {\n",
       "        text-align: right;\n",
       "    }\n",
       "</style>\n",
       "<table border=\"1\" class=\"dataframe\">\n",
       "  <thead>\n",
       "    <tr style=\"text-align: right;\">\n",
       "      <th></th>\n",
       "      <th>platforms</th>\n",
       "      <th>lifespan_years</th>\n",
       "    </tr>\n",
       "  </thead>\n",
       "  <tbody>\n",
       "    <tr>\n",
       "      <td>13</td>\n",
       "      <td>PC</td>\n",
       "      <td>26</td>\n",
       "    </tr>\n",
       "    <tr>\n",
       "      <td>5</td>\n",
       "      <td>GB</td>\n",
       "      <td>13</td>\n",
       "    </tr>\n",
       "    <tr>\n",
       "      <td>11</td>\n",
       "      <td>NES</td>\n",
       "      <td>12</td>\n",
       "    </tr>\n",
       "    <tr>\n",
       "      <td>28</td>\n",
       "      <td>X360</td>\n",
       "      <td>12</td>\n",
       "    </tr>\n",
       "    <tr>\n",
       "      <td>19</td>\n",
       "      <td>PSP</td>\n",
       "      <td>12</td>\n",
       "    </tr>\n",
       "    <tr>\n",
       "      <td>16</td>\n",
       "      <td>PS2</td>\n",
       "      <td>12</td>\n",
       "    </tr>\n",
       "    <tr>\n",
       "      <td>0</td>\n",
       "      <td>2600</td>\n",
       "      <td>11</td>\n",
       "    </tr>\n",
       "    <tr>\n",
       "      <td>26</td>\n",
       "      <td>Wii</td>\n",
       "      <td>11</td>\n",
       "    </tr>\n",
       "    <tr>\n",
       "      <td>4</td>\n",
       "      <td>DS</td>\n",
       "      <td>11</td>\n",
       "    </tr>\n",
       "    <tr>\n",
       "      <td>17</td>\n",
       "      <td>PS3</td>\n",
       "      <td>11</td>\n",
       "    </tr>\n",
       "  </tbody>\n",
       "</table>\n",
       "</div>"
      ],
      "text/plain": [
       "   platforms  lifespan_years\n",
       "13        PC              26\n",
       "5         GB              13\n",
       "11       NES              12\n",
       "28      X360              12\n",
       "19       PSP              12\n",
       "16       PS2              12\n",
       "0       2600              11\n",
       "26       Wii              11\n",
       "4         DS              11\n",
       "17       PS3              11"
      ]
     },
     "metadata": {},
     "output_type": "display_data"
    }
   ],
   "source": [
    "plat_life = pd.DataFrame()\n",
    "plat_life['platforms'] = plat_pivot.columns\n",
    "plat_life['lifespan_years'] = life_dur\n",
    "print(plat_life['lifespan_years'].median(), '-медианная продолжительность выпуска игр на платформе')\n",
    "print()\n",
    "print(plat_life['lifespan_years'].mean(), '-средняя продолжительность выпуска игр на платформе')\n",
    "display(plat_life.sort_values(by='lifespan_years', ascending=False).head(10))"
   ]
  },
  {
   "cell_type": "code",
   "execution_count": 50,
   "metadata": {},
   "outputs": [
    {
     "data": {
      "text/plain": [
       "count    31.000000\n",
       "mean      7.709677\n",
       "std       5.100285\n",
       "min       1.000000\n",
       "25%       4.000000\n",
       "50%       7.000000\n",
       "75%      11.000000\n",
       "max      26.000000\n",
       "Name: lifespan_years, dtype: float64"
      ]
     },
     "execution_count": 50,
     "metadata": {},
     "output_type": "execute_result"
    }
   ],
   "source": [
    "plat_life['lifespan_years'].describe()"
   ]
  },
  {
   "cell_type": "markdown",
   "metadata": {},
   "source": [
    "Итак, хотя и можно сказать, что платформа в среднем живёт 7-8 лет, разброс достаточно большой, четверть платформ прожила 4 года или меньше, а другая четверть - 11 или больше."
   ]
  },
  {
   "cell_type": "markdown",
   "metadata": {},
   "source": [
    "### Возьмём данные за соответствующий актуальный период."
   ]
  },
  {
   "cell_type": "markdown",
   "metadata": {},
   "source": [
    "По предыдущим двум пунктам видно, что разумнее выбрать меньший временной диапазон чем 1978-2016 для результативного анализа. Если посмотреть на график общих продаж игр по годам в конце пункта 3.1 можно увидеть, что у периода 2012-2016 есть свой отличающийся тренд, предлагаю взять за *актуальный период* 2012-2016г."
   ]
  },
  {
   "cell_type": "markdown",
   "metadata": {},
   "source": [
    "Данные за предыдущие годы нам сказано не учитывать.\n",
    "\n",
    "Повторим сделанные наблюдения уже по актуальному периоду."
   ]
  },
  {
   "cell_type": "code",
   "execution_count": 51,
   "metadata": {},
   "outputs": [],
   "source": [
    "df_act = df_real_years.query('year_of_release > 2011')\n",
    "act_plat_sales = df_act.pivot_table(index='year_of_release', columns='platform', values='total_sales', aggfunc=sum)"
   ]
  },
  {
   "cell_type": "code",
   "execution_count": 52,
   "metadata": {},
   "outputs": [],
   "source": [
    "# комментарий студента\n",
    "# df_act = df.loc[df.year_of_release > 2011]"
   ]
  },
  {
   "cell_type": "code",
   "execution_count": 53,
   "metadata": {},
   "outputs": [
    {
     "data": {
      "text/plain": [
       "<matplotlib.axes._subplots.AxesSubplot at 0x264510c7888>"
      ]
     },
     "execution_count": 53,
     "metadata": {},
     "output_type": "execute_result"
    },
    {
     "data": {
      "image/png": "[encoded data removed]",
      "text/plain": [
       "<Figure size 864x360 with 1 Axes>"
      ]
     },
     "metadata": {
      "needs_background": "light"
     },
     "output_type": "display_data"
    }
   ],
   "source": [
    "act_plat_sales.plot.bar(figsize=(12, 5))"
   ]
  },
  {
   "cell_type": "code",
   "execution_count": 54,
   "metadata": {},
   "outputs": [
    {
     "data": {
      "text/plain": [
       "platform\n",
       "PS4     314.14\n",
       "PS3     288.79\n",
       "X360    236.54\n",
       "3DS     194.61\n",
       "XOne    159.32\n",
       "WiiU     82.19\n",
       "PC       62.65\n",
       "PSV      49.18\n",
       "Wii      35.37\n",
       "DS       12.55\n",
       "PSP      11.19\n",
       "Name: total_sales, dtype: float64"
      ]
     },
     "execution_count": 54,
     "metadata": {},
     "output_type": "execute_result"
    }
   ],
   "source": [
    "# суммарные продажи игр на платформах актуального периода \n",
    "act_plats = df_act.groupby(['platform'])['total_sales'].sum().sort_values(ascending=False)\n",
    "act_plats"
   ]
  },
  {
   "cell_type": "code",
   "execution_count": 55,
   "metadata": {},
   "outputs": [],
   "source": [
    "#act_plats.plot.bar(figsize=(15,5))"
   ]
  },
  {
   "cell_type": "code",
   "execution_count": 56,
   "metadata": {},
   "outputs": [
    {
     "name": "stdout",
     "output_type": "stream",
     "text": [
      "5 лет выходили игры для 3DS\n",
      "2 лет выходили игры для DS\n",
      "5 лет выходили игры для PC\n",
      "5 лет выходили игры для PS3\n",
      "4 лет выходили игры для PS4\n",
      "4 лет выходили игры для PSP\n",
      "5 лет выходили игры для PSV\n",
      "5 лет выходили игры для Wii\n",
      "5 лет выходили игры для WiiU\n",
      "5 лет выходили игры для X360\n",
      "4 лет выходили игры для XOne\n"
     ]
    }
   ],
   "source": [
    "life_dur1 = []\n",
    "for i in act_plat_sales.columns :\n",
    "    print(len(act_plat_sales[act_plat_sales[i].notna()]), 'лет выходили игры для',i)\n",
    "    life_dur1.append(len(act_plat_sales[act_plat_sales[i].notna()]))"
   ]
  },
  {
   "cell_type": "markdown",
   "metadata": {},
   "source": [
    "Итак, изучив данные актуального периода, можно сделать ряд выводов:\n",
    "\n",
    "По всем представленным платформам к концу 2016 наблюдается спад продаж, даже по тем платформам, которые успели появиться в рамках этого периода.\n",
    "\n",
    "Учитывая, что по всем представленным платформам спад, возможно скореёшее появление новой платформы, в которую стоит вложиться.\n",
    "\n",
    "Также существует возможность, что на самом деле есть растущие платформы, но они в данных не представленны.(А именно мобильные игры на смартфонах)\n",
    "\n",
    "Глядя на график общих продаж по годам, можно сделать вывод, что в известном историческом конкурентном треугольнике Sony vs Nintendo vs Microsoft уверенно побеждает Sony. Если ещё в рамках предыдущего поколения консолей (PS3 vs X360) у Microsoft удаётся показывать похожие цифры, то уже PS4 уверенно доминирует на консольном рынке, а Nintendo приходится довольствоваться остатками рынка с их линейкой Wii и DS.\n",
    "\n",
    "Также можно заметить, что и Sony и Nintendo чувсвуют тренд на снижение продаж на традиционных платформах и создают свои новые мобильные платформы (PSP и PSV у Sony, DS и 3DS у Nintendo), где уже у Nintendo удаётся достичь лидерства, Microsoft же этот рынок в данном периоде решил проигнорировать. \n",
    "\n",
    "Также устойчивое влияние логично остаётся у PC, как минимум по причине универсальности платформы."
   ]
  },
  {
   "cell_type": "markdown",
   "metadata": {},
   "source": [
    "Резюмируя, хочется отметить ещё несколько вещей. Было бы наверно правильнее исследовать 3 класса платформ по отдельности: PC, стацинарные игровые консоли, мобильные игровые консоли. Наиболее вероятной точкой прорывного роста на 2017 год представляют собой либо мобильные игровые платформы, либо вообще не представленные в исследовании мобильные игры на смартфонах.\n",
    "\n",
    "Также достаточно безопасным вложением в рамках 2017 года является PS4 - несмотря на то, что выпуск игр для неё уже находится в фазе спада, она всё ещё лидирует по сравнению с остальными с большим отрывом и обладает ещё большим жизненным потенциалом. Если для её предшественницы PS3 игры выпускаются 11 лет, то она пока существует только 4 года, а также показывает более уверенно превосходство перед платформами - прямыми конкурентами.\n"
   ]
  },
  {
   "cell_type": "code",
   "execution_count": 57,
   "metadata": {},
   "outputs": [
    {
     "data": {
      "text/html": [
       "<div>\n",
       "<style scoped>\n",
       "    .dataframe tbody tr th:only-of-type {\n",
       "        vertical-align: middle;\n",
       "    }\n",
       "\n",
       "    .dataframe tbody tr th {\n",
       "        vertical-align: top;\n",
       "    }\n",
       "\n",
       "    .dataframe thead th {\n",
       "        text-align: right;\n",
       "    }\n",
       "</style>\n",
       "<table border=\"1\" class=\"dataframe\">\n",
       "  <thead>\n",
       "    <tr style=\"text-align: right;\">\n",
       "      <th>platform</th>\n",
       "      <th>PS4</th>\n",
       "      <th>XOne</th>\n",
       "    </tr>\n",
       "    <tr>\n",
       "      <th>year_of_release</th>\n",
       "      <th></th>\n",
       "      <th></th>\n",
       "    </tr>\n",
       "  </thead>\n",
       "  <tbody>\n",
       "    <tr>\n",
       "      <td>2012</td>\n",
       "      <td>NaN</td>\n",
       "      <td>NaN</td>\n",
       "    </tr>\n",
       "    <tr>\n",
       "      <td>2013</td>\n",
       "      <td>25.99</td>\n",
       "      <td>18.96</td>\n",
       "    </tr>\n",
       "    <tr>\n",
       "      <td>2014</td>\n",
       "      <td>100.00</td>\n",
       "      <td>54.07</td>\n",
       "    </tr>\n",
       "    <tr>\n",
       "      <td>2015</td>\n",
       "      <td>118.90</td>\n",
       "      <td>60.14</td>\n",
       "    </tr>\n",
       "    <tr>\n",
       "      <td>2016</td>\n",
       "      <td>69.25</td>\n",
       "      <td>26.15</td>\n",
       "    </tr>\n",
       "  </tbody>\n",
       "</table>\n",
       "</div>"
      ],
      "text/plain": [
       "platform            PS4   XOne\n",
       "year_of_release               \n",
       "2012                NaN    NaN\n",
       "2013              25.99  18.96\n",
       "2014             100.00  54.07\n",
       "2015             118.90  60.14\n",
       "2016              69.25  26.15"
      ]
     },
     "execution_count": 57,
     "metadata": {},
     "output_type": "execute_result"
    }
   ],
   "source": [
    "ps4_v_x1 = act_plat_sales[['PS4', 'XOne']]\n",
    "ps4_v_x1"
   ]
  },
  {
   "cell_type": "code",
   "execution_count": 58,
   "metadata": {},
   "outputs": [
    {
     "data": {
      "text/html": [
       "<div>\n",
       "<style scoped>\n",
       "    .dataframe tbody tr th:only-of-type {\n",
       "        vertical-align: middle;\n",
       "    }\n",
       "\n",
       "    .dataframe tbody tr th {\n",
       "        vertical-align: top;\n",
       "    }\n",
       "\n",
       "    .dataframe thead th {\n",
       "        text-align: right;\n",
       "    }\n",
       "</style>\n",
       "<table border=\"1\" class=\"dataframe\">\n",
       "  <thead>\n",
       "    <tr style=\"text-align: right;\">\n",
       "      <th>platform</th>\n",
       "      <th>PS4</th>\n",
       "      <th>XOne</th>\n",
       "    </tr>\n",
       "    <tr>\n",
       "      <th>year_of_release</th>\n",
       "      <th></th>\n",
       "      <th></th>\n",
       "    </tr>\n",
       "  </thead>\n",
       "  <tbody>\n",
       "    <tr>\n",
       "      <td>2012</td>\n",
       "      <td>NaN</td>\n",
       "      <td>NaN</td>\n",
       "    </tr>\n",
       "    <tr>\n",
       "      <td>2013</td>\n",
       "      <td>NaN</td>\n",
       "      <td>NaN</td>\n",
       "    </tr>\n",
       "    <tr>\n",
       "      <td>2014</td>\n",
       "      <td>74.01</td>\n",
       "      <td>35.11</td>\n",
       "    </tr>\n",
       "    <tr>\n",
       "      <td>2015</td>\n",
       "      <td>18.90</td>\n",
       "      <td>6.07</td>\n",
       "    </tr>\n",
       "    <tr>\n",
       "      <td>2016</td>\n",
       "      <td>-49.65</td>\n",
       "      <td>-33.99</td>\n",
       "    </tr>\n",
       "  </tbody>\n",
       "</table>\n",
       "</div>"
      ],
      "text/plain": [
       "platform           PS4   XOne\n",
       "year_of_release              \n",
       "2012               NaN    NaN\n",
       "2013               NaN    NaN\n",
       "2014             74.01  35.11\n",
       "2015             18.90   6.07\n",
       "2016            -49.65 -33.99"
      ]
     },
     "execution_count": 58,
     "metadata": {},
     "output_type": "execute_result"
    }
   ],
   "source": [
    "ps4_v_x1_tempo = ps4_v_x1.diff() # абсолютный прирост\n",
    "ps4_v_x1_tempo                   # редкие кадры исторической хроники этих лет про исследуемые процессы \n",
    "                                 # https://www.youtube.com/watch?v=o-8DNL2wFLY"
   ]
  },
  {
   "cell_type": "markdown",
   "metadata": {},
   "source": [
    "### Построим график «ящик с усами» по глобальным продажам игр в разбивке по платформам."
   ]
  },
  {
   "cell_type": "code",
   "execution_count": 59,
   "metadata": {},
   "outputs": [
    {
     "data": {
      "image/png": "[encoded data removed]",
      "text/plain": [
       "<Figure size 432x288 with 1 Axes>"
      ]
     },
     "metadata": {
      "needs_background": "light"
     },
     "output_type": "display_data"
    }
   ],
   "source": [
    "sns.boxplot(x='platform', y='total_sales', data=df_act)\n",
    "plt.ticklabel_format(style='plain', axis='y')"
   ]
  },
  {
   "cell_type": "markdown",
   "metadata": {},
   "source": [
    "Как наглядно, уже даже с выбросами видно подтверждение ряда выводов: тут и победа PS3 над X360, и выход на доминирование PS4 всего за 4 года, и восход Нинтендовских мобильных платформ.\n",
    "\n",
    "Попробуем теперь взглянуть без выбросов."
   ]
  },
  {
   "cell_type": "code",
   "execution_count": 60,
   "metadata": {},
   "outputs": [
    {
     "data": {
      "text/plain": [
       "count    2886.000000\n",
       "mean        0.501223\n",
       "std         1.249157\n",
       "min         0.010000\n",
       "50%         0.120000\n",
       "97%         3.113500\n",
       "max        21.050000\n",
       "Name: total_sales, dtype: float64"
      ]
     },
     "execution_count": 60,
     "metadata": {},
     "output_type": "execute_result"
    }
   ],
   "source": [
    "df_act['total_sales'].describe(percentiles=[.97])"
   ]
  },
  {
   "cell_type": "code",
   "execution_count": 61,
   "metadata": {},
   "outputs": [],
   "source": [
    "df_act_two = df_act.query('total_sales < 3')"
   ]
  },
  {
   "cell_type": "code",
   "execution_count": 62,
   "metadata": {},
   "outputs": [
    {
     "data": {
      "image/png": "[encoded data removed]",
      "text/plain": [
       "<Figure size 432x288 with 1 Axes>"
      ]
     },
     "metadata": {
      "needs_background": "light"
     },
     "output_type": "display_data"
    }
   ],
   "source": [
    "sns.boxplot(x='platform', y='total_sales', data=df_act_two)\n",
    "plt.ticklabel_format(style='plain', axis='y')"
   ]
  },
  {
   "cell_type": "markdown",
   "metadata": {},
   "source": [
    "Очень показательно как сильно перетасовались платформы после изъятия выбросов.\n",
    "\n",
    "Это позволяет сделать вывод о первостепенной важности игр-флагманов, которые своими продажами обеспечивают платформам лидирующие позиции.\n",
    "\n",
    "То, что даже убрав самые большие выбросы, у нас лидирует PS4 уже всего на 4 году существования, только укрепляет вывод о прибыльности и перспективности данной платформы."
   ]
  },
  {
   "cell_type": "markdown",
   "metadata": {},
   "source": [
    "### Посмотрим, как влияют на продажи внутри одной популярной платформы отзывы пользователей и критиков.\n",
    "Такой платформой закономерно выберем PS4."
   ]
  },
  {
   "cell_type": "code",
   "execution_count": 63,
   "metadata": {},
   "outputs": [],
   "source": [
    "df_ps4 = df_act.query('platform == \"PS4\"')"
   ]
  },
  {
   "cell_type": "code",
   "execution_count": 64,
   "metadata": {},
   "outputs": [
    {
     "data": {
      "text/html": [
       "<div>\n",
       "<style scoped>\n",
       "    .dataframe tbody tr th:only-of-type {\n",
       "        vertical-align: middle;\n",
       "    }\n",
       "\n",
       "    .dataframe tbody tr th {\n",
       "        vertical-align: top;\n",
       "    }\n",
       "\n",
       "    .dataframe thead th {\n",
       "        text-align: right;\n",
       "    }\n",
       "</style>\n",
       "<table border=\"1\" class=\"dataframe\">\n",
       "  <thead>\n",
       "    <tr style=\"text-align: right;\">\n",
       "      <th></th>\n",
       "      <th>total_sales</th>\n",
       "      <th>critic_score</th>\n",
       "      <th>user_score</th>\n",
       "    </tr>\n",
       "  </thead>\n",
       "  <tbody>\n",
       "    <tr>\n",
       "      <td>total_sales</td>\n",
       "      <td>1.000000</td>\n",
       "      <td>0.22755</td>\n",
       "      <td>0.113116</td>\n",
       "    </tr>\n",
       "    <tr>\n",
       "      <td>critic_score</td>\n",
       "      <td>0.227550</td>\n",
       "      <td>1.00000</td>\n",
       "      <td>0.900850</td>\n",
       "    </tr>\n",
       "    <tr>\n",
       "      <td>user_score</td>\n",
       "      <td>0.113116</td>\n",
       "      <td>0.90085</td>\n",
       "      <td>1.000000</td>\n",
       "    </tr>\n",
       "  </tbody>\n",
       "</table>\n",
       "</div>"
      ],
      "text/plain": [
       "              total_sales  critic_score  user_score\n",
       "total_sales      1.000000       0.22755    0.113116\n",
       "critic_score     0.227550       1.00000    0.900850\n",
       "user_score       0.113116       0.90085    1.000000"
      ]
     },
     "execution_count": 64,
     "metadata": {},
     "output_type": "execute_result"
    }
   ],
   "source": [
    "df_ps4[['total_sales', 'critic_score', 'user_score']].corr()"
   ]
  },
  {
   "cell_type": "code",
   "execution_count": 65,
   "metadata": {},
   "outputs": [
    {
     "data": {
      "image/png": "[encoded data removed]",
      "text/plain": [
       "<Figure size 432x288 with 1 Axes>"
      ]
     },
     "metadata": {
      "needs_background": "light"
     },
     "output_type": "display_data"
    },
    {
     "data": {
      "image/png": "[encoded data removed]",
      "text/plain": [
       "<Figure size 432x288 with 1 Axes>"
      ]
     },
     "metadata": {
      "needs_background": "light"
     },
     "output_type": "display_data"
    }
   ],
   "source": [
    "col_list = ['critic_score', 'user_score']\n",
    "for col in col_list :\n",
    "    df_ps4.plot(x=col, y='total_sales', kind='scatter')\n",
    "    plt.ticklabel_format(style='plain')"
   ]
  },
  {
   "cell_type": "markdown",
   "metadata": {},
   "source": [
    "Промежуточные выводы\n",
    "\n",
    "У нас очень много нулевых значений в обоих столбцах с оценками, уберём их, тем не менее уже проглядывается закономерная положительная связь высоких оценок критиков и высоких продаж."
   ]
  },
  {
   "cell_type": "code",
   "execution_count": 66,
   "metadata": {},
   "outputs": [
    {
     "name": "stdout",
     "output_type": "stream",
     "text": [
      "249 Игры на PS4 с оцеками и игроков и критиков\n",
      "\n",
      "392 Игры на PS4\n"
     ]
    }
   ],
   "source": [
    "df_ps4_scored = df_ps4.query('critic_score > 0 & user_score > 0')\n",
    "print(len(df_ps4_scored), 'Игры на PS4 с оцеками и игроков и критиков')\n",
    "print()\n",
    "print(len(df_ps4), 'Игры на PS4')"
   ]
  },
  {
   "cell_type": "code",
   "execution_count": 67,
   "metadata": {},
   "outputs": [
    {
     "data": {
      "text/html": [
       "<div>\n",
       "<style scoped>\n",
       "    .dataframe tbody tr th:only-of-type {\n",
       "        vertical-align: middle;\n",
       "    }\n",
       "\n",
       "    .dataframe tbody tr th {\n",
       "        vertical-align: top;\n",
       "    }\n",
       "\n",
       "    .dataframe thead th {\n",
       "        text-align: right;\n",
       "    }\n",
       "</style>\n",
       "<table border=\"1\" class=\"dataframe\">\n",
       "  <thead>\n",
       "    <tr style=\"text-align: right;\">\n",
       "      <th></th>\n",
       "      <th>total_sales</th>\n",
       "      <th>critic_score</th>\n",
       "      <th>user_score</th>\n",
       "    </tr>\n",
       "  </thead>\n",
       "  <tbody>\n",
       "    <tr>\n",
       "      <td>total_sales</td>\n",
       "      <td>1.000000</td>\n",
       "      <td>0.405895</td>\n",
       "      <td>-0.033625</td>\n",
       "    </tr>\n",
       "    <tr>\n",
       "      <td>critic_score</td>\n",
       "      <td>0.405895</td>\n",
       "      <td>1.000000</td>\n",
       "      <td>0.557654</td>\n",
       "    </tr>\n",
       "    <tr>\n",
       "      <td>user_score</td>\n",
       "      <td>-0.033625</td>\n",
       "      <td>0.557654</td>\n",
       "      <td>1.000000</td>\n",
       "    </tr>\n",
       "  </tbody>\n",
       "</table>\n",
       "</div>"
      ],
      "text/plain": [
       "              total_sales  critic_score  user_score\n",
       "total_sales      1.000000      0.405895   -0.033625\n",
       "critic_score     0.405895      1.000000    0.557654\n",
       "user_score      -0.033625      0.557654    1.000000"
      ]
     },
     "execution_count": 67,
     "metadata": {},
     "output_type": "execute_result"
    }
   ],
   "source": [
    "df_ps4_scored[['total_sales', 'critic_score', 'user_score']].corr()"
   ]
  },
  {
   "cell_type": "code",
   "execution_count": 68,
   "metadata": {},
   "outputs": [
    {
     "data": {
      "image/png": "[encoded data removed]",
      "text/plain": [
       "<Figure size 432x288 with 1 Axes>"
      ]
     },
     "metadata": {
      "needs_background": "light"
     },
     "output_type": "display_data"
    },
    {
     "data": {
      "image/png": "[encoded data removed]",
      "text/plain": [
       "<Figure size 432x288 with 1 Axes>"
      ]
     },
     "metadata": {
      "needs_background": "light"
     },
     "output_type": "display_data"
    }
   ],
   "source": [
    "col_list = ['critic_score', 'user_score']\n",
    "for col in col_list :\n",
    "    df_ps4_scored.plot(x=col, y='total_sales', kind='scatter')\n",
    "    plt.ticklabel_format(style='plain')"
   ]
  },
  {
   "cell_type": "markdown",
   "metadata": {},
   "source": [
    "Выводы\n",
    "\n",
    "Стало любопытнее, усилилась связь с оценками критиков, и совсем пропала связь с оценками игроков.\n",
    "Это наверно можно отчасти объяснить тем, что критики обычно оценивают игру до начала продаж, а сами игроки уже только после покупки и некоторого отыгранного времени.\n",
    "\n",
    "Учитывая, что мы смотрим пятилетний период консоли, которая существует 4 года из него, \"сарафанное радио\" пользователей возможно просто не успевает набрать обороты."
   ]
  },
  {
   "cell_type": "markdown",
   "metadata": {},
   "source": [
    "### Соотнесем выводы с продажами на других топовых платформах."
   ]
  },
  {
   "cell_type": "code",
   "execution_count": 69,
   "metadata": {},
   "outputs": [
    {
     "data": {
      "text/plain": [
       "platform\n",
       "PS4     314.14\n",
       "PS3     288.79\n",
       "X360    236.54\n",
       "3DS     194.61\n",
       "XOne    159.32\n",
       "WiiU     82.19\n",
       "PC       62.65\n",
       "PSV      49.18\n",
       "Wii      35.37\n",
       "DS       12.55\n",
       "PSP      11.19\n",
       "Name: total_sales, dtype: float64"
      ]
     },
     "execution_count": 69,
     "metadata": {},
     "output_type": "execute_result"
    }
   ],
   "source": [
    "act_plats"
   ]
  },
  {
   "cell_type": "code",
   "execution_count": 70,
   "metadata": {},
   "outputs": [
    {
     "data": {
      "text/plain": [
       "Index(['PS4', 'PS3', 'X360', '3DS', 'XOne'], dtype='object', name='platform')"
      ]
     },
     "execution_count": 70,
     "metadata": {},
     "output_type": "execute_result"
    }
   ],
   "source": [
    "act_plats.head(5).index # выберем в топ 5 верхних, с продажами >100млн"
   ]
  },
  {
   "cell_type": "code",
   "execution_count": 71,
   "metadata": {
    "scrolled": true
   },
   "outputs": [
    {
     "name": "stdout",
     "output_type": "stream",
     "text": [
      "\n",
      "PS3\n"
     ]
    },
    {
     "data": {
      "text/html": [
       "<div>\n",
       "<style scoped>\n",
       "    .dataframe tbody tr th:only-of-type {\n",
       "        vertical-align: middle;\n",
       "    }\n",
       "\n",
       "    .dataframe tbody tr th {\n",
       "        vertical-align: top;\n",
       "    }\n",
       "\n",
       "    .dataframe thead th {\n",
       "        text-align: right;\n",
       "    }\n",
       "</style>\n",
       "<table border=\"1\" class=\"dataframe\">\n",
       "  <thead>\n",
       "    <tr style=\"text-align: right;\">\n",
       "      <th></th>\n",
       "      <th>total_sales</th>\n",
       "      <th>critic_score</th>\n",
       "      <th>user_score</th>\n",
       "    </tr>\n",
       "  </thead>\n",
       "  <tbody>\n",
       "    <tr>\n",
       "      <td>total_sales</td>\n",
       "      <td>1.000000</td>\n",
       "      <td>0.331057</td>\n",
       "      <td>0.003227</td>\n",
       "    </tr>\n",
       "    <tr>\n",
       "      <td>critic_score</td>\n",
       "      <td>0.331057</td>\n",
       "      <td>1.000000</td>\n",
       "      <td>0.539456</td>\n",
       "    </tr>\n",
       "    <tr>\n",
       "      <td>user_score</td>\n",
       "      <td>0.003227</td>\n",
       "      <td>0.539456</td>\n",
       "      <td>1.000000</td>\n",
       "    </tr>\n",
       "  </tbody>\n",
       "</table>\n",
       "</div>"
      ],
      "text/plain": [
       "              total_sales  critic_score  user_score\n",
       "total_sales      1.000000      0.331057    0.003227\n",
       "critic_score     0.331057      1.000000    0.539456\n",
       "user_score       0.003227      0.539456    1.000000"
      ]
     },
     "metadata": {},
     "output_type": "display_data"
    },
    {
     "data": {
      "image/png": "[encoded data removed]",
      "text/plain": [
       "<Figure size 432x288 with 1 Axes>"
      ]
     },
     "metadata": {
      "needs_background": "light"
     },
     "output_type": "display_data"
    },
    {
     "data": {
      "image/png": "[encoded data removed]",
      "text/plain": [
       "<Figure size 432x288 with 1 Axes>"
      ]
     },
     "metadata": {
      "needs_background": "light"
     },
     "output_type": "display_data"
    },
    {
     "name": "stdout",
     "output_type": "stream",
     "text": [
      "\n",
      "X360\n"
     ]
    },
    {
     "data": {
      "text/html": [
       "<div>\n",
       "<style scoped>\n",
       "    .dataframe tbody tr th:only-of-type {\n",
       "        vertical-align: middle;\n",
       "    }\n",
       "\n",
       "    .dataframe tbody tr th {\n",
       "        vertical-align: top;\n",
       "    }\n",
       "\n",
       "    .dataframe thead th {\n",
       "        text-align: right;\n",
       "    }\n",
       "</style>\n",
       "<table border=\"1\" class=\"dataframe\">\n",
       "  <thead>\n",
       "    <tr style=\"text-align: right;\">\n",
       "      <th></th>\n",
       "      <th>total_sales</th>\n",
       "      <th>critic_score</th>\n",
       "      <th>user_score</th>\n",
       "    </tr>\n",
       "  </thead>\n",
       "  <tbody>\n",
       "    <tr>\n",
       "      <td>total_sales</td>\n",
       "      <td>1.000000</td>\n",
       "      <td>0.360573</td>\n",
       "      <td>-0.002014</td>\n",
       "    </tr>\n",
       "    <tr>\n",
       "      <td>critic_score</td>\n",
       "      <td>0.360573</td>\n",
       "      <td>1.000000</td>\n",
       "      <td>0.557352</td>\n",
       "    </tr>\n",
       "    <tr>\n",
       "      <td>user_score</td>\n",
       "      <td>-0.002014</td>\n",
       "      <td>0.557352</td>\n",
       "      <td>1.000000</td>\n",
       "    </tr>\n",
       "  </tbody>\n",
       "</table>\n",
       "</div>"
      ],
      "text/plain": [
       "              total_sales  critic_score  user_score\n",
       "total_sales      1.000000      0.360573   -0.002014\n",
       "critic_score     0.360573      1.000000    0.557352\n",
       "user_score      -0.002014      0.557352    1.000000"
      ]
     },
     "metadata": {},
     "output_type": "display_data"
    },
    {
     "data": {
      "image/png": "[encoded data removed]",
      "text/plain": [
       "<Figure size 432x288 with 1 Axes>"
      ]
     },
     "metadata": {
      "needs_background": "light"
     },
     "output_type": "display_data"
    },
    {
     "data": {
      "image/png": "[encoded data removed]",
      "text/plain": [
       "<Figure size 432x288 with 1 Axes>"
      ]
     },
     "metadata": {
      "needs_background": "light"
     },
     "output_type": "display_data"
    },
    {
     "name": "stdout",
     "output_type": "stream",
     "text": [
      "\n",
      "3DS\n"
     ]
    },
    {
     "data": {
      "text/html": [
       "<div>\n",
       "<style scoped>\n",
       "    .dataframe tbody tr th:only-of-type {\n",
       "        vertical-align: middle;\n",
       "    }\n",
       "\n",
       "    .dataframe tbody tr th {\n",
       "        vertical-align: top;\n",
       "    }\n",
       "\n",
       "    .dataframe thead th {\n",
       "        text-align: right;\n",
       "    }\n",
       "</style>\n",
       "<table border=\"1\" class=\"dataframe\">\n",
       "  <thead>\n",
       "    <tr style=\"text-align: right;\">\n",
       "      <th></th>\n",
       "      <th>total_sales</th>\n",
       "      <th>critic_score</th>\n",
       "      <th>user_score</th>\n",
       "    </tr>\n",
       "  </thead>\n",
       "  <tbody>\n",
       "    <tr>\n",
       "      <td>total_sales</td>\n",
       "      <td>1.000000</td>\n",
       "      <td>0.310553</td>\n",
       "      <td>0.201813</td>\n",
       "    </tr>\n",
       "    <tr>\n",
       "      <td>critic_score</td>\n",
       "      <td>0.310553</td>\n",
       "      <td>1.000000</td>\n",
       "      <td>0.722762</td>\n",
       "    </tr>\n",
       "    <tr>\n",
       "      <td>user_score</td>\n",
       "      <td>0.201813</td>\n",
       "      <td>0.722762</td>\n",
       "      <td>1.000000</td>\n",
       "    </tr>\n",
       "  </tbody>\n",
       "</table>\n",
       "</div>"
      ],
      "text/plain": [
       "              total_sales  critic_score  user_score\n",
       "total_sales      1.000000      0.310553    0.201813\n",
       "critic_score     0.310553      1.000000    0.722762\n",
       "user_score       0.201813      0.722762    1.000000"
      ]
     },
     "metadata": {},
     "output_type": "display_data"
    },
    {
     "data": {
      "image/png": "[encoded data removed]",
      "text/plain": [
       "<Figure size 432x288 with 1 Axes>"
      ]
     },
     "metadata": {
      "needs_background": "light"
     },
     "output_type": "display_data"
    },
    {
     "data": {
      "image/png": "[encoded data removed]",
      "text/plain": [
       "<Figure size 432x288 with 1 Axes>"
      ]
     },
     "metadata": {
      "needs_background": "light"
     },
     "output_type": "display_data"
    },
    {
     "name": "stdout",
     "output_type": "stream",
     "text": [
      "\n",
      "XOne\n"
     ]
    },
    {
     "data": {
      "text/html": [
       "<div>\n",
       "<style scoped>\n",
       "    .dataframe tbody tr th:only-of-type {\n",
       "        vertical-align: middle;\n",
       "    }\n",
       "\n",
       "    .dataframe tbody tr th {\n",
       "        vertical-align: top;\n",
       "    }\n",
       "\n",
       "    .dataframe thead th {\n",
       "        text-align: right;\n",
       "    }\n",
       "</style>\n",
       "<table border=\"1\" class=\"dataframe\">\n",
       "  <thead>\n",
       "    <tr style=\"text-align: right;\">\n",
       "      <th></th>\n",
       "      <th>total_sales</th>\n",
       "      <th>critic_score</th>\n",
       "      <th>user_score</th>\n",
       "    </tr>\n",
       "  </thead>\n",
       "  <tbody>\n",
       "    <tr>\n",
       "      <td>total_sales</td>\n",
       "      <td>1.000000</td>\n",
       "      <td>0.410422</td>\n",
       "      <td>-0.094003</td>\n",
       "    </tr>\n",
       "    <tr>\n",
       "      <td>critic_score</td>\n",
       "      <td>0.410422</td>\n",
       "      <td>1.000000</td>\n",
       "      <td>0.472462</td>\n",
       "    </tr>\n",
       "    <tr>\n",
       "      <td>user_score</td>\n",
       "      <td>-0.094003</td>\n",
       "      <td>0.472462</td>\n",
       "      <td>1.000000</td>\n",
       "    </tr>\n",
       "  </tbody>\n",
       "</table>\n",
       "</div>"
      ],
      "text/plain": [
       "              total_sales  critic_score  user_score\n",
       "total_sales      1.000000      0.410422   -0.094003\n",
       "critic_score     0.410422      1.000000    0.472462\n",
       "user_score      -0.094003      0.472462    1.000000"
      ]
     },
     "metadata": {},
     "output_type": "display_data"
    },
    {
     "data": {
      "image/png": "[encoded data removed]",
      "text/plain": [
       "<Figure size 432x288 with 1 Axes>"
      ]
     },
     "metadata": {
      "needs_background": "light"
     },
     "output_type": "display_data"
    },
    {
     "data": {
      "image/png": "[encoded data removed]",
      "text/plain": [
       "<Figure size 432x288 with 1 Axes>"
      ]
     },
     "metadata": {
      "needs_background": "light"
     },
     "output_type": "display_data"
    }
   ],
   "source": [
    "col_list = ['critic_score', 'user_score']\n",
    "plat_list = ['PS3', 'X360', '3DS', 'XOne']\n",
    "for plat in plat_list :\n",
    "    df_temp = df_act.query('platform == @plat & critic_score > 0 & user_score >0')\n",
    "    print()\n",
    "    print(plat)\n",
    "    display(df_temp[['total_sales', 'critic_score', 'user_score']].corr())\n",
    "    for col in col_list :\n",
    "        df_temp.plot(x=col, y='total_sales', kind='scatter')\n",
    "        plt.ticklabel_format(style='plain')\n",
    "        plt.show()"
   ]
  },
  {
   "cell_type": "markdown",
   "metadata": {},
   "source": [
    "Остальные платформы показывают схожую картину взаимосвязи с critic_score и user_score, за исключением 3DS, у которой почему-то мнение пользователей сыграло некоторую роль в продажах. Возможно в продажной инфраструктуре 3DS большая интеграция фидбэка пользователей?"
   ]
  },
  {
   "cell_type": "markdown",
   "metadata": {},
   "source": [
    "### Посмотрим на общее распределение игр по жанрам."
   ]
  },
  {
   "cell_type": "code",
   "execution_count": 72,
   "metadata": {},
   "outputs": [
    {
     "data": {
      "text/plain": [
       "genre\n",
       "Action          1031\n",
       "Role-Playing     370\n",
       "Adventure        302\n",
       "Sports           268\n",
       "Shooter          235\n",
       "Misc             192\n",
       "Racing           115\n",
       "Fighting         109\n",
       "Platform          85\n",
       "Simulation        80\n",
       "Strategy          71\n",
       "Puzzle            28\n",
       "Name: name, dtype: int64"
      ]
     },
     "execution_count": 72,
     "metadata": {},
     "output_type": "execute_result"
    }
   ],
   "source": [
    "act_genres = df_act.groupby(['genre'])['name'].count().sort_values(ascending=False)\n",
    "act_genres"
   ]
  },
  {
   "cell_type": "code",
   "execution_count": 73,
   "metadata": {},
   "outputs": [
    {
     "data": {
      "text/plain": [
       "<matplotlib.axes._subplots.AxesSubplot at 0x26451915548>"
      ]
     },
     "execution_count": 73,
     "metadata": {},
     "output_type": "execute_result"
    },
    {
     "data": {
      "image/png": "[encoded data removed]",
      "text/plain": [
       "<Figure size 1080x360 with 1 Axes>"
      ]
     },
     "metadata": {
      "needs_background": "light"
     },
     "output_type": "display_data"
    }
   ],
   "source": [
    "act_genres.plot.bar(figsize=(15, 5))"
   ]
  },
  {
   "cell_type": "code",
   "execution_count": 74,
   "metadata": {},
   "outputs": [
    {
     "data": {
      "text/html": [
       "<div>\n",
       "<style scoped>\n",
       "    .dataframe tbody tr th:only-of-type {\n",
       "        vertical-align: middle;\n",
       "    }\n",
       "\n",
       "    .dataframe tbody tr th {\n",
       "        vertical-align: top;\n",
       "    }\n",
       "\n",
       "    .dataframe thead th {\n",
       "        text-align: right;\n",
       "    }\n",
       "</style>\n",
       "<table border=\"1\" class=\"dataframe\">\n",
       "  <thead>\n",
       "    <tr style=\"text-align: right;\">\n",
       "      <th></th>\n",
       "      <th>total_sales</th>\n",
       "    </tr>\n",
       "    <tr>\n",
       "      <th>genre</th>\n",
       "      <th></th>\n",
       "    </tr>\n",
       "  </thead>\n",
       "  <tbody>\n",
       "    <tr>\n",
       "      <td>Action</td>\n",
       "      <td>441.12</td>\n",
       "    </tr>\n",
       "    <tr>\n",
       "      <td>Shooter</td>\n",
       "      <td>304.73</td>\n",
       "    </tr>\n",
       "    <tr>\n",
       "      <td>Role-Playing</td>\n",
       "      <td>192.80</td>\n",
       "    </tr>\n",
       "    <tr>\n",
       "      <td>Sports</td>\n",
       "      <td>181.07</td>\n",
       "    </tr>\n",
       "    <tr>\n",
       "      <td>Misc</td>\n",
       "      <td>85.04</td>\n",
       "    </tr>\n",
       "    <tr>\n",
       "      <td>Platform</td>\n",
       "      <td>61.00</td>\n",
       "    </tr>\n",
       "    <tr>\n",
       "      <td>Racing</td>\n",
       "      <td>53.50</td>\n",
       "    </tr>\n",
       "    <tr>\n",
       "      <td>Fighting</td>\n",
       "      <td>44.49</td>\n",
       "    </tr>\n",
       "    <tr>\n",
       "      <td>Simulation</td>\n",
       "      <td>35.12</td>\n",
       "    </tr>\n",
       "    <tr>\n",
       "      <td>Adventure</td>\n",
       "      <td>29.43</td>\n",
       "    </tr>\n",
       "    <tr>\n",
       "      <td>Strategy</td>\n",
       "      <td>13.34</td>\n",
       "    </tr>\n",
       "    <tr>\n",
       "      <td>Puzzle</td>\n",
       "      <td>4.89</td>\n",
       "    </tr>\n",
       "  </tbody>\n",
       "</table>\n",
       "</div>"
      ],
      "text/plain": [
       "              total_sales\n",
       "genre                    \n",
       "Action             441.12\n",
       "Shooter            304.73\n",
       "Role-Playing       192.80\n",
       "Sports             181.07\n",
       "Misc                85.04\n",
       "Platform            61.00\n",
       "Racing              53.50\n",
       "Fighting            44.49\n",
       "Simulation          35.12\n",
       "Adventure           29.43\n",
       "Strategy            13.34\n",
       "Puzzle               4.89"
      ]
     },
     "execution_count": 74,
     "metadata": {},
     "output_type": "execute_result"
    }
   ],
   "source": [
    "act_genre_sales = df_act.pivot_table(index='genre', values='total_sales', aggfunc=sum).sort_values(\n",
    "    by='total_sales', ascending=False)\n",
    "act_genre_sales"
   ]
  },
  {
   "cell_type": "code",
   "execution_count": 75,
   "metadata": {},
   "outputs": [
    {
     "data": {
      "text/plain": [
       "<matplotlib.axes._subplots.AxesSubplot at 0x26451b44948>"
      ]
     },
     "execution_count": 75,
     "metadata": {},
     "output_type": "execute_result"
    },
    {
     "data": {
      "image/png": "[encoded data removed]",
      "text/plain": [
       "<Figure size 1080x360 with 1 Axes>"
      ]
     },
     "metadata": {
      "needs_background": "light"
     },
     "output_type": "display_data"
    }
   ],
   "source": [
    "act_genre_sales.plot.bar(figsize=(15, 5))"
   ]
  },
  {
   "cell_type": "code",
   "execution_count": 76,
   "metadata": {},
   "outputs": [
    {
     "data": {
      "text/html": [
       "<div>\n",
       "<style scoped>\n",
       "    .dataframe tbody tr th:only-of-type {\n",
       "        vertical-align: middle;\n",
       "    }\n",
       "\n",
       "    .dataframe tbody tr th {\n",
       "        vertical-align: top;\n",
       "    }\n",
       "\n",
       "    .dataframe thead th {\n",
       "        text-align: right;\n",
       "    }\n",
       "</style>\n",
       "<table border=\"1\" class=\"dataframe\">\n",
       "  <thead>\n",
       "    <tr style=\"text-align: right;\">\n",
       "      <th></th>\n",
       "      <th>titles</th>\n",
       "      <th>sales</th>\n",
       "      <th>sales_per_title</th>\n",
       "    </tr>\n",
       "    <tr>\n",
       "      <th>genre</th>\n",
       "      <th></th>\n",
       "      <th></th>\n",
       "      <th></th>\n",
       "    </tr>\n",
       "  </thead>\n",
       "  <tbody>\n",
       "    <tr>\n",
       "      <td>Shooter</td>\n",
       "      <td>235</td>\n",
       "      <td>304.73</td>\n",
       "      <td>1.296723</td>\n",
       "    </tr>\n",
       "    <tr>\n",
       "      <td>Platform</td>\n",
       "      <td>85</td>\n",
       "      <td>61.00</td>\n",
       "      <td>0.717647</td>\n",
       "    </tr>\n",
       "    <tr>\n",
       "      <td>Sports</td>\n",
       "      <td>268</td>\n",
       "      <td>181.07</td>\n",
       "      <td>0.675634</td>\n",
       "    </tr>\n",
       "    <tr>\n",
       "      <td>Role-Playing</td>\n",
       "      <td>370</td>\n",
       "      <td>192.80</td>\n",
       "      <td>0.521081</td>\n",
       "    </tr>\n",
       "    <tr>\n",
       "      <td>Racing</td>\n",
       "      <td>115</td>\n",
       "      <td>53.50</td>\n",
       "      <td>0.465217</td>\n",
       "    </tr>\n",
       "    <tr>\n",
       "      <td>Misc</td>\n",
       "      <td>192</td>\n",
       "      <td>85.04</td>\n",
       "      <td>0.442917</td>\n",
       "    </tr>\n",
       "    <tr>\n",
       "      <td>Simulation</td>\n",
       "      <td>80</td>\n",
       "      <td>35.12</td>\n",
       "      <td>0.439000</td>\n",
       "    </tr>\n",
       "    <tr>\n",
       "      <td>Action</td>\n",
       "      <td>1031</td>\n",
       "      <td>441.12</td>\n",
       "      <td>0.427856</td>\n",
       "    </tr>\n",
       "    <tr>\n",
       "      <td>Fighting</td>\n",
       "      <td>109</td>\n",
       "      <td>44.49</td>\n",
       "      <td>0.408165</td>\n",
       "    </tr>\n",
       "    <tr>\n",
       "      <td>Strategy</td>\n",
       "      <td>71</td>\n",
       "      <td>13.34</td>\n",
       "      <td>0.187887</td>\n",
       "    </tr>\n",
       "    <tr>\n",
       "      <td>Puzzle</td>\n",
       "      <td>28</td>\n",
       "      <td>4.89</td>\n",
       "      <td>0.174643</td>\n",
       "    </tr>\n",
       "    <tr>\n",
       "      <td>Adventure</td>\n",
       "      <td>302</td>\n",
       "      <td>29.43</td>\n",
       "      <td>0.097450</td>\n",
       "    </tr>\n",
       "  </tbody>\n",
       "</table>\n",
       "</div>"
      ],
      "text/plain": [
       "              titles   sales  sales_per_title\n",
       "genre                                        \n",
       "Shooter          235  304.73         1.296723\n",
       "Platform          85   61.00         0.717647\n",
       "Sports           268  181.07         0.675634\n",
       "Role-Playing     370  192.80         0.521081\n",
       "Racing           115   53.50         0.465217\n",
       "Misc             192   85.04         0.442917\n",
       "Simulation        80   35.12         0.439000\n",
       "Action          1031  441.12         0.427856\n",
       "Fighting         109   44.49         0.408165\n",
       "Strategy          71   13.34         0.187887\n",
       "Puzzle            28    4.89         0.174643\n",
       "Adventure        302   29.43         0.097450"
      ]
     },
     "execution_count": 76,
     "metadata": {},
     "output_type": "execute_result"
    }
   ],
   "source": [
    "genre_piv = df_act.pivot_table(index='genre', values='total_sales', aggfunc=['count', 'sum'])\n",
    "genre_piv.columns = ['titles', 'sales']\n",
    "genre_piv['sales_per_title'] = genre_piv['sales'] / genre_piv['titles']\n",
    "genre_piv = genre_piv.sort_values(by='sales_per_title', ascending=False)\n",
    "genre_piv"
   ]
  },
  {
   "cell_type": "code",
   "execution_count": 77,
   "metadata": {},
   "outputs": [
    {
     "data": {
      "text/plain": [
       "<matplotlib.axes._subplots.AxesSubplot at 0x26451a2d588>"
      ]
     },
     "execution_count": 77,
     "metadata": {},
     "output_type": "execute_result"
    },
    {
     "data": {
      "image/png": "[encoded data removed]",
      "text/plain": [
       "<Figure size 1080x360 with 1 Axes>"
      ]
     },
     "metadata": {
      "needs_background": "light"
     },
     "output_type": "display_data"
    }
   ],
   "source": [
    "genre_piv['sales_per_title'].plot.bar(figsize=(15, 5))"
   ]
  },
  {
   "cell_type": "markdown",
   "metadata": {},
   "source": [
    "Выводы\n",
    "\n",
    "Очень интересно, несмотря на то, что c хорошей форой больше всего и выпускается и продаётся игр жанра Action, самым прибыльным и продажным является жанр Shooter. Также любопытно как просел за актуальный период жанр Adventure, третий с начала по релизу тайтлов и одновременно третий с конца по продажам. "
   ]
  },
  {
   "cell_type": "markdown",
   "metadata": {},
   "source": [
    "## Составим портрет пользователя каждого региона"
   ]
  },
  {
   "cell_type": "markdown",
   "metadata": {},
   "source": [
    "Определим для пользователя каждого региона (NA, EU, JP):\n",
    "\n",
    "    Самые популярные платформы (топ-5).\n",
    "\n",
    "    Самые популярные жанры (топ-5).\n",
    "\n",
    "    Влияние рейтинга ESRB на продажи в отдельных регионах."
   ]
  },
  {
   "cell_type": "markdown",
   "metadata": {},
   "source": [
    "### Самые популярные платформы (топ-5). "
   ]
  },
  {
   "cell_type": "code",
   "execution_count": 78,
   "metadata": {},
   "outputs": [],
   "source": [
    "def reg_plat_sales(data, values, aggfunc='sum') :\n",
    "    return data.pivot_table(index='platform', values=values, aggfunc=aggfunc).sort_values(\n",
    "        by=values, ascending=False).head(5)"
   ]
  },
  {
   "cell_type": "code",
   "execution_count": 79,
   "metadata": {},
   "outputs": [
    {
     "data": {
      "text/html": [
       "<div>\n",
       "<style scoped>\n",
       "    .dataframe tbody tr th:only-of-type {\n",
       "        vertical-align: middle;\n",
       "    }\n",
       "\n",
       "    .dataframe tbody tr th {\n",
       "        vertical-align: top;\n",
       "    }\n",
       "\n",
       "    .dataframe thead th {\n",
       "        text-align: right;\n",
       "    }\n",
       "</style>\n",
       "<table border=\"1\" class=\"dataframe\">\n",
       "  <thead>\n",
       "    <tr style=\"text-align: right;\">\n",
       "      <th></th>\n",
       "      <th>na_sales</th>\n",
       "    </tr>\n",
       "    <tr>\n",
       "      <th>platform</th>\n",
       "      <th></th>\n",
       "    </tr>\n",
       "  </thead>\n",
       "  <tbody>\n",
       "    <tr>\n",
       "      <td>X360</td>\n",
       "      <td>140.05</td>\n",
       "    </tr>\n",
       "    <tr>\n",
       "      <td>PS4</td>\n",
       "      <td>108.74</td>\n",
       "    </tr>\n",
       "    <tr>\n",
       "      <td>PS3</td>\n",
       "      <td>103.38</td>\n",
       "    </tr>\n",
       "    <tr>\n",
       "      <td>XOne</td>\n",
       "      <td>93.12</td>\n",
       "    </tr>\n",
       "    <tr>\n",
       "      <td>3DS</td>\n",
       "      <td>55.31</td>\n",
       "    </tr>\n",
       "  </tbody>\n",
       "</table>\n",
       "</div>"
      ],
      "text/plain": [
       "          na_sales\n",
       "platform          \n",
       "X360        140.05\n",
       "PS4         108.74\n",
       "PS3         103.38\n",
       "XOne         93.12\n",
       "3DS          55.31"
      ]
     },
     "execution_count": 79,
     "metadata": {},
     "output_type": "execute_result"
    }
   ],
   "source": [
    "na_plat_sales = reg_plat_sales(df_act, 'na_sales')\n",
    "na_plat_sales"
   ]
  },
  {
   "cell_type": "code",
   "execution_count": 80,
   "metadata": {},
   "outputs": [
    {
     "data": {
      "text/html": [
       "<div>\n",
       "<style scoped>\n",
       "    .dataframe tbody tr th:only-of-type {\n",
       "        vertical-align: middle;\n",
       "    }\n",
       "\n",
       "    .dataframe tbody tr th {\n",
       "        vertical-align: top;\n",
       "    }\n",
       "\n",
       "    .dataframe thead th {\n",
       "        text-align: right;\n",
       "    }\n",
       "</style>\n",
       "<table border=\"1\" class=\"dataframe\">\n",
       "  <thead>\n",
       "    <tr style=\"text-align: right;\">\n",
       "      <th></th>\n",
       "      <th>eu_sales</th>\n",
       "    </tr>\n",
       "    <tr>\n",
       "      <th>platform</th>\n",
       "      <th></th>\n",
       "    </tr>\n",
       "  </thead>\n",
       "  <tbody>\n",
       "    <tr>\n",
       "      <td>PS4</td>\n",
       "      <td>141.09</td>\n",
       "    </tr>\n",
       "    <tr>\n",
       "      <td>PS3</td>\n",
       "      <td>106.86</td>\n",
       "    </tr>\n",
       "    <tr>\n",
       "      <td>X360</td>\n",
       "      <td>74.52</td>\n",
       "    </tr>\n",
       "    <tr>\n",
       "      <td>XOne</td>\n",
       "      <td>51.59</td>\n",
       "    </tr>\n",
       "    <tr>\n",
       "      <td>3DS</td>\n",
       "      <td>42.64</td>\n",
       "    </tr>\n",
       "  </tbody>\n",
       "</table>\n",
       "</div>"
      ],
      "text/plain": [
       "          eu_sales\n",
       "platform          \n",
       "PS4         141.09\n",
       "PS3         106.86\n",
       "X360         74.52\n",
       "XOne         51.59\n",
       "3DS          42.64"
      ]
     },
     "execution_count": 80,
     "metadata": {},
     "output_type": "execute_result"
    }
   ],
   "source": [
    "eu_plat_sales = reg_plat_sales(df_act, 'eu_sales')\n",
    "eu_plat_sales"
   ]
  },
  {
   "cell_type": "code",
   "execution_count": 81,
   "metadata": {},
   "outputs": [
    {
     "data": {
      "text/html": [
       "<div>\n",
       "<style scoped>\n",
       "    .dataframe tbody tr th:only-of-type {\n",
       "        vertical-align: middle;\n",
       "    }\n",
       "\n",
       "    .dataframe tbody tr th {\n",
       "        vertical-align: top;\n",
       "    }\n",
       "\n",
       "    .dataframe thead th {\n",
       "        text-align: right;\n",
       "    }\n",
       "</style>\n",
       "<table border=\"1\" class=\"dataframe\">\n",
       "  <thead>\n",
       "    <tr style=\"text-align: right;\">\n",
       "      <th></th>\n",
       "      <th>jp_sales</th>\n",
       "    </tr>\n",
       "    <tr>\n",
       "      <th>platform</th>\n",
       "      <th></th>\n",
       "    </tr>\n",
       "  </thead>\n",
       "  <tbody>\n",
       "    <tr>\n",
       "      <td>3DS</td>\n",
       "      <td>87.79</td>\n",
       "    </tr>\n",
       "    <tr>\n",
       "      <td>PS3</td>\n",
       "      <td>35.29</td>\n",
       "    </tr>\n",
       "    <tr>\n",
       "      <td>PSV</td>\n",
       "      <td>21.04</td>\n",
       "    </tr>\n",
       "    <tr>\n",
       "      <td>PS4</td>\n",
       "      <td>15.96</td>\n",
       "    </tr>\n",
       "    <tr>\n",
       "      <td>WiiU</td>\n",
       "      <td>13.01</td>\n",
       "    </tr>\n",
       "  </tbody>\n",
       "</table>\n",
       "</div>"
      ],
      "text/plain": [
       "          jp_sales\n",
       "platform          \n",
       "3DS          87.79\n",
       "PS3          35.29\n",
       "PSV          21.04\n",
       "PS4          15.96\n",
       "WiiU         13.01"
      ]
     },
     "execution_count": 81,
     "metadata": {},
     "output_type": "execute_result"
    }
   ],
   "source": [
    "jp_plat_sales = reg_plat_sales(df_act, 'jp_sales')\n",
    "jp_plat_sales"
   ]
  },
  {
   "cell_type": "markdown",
   "metadata": {},
   "source": [
    "Вывод\n",
    "\n",
    "Весьма показательные цифры, в NA х360 уделывает остальные платформы по продажам, возможно потому что его производит американская компания Microsoft, для неё это родной регион, и справедливо, что она там может обладать разнообразными инфраструктурными преимуществами, а также возможно лучше понимает поведение нативного ей пользователя.\n",
    "\n",
    "Цифры по EU тоже логичные, в этом регионе доминирует англоязычный дискурс, и покупательное поведение игроков похоже на поведение в NA, единственное различие в отсутствии инфраструктурной скидки Microsoft, X360 и XOne занимают сравнительно более низкие позиции.\n",
    "\n",
    "А в Японии уже начинает реализовываться тренд на развитие мобильных игровых платформ и лидирующие позиции занимают 3DS и PSV, хотя PSV в остальных регионах даже не появляется в топ 5. Также в Японии в топ 5 только национальный продукт, Sony и Nintendo.\n"
   ]
  },
  {
   "cell_type": "markdown",
   "metadata": {},
   "source": [
    "### Самые популярные жанры (топ-5). "
   ]
  },
  {
   "cell_type": "code",
   "execution_count": 82,
   "metadata": {},
   "outputs": [],
   "source": [
    "def reg_genre_sales(data, values, aggfunc='sum') :\n",
    "    return data.pivot_table(index='genre', values=values, aggfunc=aggfunc).sort_values(\n",
    "        by=values, ascending=False).head(5)"
   ]
  },
  {
   "cell_type": "code",
   "execution_count": 83,
   "metadata": {},
   "outputs": [
    {
     "data": {
      "text/html": [
       "<div>\n",
       "<style scoped>\n",
       "    .dataframe tbody tr th:only-of-type {\n",
       "        vertical-align: middle;\n",
       "    }\n",
       "\n",
       "    .dataframe tbody tr th {\n",
       "        vertical-align: top;\n",
       "    }\n",
       "\n",
       "    .dataframe thead th {\n",
       "        text-align: right;\n",
       "    }\n",
       "</style>\n",
       "<table border=\"1\" class=\"dataframe\">\n",
       "  <thead>\n",
       "    <tr style=\"text-align: right;\">\n",
       "      <th></th>\n",
       "      <th>na_sales</th>\n",
       "    </tr>\n",
       "    <tr>\n",
       "      <th>genre</th>\n",
       "      <th></th>\n",
       "    </tr>\n",
       "  </thead>\n",
       "  <tbody>\n",
       "    <tr>\n",
       "      <td>Action</td>\n",
       "      <td>177.84</td>\n",
       "    </tr>\n",
       "    <tr>\n",
       "      <td>Shooter</td>\n",
       "      <td>144.77</td>\n",
       "    </tr>\n",
       "    <tr>\n",
       "      <td>Sports</td>\n",
       "      <td>81.53</td>\n",
       "    </tr>\n",
       "    <tr>\n",
       "      <td>Role-Playing</td>\n",
       "      <td>64.00</td>\n",
       "    </tr>\n",
       "    <tr>\n",
       "      <td>Misc</td>\n",
       "      <td>38.19</td>\n",
       "    </tr>\n",
       "  </tbody>\n",
       "</table>\n",
       "</div>"
      ],
      "text/plain": [
       "              na_sales\n",
       "genre                 \n",
       "Action          177.84\n",
       "Shooter         144.77\n",
       "Sports           81.53\n",
       "Role-Playing     64.00\n",
       "Misc             38.19"
      ]
     },
     "execution_count": 83,
     "metadata": {},
     "output_type": "execute_result"
    }
   ],
   "source": [
    "na_genre_sales = reg_genre_sales(df_act, 'na_sales')\n",
    "na_genre_sales"
   ]
  },
  {
   "cell_type": "code",
   "execution_count": 84,
   "metadata": {},
   "outputs": [
    {
     "data": {
      "text/html": [
       "<div>\n",
       "<style scoped>\n",
       "    .dataframe tbody tr th:only-of-type {\n",
       "        vertical-align: middle;\n",
       "    }\n",
       "\n",
       "    .dataframe tbody tr th {\n",
       "        vertical-align: top;\n",
       "    }\n",
       "\n",
       "    .dataframe thead th {\n",
       "        text-align: right;\n",
       "    }\n",
       "</style>\n",
       "<table border=\"1\" class=\"dataframe\">\n",
       "  <thead>\n",
       "    <tr style=\"text-align: right;\">\n",
       "      <th></th>\n",
       "      <th>eu_sales</th>\n",
       "    </tr>\n",
       "    <tr>\n",
       "      <th>genre</th>\n",
       "      <th></th>\n",
       "    </tr>\n",
       "  </thead>\n",
       "  <tbody>\n",
       "    <tr>\n",
       "      <td>Action</td>\n",
       "      <td>159.34</td>\n",
       "    </tr>\n",
       "    <tr>\n",
       "      <td>Shooter</td>\n",
       "      <td>113.47</td>\n",
       "    </tr>\n",
       "    <tr>\n",
       "      <td>Sports</td>\n",
       "      <td>69.09</td>\n",
       "    </tr>\n",
       "    <tr>\n",
       "      <td>Role-Playing</td>\n",
       "      <td>48.53</td>\n",
       "    </tr>\n",
       "    <tr>\n",
       "      <td>Racing</td>\n",
       "      <td>27.29</td>\n",
       "    </tr>\n",
       "  </tbody>\n",
       "</table>\n",
       "</div>"
      ],
      "text/plain": [
       "              eu_sales\n",
       "genre                 \n",
       "Action          159.34\n",
       "Shooter         113.47\n",
       "Sports           69.09\n",
       "Role-Playing     48.53\n",
       "Racing           27.29"
      ]
     },
     "execution_count": 84,
     "metadata": {},
     "output_type": "execute_result"
    }
   ],
   "source": [
    "eu_genre_sales = reg_genre_sales(df_act, 'eu_sales')\n",
    "eu_genre_sales"
   ]
  },
  {
   "cell_type": "code",
   "execution_count": 85,
   "metadata": {},
   "outputs": [
    {
     "data": {
      "text/html": [
       "<div>\n",
       "<style scoped>\n",
       "    .dataframe tbody tr th:only-of-type {\n",
       "        vertical-align: middle;\n",
       "    }\n",
       "\n",
       "    .dataframe tbody tr th {\n",
       "        vertical-align: top;\n",
       "    }\n",
       "\n",
       "    .dataframe thead th {\n",
       "        text-align: right;\n",
       "    }\n",
       "</style>\n",
       "<table border=\"1\" class=\"dataframe\">\n",
       "  <thead>\n",
       "    <tr style=\"text-align: right;\">\n",
       "      <th></th>\n",
       "      <th>jp_sales</th>\n",
       "    </tr>\n",
       "    <tr>\n",
       "      <th>genre</th>\n",
       "      <th></th>\n",
       "    </tr>\n",
       "  </thead>\n",
       "  <tbody>\n",
       "    <tr>\n",
       "      <td>Role-Playing</td>\n",
       "      <td>65.44</td>\n",
       "    </tr>\n",
       "    <tr>\n",
       "      <td>Action</td>\n",
       "      <td>52.80</td>\n",
       "    </tr>\n",
       "    <tr>\n",
       "      <td>Misc</td>\n",
       "      <td>12.86</td>\n",
       "    </tr>\n",
       "    <tr>\n",
       "      <td>Simulation</td>\n",
       "      <td>10.41</td>\n",
       "    </tr>\n",
       "    <tr>\n",
       "      <td>Fighting</td>\n",
       "      <td>9.44</td>\n",
       "    </tr>\n",
       "  </tbody>\n",
       "</table>\n",
       "</div>"
      ],
      "text/plain": [
       "              jp_sales\n",
       "genre                 \n",
       "Role-Playing     65.44\n",
       "Action           52.80\n",
       "Misc             12.86\n",
       "Simulation       10.41\n",
       "Fighting          9.44"
      ]
     },
     "execution_count": 85,
     "metadata": {},
     "output_type": "execute_result"
    }
   ],
   "source": [
    "jp_genre_sales = reg_genre_sales(df_act, 'jp_sales')\n",
    "jp_genre_sales"
   ]
  },
  {
   "cell_type": "markdown",
   "metadata": {},
   "source": [
    "В разбивке по жанрам подтверждается тезис о сходстве потребительского поведения игрока в NA и EU, отличается только последняя позиция, возможно в EU её занимает Racing, потому что регион EU - родина Формулы 1.\n",
    "\n",
    "В Японии совершенно другая картина, вследствие значительных культурных различий."
   ]
  },
  {
   "cell_type": "markdown",
   "metadata": {},
   "source": [
    "### Влияет ли рейтинг ESRB на продажи в отдельном регионе?"
   ]
  },
  {
   "cell_type": "markdown",
   "metadata": {},
   "source": [
    "Значением \"U\" мы заполнили пропуски (от \"Unknown\")"
   ]
  },
  {
   "cell_type": "code",
   "execution_count": 86,
   "metadata": {},
   "outputs": [],
   "source": [
    "def reg_rating_sales(data, values, aggfunc='sum') :\n",
    "    return data.pivot_table(index='rating', values=values, aggfunc=aggfunc).sort_values(\n",
    "        by=values, ascending=False)"
   ]
  },
  {
   "cell_type": "code",
   "execution_count": 87,
   "metadata": {},
   "outputs": [
    {
     "data": {
      "text/html": [
       "<div>\n",
       "<style scoped>\n",
       "    .dataframe tbody tr th:only-of-type {\n",
       "        vertical-align: middle;\n",
       "    }\n",
       "\n",
       "    .dataframe tbody tr th {\n",
       "        vertical-align: top;\n",
       "    }\n",
       "\n",
       "    .dataframe thead th {\n",
       "        text-align: right;\n",
       "    }\n",
       "</style>\n",
       "<table border=\"1\" class=\"dataframe\">\n",
       "  <thead>\n",
       "    <tr style=\"text-align: right;\">\n",
       "      <th></th>\n",
       "      <th>na_sales</th>\n",
       "    </tr>\n",
       "    <tr>\n",
       "      <th>rating</th>\n",
       "      <th></th>\n",
       "    </tr>\n",
       "  </thead>\n",
       "  <tbody>\n",
       "    <tr>\n",
       "      <td>M</td>\n",
       "      <td>231.57</td>\n",
       "    </tr>\n",
       "    <tr>\n",
       "      <td>E</td>\n",
       "      <td>114.37</td>\n",
       "    </tr>\n",
       "    <tr>\n",
       "      <td>U</td>\n",
       "      <td>103.31</td>\n",
       "    </tr>\n",
       "    <tr>\n",
       "      <td>E10+</td>\n",
       "      <td>75.70</td>\n",
       "    </tr>\n",
       "    <tr>\n",
       "      <td>T</td>\n",
       "      <td>66.02</td>\n",
       "    </tr>\n",
       "  </tbody>\n",
       "</table>\n",
       "</div>"
      ],
      "text/plain": [
       "        na_sales\n",
       "rating          \n",
       "M         231.57\n",
       "E         114.37\n",
       "U         103.31\n",
       "E10+       75.70\n",
       "T          66.02"
      ]
     },
     "execution_count": 87,
     "metadata": {},
     "output_type": "execute_result"
    }
   ],
   "source": [
    "na_rating_sales = reg_rating_sales(df_act, 'na_sales')\n",
    "na_rating_sales"
   ]
  },
  {
   "cell_type": "code",
   "execution_count": 88,
   "metadata": {},
   "outputs": [
    {
     "data": {
      "text/html": [
       "<div>\n",
       "<style scoped>\n",
       "    .dataframe tbody tr th:only-of-type {\n",
       "        vertical-align: middle;\n",
       "    }\n",
       "\n",
       "    .dataframe tbody tr th {\n",
       "        vertical-align: top;\n",
       "    }\n",
       "\n",
       "    .dataframe thead th {\n",
       "        text-align: right;\n",
       "    }\n",
       "</style>\n",
       "<table border=\"1\" class=\"dataframe\">\n",
       "  <thead>\n",
       "    <tr style=\"text-align: right;\">\n",
       "      <th></th>\n",
       "      <th>eu_sales</th>\n",
       "    </tr>\n",
       "    <tr>\n",
       "      <th>rating</th>\n",
       "      <th></th>\n",
       "    </tr>\n",
       "  </thead>\n",
       "  <tbody>\n",
       "    <tr>\n",
       "      <td>M</td>\n",
       "      <td>193.96</td>\n",
       "    </tr>\n",
       "    <tr>\n",
       "      <td>E</td>\n",
       "      <td>113.03</td>\n",
       "    </tr>\n",
       "    <tr>\n",
       "      <td>U</td>\n",
       "      <td>91.50</td>\n",
       "    </tr>\n",
       "    <tr>\n",
       "      <td>E10+</td>\n",
       "      <td>55.37</td>\n",
       "    </tr>\n",
       "    <tr>\n",
       "      <td>T</td>\n",
       "      <td>52.96</td>\n",
       "    </tr>\n",
       "  </tbody>\n",
       "</table>\n",
       "</div>"
      ],
      "text/plain": [
       "        eu_sales\n",
       "rating          \n",
       "M         193.96\n",
       "E         113.03\n",
       "U          91.50\n",
       "E10+       55.37\n",
       "T          52.96"
      ]
     },
     "execution_count": 88,
     "metadata": {},
     "output_type": "execute_result"
    }
   ],
   "source": [
    "eu_rating_sales = reg_rating_sales(df_act, 'eu_sales')\n",
    "eu_rating_sales"
   ]
  },
  {
   "cell_type": "code",
   "execution_count": 89,
   "metadata": {},
   "outputs": [
    {
     "data": {
      "text/html": [
       "<div>\n",
       "<style scoped>\n",
       "    .dataframe tbody tr th:only-of-type {\n",
       "        vertical-align: middle;\n",
       "    }\n",
       "\n",
       "    .dataframe tbody tr th {\n",
       "        vertical-align: top;\n",
       "    }\n",
       "\n",
       "    .dataframe thead th {\n",
       "        text-align: right;\n",
       "    }\n",
       "</style>\n",
       "<table border=\"1\" class=\"dataframe\">\n",
       "  <thead>\n",
       "    <tr style=\"text-align: right;\">\n",
       "      <th></th>\n",
       "      <th>jp_sales</th>\n",
       "    </tr>\n",
       "    <tr>\n",
       "      <th>rating</th>\n",
       "      <th></th>\n",
       "    </tr>\n",
       "  </thead>\n",
       "  <tbody>\n",
       "    <tr>\n",
       "      <td>U</td>\n",
       "      <td>108.84</td>\n",
       "    </tr>\n",
       "    <tr>\n",
       "      <td>E</td>\n",
       "      <td>28.33</td>\n",
       "    </tr>\n",
       "    <tr>\n",
       "      <td>T</td>\n",
       "      <td>26.02</td>\n",
       "    </tr>\n",
       "    <tr>\n",
       "      <td>M</td>\n",
       "      <td>21.20</td>\n",
       "    </tr>\n",
       "    <tr>\n",
       "      <td>E10+</td>\n",
       "      <td>8.19</td>\n",
       "    </tr>\n",
       "  </tbody>\n",
       "</table>\n",
       "</div>"
      ],
      "text/plain": [
       "        jp_sales\n",
       "rating          \n",
       "U         108.84\n",
       "E          28.33\n",
       "T          26.02\n",
       "M          21.20\n",
       "E10+        8.19"
      ]
     },
     "execution_count": 89,
     "metadata": {},
     "output_type": "execute_result"
    }
   ],
   "source": [
    "jp_rating_sales = reg_rating_sales(df_act, 'jp_sales')\n",
    "jp_rating_sales"
   ]
  },
  {
   "cell_type": "markdown",
   "metadata": {},
   "source": [
    "Снова видна похожесть Северо-американского региона и Европейского. В Японии же американские игровые саморегулируиемые организации особо не интересуют ни геймеров, ни девелоперов. Также ESRB имеет ограниченное влияние и на американском и на европейском рынках, т.к. её рекомендации не имеют законодательной силы, что было подтверждено в 2011 году (как раз перед актуальным для нас периодом) американским верховным судом. Тем не менее её рекомендаций часто прислушиваются ритейлеры, и например вообще могут не брать в продажу игру с рейтингом АО (Adult Only)."
   ]
  },
  {
   "cell_type": "markdown",
   "metadata": {},
   "source": [
    "справка из вики:  \n",
    "\n",
    "    The ESRB ratings system is enforced via the voluntary leverage of the North American video game and retail industries for physical releases; most stores require customers to present photo identification when purchasing games carrying the ESRB's highest age ratings, and do not stock games which have not been rated. Additionally, major console manufacturers will not license games for their systems unless they carry ESRB ratings, while console manufacturers and most stores will refuse to stock games that the ESRB has rated as being appropriate for adults only. More recently, the ESRB began offering a system to automatically assign ratings for digitally-distributed games and mobile apps, which utilizes a survey answered by the product's publisher as opposed to a manual assessment by ESRB staff, allowing online storefronts to filter and restrict titles based on the ESRB. Through the International Age Rating Coalition (IARC), this method can generate equivalent ratings for other territories. Alongside its game rating operation, the ESRB also provides certification services for online privacy on websites and mobile apps. There have been attempts to pass federal and state laws to force retailers into compliance with the ESRB, but the 2011 Supreme Court case Brown v. Entertainment Merchants Association ruled that video games are protected speech, and such laws are unconstitutional. \n",
    "    \n",
    "https://en.wikipedia.org/wiki/Entertainment_Software_Rating_Board"
   ]
  },
  {
   "cell_type": "markdown",
   "metadata": {},
   "source": [
    "## Проверка гипотез"
   ]
  },
  {
   "cell_type": "markdown",
   "metadata": {},
   "source": [
    "Сформулируем и проверим следующие гипотезы:\n",
    "\n",
    "    Средние пользовательские рейтинги платформ Xbox One и PC одинаковые;\n",
    "\n",
    "    Средние пользовательские рейтинги жанров Action (англ. «действие», экшен-игры) и Sports (англ. «спортивные соревнования») разные.\n",
    "    \n"
   ]
  },
  {
   "cell_type": "markdown",
   "metadata": {},
   "source": [
    "### Средние пользовательские рейтинги платформ Xbox One и PC одинаковые"
   ]
  },
  {
   "cell_type": "markdown",
   "metadata": {},
   "source": [
    "H(0) - Средние пользовательские рейтинги платформ Xbox One и PC одинаковые\n",
    "\n",
    "H(1) - Средние пользовательские рейтинги платформ Xbox One и PC различаются"
   ]
  },
  {
   "cell_type": "code",
   "execution_count": 90,
   "metadata": {},
   "outputs": [
    {
     "data": {
      "text/plain": [
       "(182, 12)"
      ]
     },
     "metadata": {},
     "output_type": "display_data"
    },
    {
     "name": "stdout",
     "output_type": "stream",
     "text": [
      "6.521428571428572 - средний рейтинг Xbox One\n",
      "1.9069968429360695\n"
     ]
    }
   ],
   "source": [
    "df_act_xone = df_act.query('platform == \"XOne\" & user_score > 0')\n",
    "display(df_act_xone.shape)\n",
    "print(df_act_xone['user_score'].mean(), '- средний рейтинг Xbox One')\n",
    "print(df_act_xone['user_score'].var())"
   ]
  },
  {
   "cell_type": "code",
   "execution_count": 91,
   "metadata": {},
   "outputs": [
    {
     "data": {
      "text/plain": [
       "(206, 12)"
      ]
     },
     "metadata": {},
     "output_type": "display_data"
    },
    {
     "name": "stdout",
     "output_type": "stream",
     "text": [
      "6.4286407766990274 - средний рейтинг PC\n",
      "2.770443997158418\n"
     ]
    }
   ],
   "source": [
    "df_act_pc = df_act.query('platform == \"PC\" & user_score > 0')\n",
    "display(df_act_pc.shape)\n",
    "print(df_act_pc['user_score'].mean(), '- средний рейтинг PC')\n",
    "print(df_act_pc['user_score'].var())"
   ]
  },
  {
   "cell_type": "markdown",
   "metadata": {},
   "source": [
    "Размеры наших выборок(100 - 1000) предполагают выбор уровня значимости в 0.01"
   ]
  },
  {
   "cell_type": "code",
   "execution_count": 92,
   "metadata": {},
   "outputs": [
    {
     "name": "stdout",
     "output_type": "stream",
     "text": [
      "p-значение: 0.5489537965134912\n",
      "Не получилось отвергнуть нулевую гипотезу\n"
     ]
    }
   ],
   "source": [
    "alpha = .01\n",
    "\n",
    "results = st.ttest_ind(df_act_xone['user_score'], df_act_pc['user_score'], equal_var=False)\n",
    "\n",
    "print('p-значение:', results.pvalue)\n",
    "\n",
    "if results.pvalue < alpha:\n",
    "    print(\"Отвергаем нулевую гипотезу\")\n",
    "else:\n",
    "    print(\"Не получилось отвергнуть нулевую гипотезу\")"
   ]
  },
  {
   "cell_type": "markdown",
   "metadata": {},
   "source": [
    "Да, получается, что средние пользовательские рейтинги платформ Xbox One и PC одинаковые(достаточно близки), причем даже если бы минимальный уровень значимости был выбран .05, всё равно бы это было так.\n",
    "\n",
    "Тем не менее есть нюанс"
   ]
  },
  {
   "cell_type": "code",
   "execution_count": 93,
   "metadata": {},
   "outputs": [
    {
     "name": "stdout",
     "output_type": "stream",
     "text": [
      "1671 -уникальных названий игр в актуальном периоде\n",
      "2886 -всего выпущенных игр на разных платформах в актуальном периоде\n"
     ]
    }
   ],
   "source": [
    "print(len(df_act['name'].unique()), '-уникальных названий игр в актуальном периоде')\n",
    "print(len(df_act['name']), '-всего выпущенных игр на разных платформах в актуальном периоде')"
   ]
  },
  {
   "cell_type": "markdown",
   "metadata": {},
   "source": [
    "Это означает, что больше тысячи игр выпускались сразу на нескольких платформах, и таким образом их рейтинг на разных платформах может быть зависим, тем не менее есть и обратный фактор, процесс выпуска одной и той же игры на разных платформах может иметь очень большие различия, и рейтинг на другой платформе может снижаться из-за \"кривости порта\".\n",
    "\n",
    "По сумме этих факторов, считаю нашу обработку гипотезы актуальной."
   ]
  },
  {
   "cell_type": "markdown",
   "metadata": {},
   "source": [
    "### Средние пользовательские рейтинги жанров Action (англ. «действие», экшен-игры) и Sports (англ. «спортивные соревнования») разные."
   ]
  },
  {
   "cell_type": "markdown",
   "metadata": {},
   "source": [
    "H(0) - Средние пользовательские рейтинги жанров Action и Sports одинаковые\n",
    "\n",
    "H(1) - Средние пользовательские рейтинги жанров Action и Sports различаются\n"
   ]
  },
  {
   "cell_type": "code",
   "execution_count": 94,
   "metadata": {},
   "outputs": [
    {
     "name": "stdout",
     "output_type": "stream",
     "text": [
      "(523, 12)\n",
      "6.825047801147227 средний рейтинг Action\n",
      "1.8890840494348111\n"
     ]
    }
   ],
   "source": [
    "df_act_action = df_act.query('genre == \"Action\" & user_score > 0')\n",
    "print(df_act_action.shape)\n",
    "print(df_act_action['user_score'].mean(),'средний рейтинг Action')\n",
    "print(df_act_action['user_score'].var())"
   ]
  },
  {
   "cell_type": "code",
   "execution_count": 95,
   "metadata": {},
   "outputs": [
    {
     "name": "stdout",
     "output_type": "stream",
     "text": [
      "(195, 12)\n",
      "5.455897435897437 средний рейтинг Sports\n",
      "3.022890298704732\n"
     ]
    }
   ],
   "source": [
    "df_act_sports = df_act.query('genre == \"Sports\" & user_score > 0')\n",
    "print(df_act_sports.shape)\n",
    "print(df_act_sports['user_score'].mean(), 'средний рейтинг Sports')\n",
    "print(df_act_sports['user_score'].var())"
   ]
  },
  {
   "cell_type": "code",
   "execution_count": 96,
   "metadata": {},
   "outputs": [
    {
     "name": "stdout",
     "output_type": "stream",
     "text": [
      "p-значение: 4.24307776572644e-20\n",
      "Отвергаем нулевую гипотезу\n"
     ]
    }
   ],
   "source": [
    "alpha = .01\n",
    "\n",
    "results = st.ttest_ind(df_act_action['user_score'], df_act_sports['user_score'], equal_var=False)\n",
    "\n",
    "print('p-значение:', results.pvalue)\n",
    "\n",
    "if results.pvalue < alpha:\n",
    "    print(\"Отвергаем нулевую гипотезу\")\n",
    "else:\n",
    "    print(\"Не получилось отвергнуть нулевую гипотезу\")"
   ]
  },
  {
   "cell_type": "markdown",
   "metadata": {},
   "source": [
    "# Общий вывод"
   ]
  },
  {
   "cell_type": "markdown",
   "metadata": {},
   "source": [
    "Итак, отвечая на главные вопросы исследования, а именно выявление определяющих успешность игры закономерностей на 2017 год, можно сделать ряд выводов:\n",
    "\n",
    "    Наиболее прорывной перспективный продукт ещё только будет создан, скорее всего в рамках мобильных игровых платформ, в их исследование нужно дополнительно вложиться, также хорошо бы получить данные о продажах игр на смартфонах.\n",
    "    \n",
    "    Безопасным и перспективным вложением будет разработка игр для PS4, платформа доминирует, и проживет как минимум ещё года 3 (а скорее всего больше), впроне возможно даже сохраняя абсолютное лидерство по продажам.\n",
    "    \n",
    "    По рынку для продаж надо ориентироваться в первую очередь на северо-американский, европейский по поведению его копирует.\n",
    "    \n",
    "    Тем не менее важно изучать тренды японского игрового рынка, т.к. похоже что в этом регионе быстрее актуализируются новые тренды.\n",
    "    \n",
    "    По жанрам стоит ориентироваться на Action, Shooter и Sports.\n",
    "    \n",
    "    Также учитывая значительное влияние игр-аутлаеров, стоит сконцентрироваться на качестве игр, а не на количестве."
   ]
  }
 ],
 "metadata": {
  "ExecuteTimeLog": [
   {
    "duration": 1336,
    "start_time": "2022-07-07T21:21:04.940Z"
   },
   {
    "duration": 76,
    "start_time": "2022-07-07T21:23:06.441Z"
   },
   {
    "duration": 15,
    "start_time": "2022-07-07T21:25:46.855Z"
   },
   {
    "duration": 6,
    "start_time": "2022-07-07T21:27:30.035Z"
   },
   {
    "duration": 3,
    "start_time": "2022-07-07T21:27:36.555Z"
   },
   {
    "duration": 18,
    "start_time": "2022-07-07T21:27:43.869Z"
   },
   {
    "duration": 14,
    "start_time": "2022-07-07T21:28:34.233Z"
   },
   {
    "duration": 5,
    "start_time": "2022-07-07T21:28:56.049Z"
   },
   {
    "duration": 5,
    "start_time": "2022-07-07T21:29:37.266Z"
   },
   {
    "duration": 7,
    "start_time": "2022-07-07T21:29:43.450Z"
   },
   {
    "duration": 13,
    "start_time": "2022-07-07T21:30:05.915Z"
   },
   {
    "duration": 10,
    "start_time": "2022-07-07T21:30:21.458Z"
   },
   {
    "duration": 14,
    "start_time": "2022-07-07T21:30:30.517Z"
   },
   {
    "duration": 3,
    "start_time": "2022-07-07T21:30:37.763Z"
   },
   {
    "duration": 13,
    "start_time": "2022-07-07T21:31:04.735Z"
   },
   {
    "duration": 19,
    "start_time": "2022-07-07T21:31:22.145Z"
   },
   {
    "duration": 23,
    "start_time": "2022-07-07T21:31:42.240Z"
   },
   {
    "duration": 7,
    "start_time": "2022-07-07T21:32:48.493Z"
   },
   {
    "duration": 12,
    "start_time": "2022-07-07T21:32:53.147Z"
   },
   {
    "duration": 7,
    "start_time": "2022-07-07T21:33:10.170Z"
   },
   {
    "duration": 14,
    "start_time": "2022-07-07T21:33:15.432Z"
   },
   {
    "duration": 13,
    "start_time": "2022-07-07T21:33:25.236Z"
   },
   {
    "duration": 6,
    "start_time": "2022-07-07T21:34:28.828Z"
   },
   {
    "duration": 26,
    "start_time": "2022-07-07T21:34:59.546Z"
   },
   {
    "duration": 6,
    "start_time": "2022-07-07T21:35:28.386Z"
   },
   {
    "duration": 4,
    "start_time": "2022-07-07T21:35:40.583Z"
   },
   {
    "duration": 4,
    "start_time": "2022-07-07T21:35:46.114Z"
   },
   {
    "duration": 3,
    "start_time": "2022-07-07T21:35:50.218Z"
   },
   {
    "duration": 13,
    "start_time": "2022-07-07T21:35:53.469Z"
   },
   {
    "duration": 3,
    "start_time": "2022-07-07T21:36:02.549Z"
   },
   {
    "duration": 9,
    "start_time": "2022-07-07T21:36:17.492Z"
   },
   {
    "duration": 10,
    "start_time": "2022-07-07T21:36:22.543Z"
   },
   {
    "duration": 9,
    "start_time": "2022-07-07T21:36:28.091Z"
   },
   {
    "duration": 14,
    "start_time": "2022-07-07T21:36:36.192Z"
   },
   {
    "duration": 5,
    "start_time": "2022-07-07T21:36:51.106Z"
   },
   {
    "duration": 14,
    "start_time": "2022-07-07T21:36:57.302Z"
   },
   {
    "duration": 3,
    "start_time": "2022-07-07T21:37:01.965Z"
   },
   {
    "duration": 8,
    "start_time": "2022-07-07T21:37:20.033Z"
   },
   {
    "duration": 5,
    "start_time": "2022-07-07T21:37:31.109Z"
   },
   {
    "duration": 13,
    "start_time": "2022-07-07T21:37:35.587Z"
   },
   {
    "duration": 3,
    "start_time": "2022-07-07T21:37:39.520Z"
   },
   {
    "duration": 17,
    "start_time": "2022-07-07T21:37:57.502Z"
   },
   {
    "duration": 8,
    "start_time": "2022-07-07T21:38:45.417Z"
   },
   {
    "duration": 222,
    "start_time": "2022-07-07T21:38:54.005Z"
   },
   {
    "duration": 214,
    "start_time": "2022-07-07T21:39:06.475Z"
   },
   {
    "duration": 10,
    "start_time": "2022-07-07T21:39:16.987Z"
   },
   {
    "duration": 320,
    "start_time": "2022-07-07T21:39:24.819Z"
   },
   {
    "duration": 15,
    "start_time": "2022-07-07T21:39:59.621Z"
   },
   {
    "duration": 8,
    "start_time": "2022-07-07T21:40:26.195Z"
   },
   {
    "duration": 3,
    "start_time": "2022-07-07T21:41:12.739Z"
   },
   {
    "duration": 3,
    "start_time": "2022-07-07T21:41:45.993Z"
   },
   {
    "duration": 1691,
    "start_time": "2022-07-07T21:41:52.785Z"
   },
   {
    "duration": 895,
    "start_time": "2022-07-07T21:42:04.492Z"
   },
   {
    "duration": 46,
    "start_time": "2022-07-07T21:42:30.711Z"
   },
   {
    "duration": 16,
    "start_time": "2022-07-07T21:43:08.677Z"
   },
   {
    "duration": 10,
    "start_time": "2022-07-07T21:43:21.495Z"
   },
   {
    "duration": 14,
    "start_time": "2022-07-07T21:44:19.762Z"
   },
   {
    "duration": 306,
    "start_time": "2022-07-07T21:44:24.908Z"
   },
   {
    "duration": 7,
    "start_time": "2022-07-07T21:44:31.468Z"
   },
   {
    "duration": 2,
    "start_time": "2022-07-07T21:44:48.148Z"
   },
   {
    "duration": 18,
    "start_time": "2022-07-07T21:45:02.222Z"
   },
   {
    "duration": 228,
    "start_time": "2022-07-07T21:45:56.937Z"
   },
   {
    "duration": 8,
    "start_time": "2022-07-07T21:46:31.271Z"
   },
   {
    "duration": 7,
    "start_time": "2022-07-07T21:46:37.543Z"
   },
   {
    "duration": 235,
    "start_time": "2022-07-07T21:46:42.614Z"
   },
   {
    "duration": 6,
    "start_time": "2022-07-07T21:47:23.701Z"
   },
   {
    "duration": 11,
    "start_time": "2022-07-07T21:47:31.693Z"
   },
   {
    "duration": 263,
    "start_time": "2022-07-07T21:47:37.673Z"
   },
   {
    "duration": 7,
    "start_time": "2022-07-07T21:50:28.805Z"
   },
   {
    "duration": 9,
    "start_time": "2022-07-07T21:50:44.772Z"
   },
   {
    "duration": 275,
    "start_time": "2022-07-07T21:50:55.951Z"
   },
   {
    "duration": 5,
    "start_time": "2022-07-07T21:57:09.575Z"
   },
   {
    "duration": 6,
    "start_time": "2022-07-07T21:57:16.123Z"
   },
   {
    "duration": 6,
    "start_time": "2022-07-07T21:57:29.259Z"
   },
   {
    "duration": 4,
    "start_time": "2022-07-07T21:58:04.144Z"
   },
   {
    "duration": 1281,
    "start_time": "2022-07-07T21:58:20.916Z"
   },
   {
    "duration": 7,
    "start_time": "2022-07-07T22:03:13.866Z"
   },
   {
    "duration": 164,
    "start_time": "2022-07-07T22:03:21.187Z"
   },
   {
    "duration": 15,
    "start_time": "2022-07-07T22:03:49.573Z"
   },
   {
    "duration": 185,
    "start_time": "2022-07-07T22:05:05.313Z"
   },
   {
    "duration": 25,
    "start_time": "2022-07-07T22:05:12.957Z"
   },
   {
    "duration": 189,
    "start_time": "2022-07-07T22:05:21.385Z"
   },
   {
    "duration": 3,
    "start_time": "2022-07-07T22:14:05.893Z"
   },
   {
    "duration": 15,
    "start_time": "2022-07-07T22:15:07.442Z"
   },
   {
    "duration": 14,
    "start_time": "2022-07-07T22:15:14.053Z"
   },
   {
    "duration": 13,
    "start_time": "2022-07-07T22:15:19.027Z"
   },
   {
    "duration": 3,
    "start_time": "2022-07-07T22:27:01.819Z"
   },
   {
    "duration": 16,
    "start_time": "2022-07-07T22:27:06.636Z"
   },
   {
    "duration": 14,
    "start_time": "2022-07-07T22:27:11.849Z"
   },
   {
    "duration": 14,
    "start_time": "2022-07-07T22:27:23.982Z"
   },
   {
    "duration": 4,
    "start_time": "2022-07-07T22:32:00.226Z"
   },
   {
    "duration": 14,
    "start_time": "2022-07-07T22:32:04.961Z"
   },
   {
    "duration": 13,
    "start_time": "2022-07-07T22:32:10.126Z"
   },
   {
    "duration": 14,
    "start_time": "2022-07-07T22:32:16.343Z"
   },
   {
    "duration": 6,
    "start_time": "2022-07-07T22:44:09.513Z"
   },
   {
    "duration": 7,
    "start_time": "2022-07-07T22:44:15.057Z"
   },
   {
    "duration": 6,
    "start_time": "2022-07-07T22:44:32.685Z"
   },
   {
    "duration": 5,
    "start_time": "2022-07-07T22:45:06.482Z"
   },
   {
    "duration": 4,
    "start_time": "2022-07-07T22:45:11.233Z"
   },
   {
    "duration": 4,
    "start_time": "2022-07-07T22:49:37.013Z"
   },
   {
    "duration": 5,
    "start_time": "2022-07-07T22:54:10.915Z"
   },
   {
    "duration": 8,
    "start_time": "2022-07-07T22:55:45.174Z"
   },
   {
    "duration": 6,
    "start_time": "2022-07-07T22:56:34.326Z"
   },
   {
    "duration": 5,
    "start_time": "2022-07-07T22:56:48.804Z"
   },
   {
    "duration": 1258,
    "start_time": "2022-07-08T12:31:28.376Z"
   },
   {
    "duration": 40,
    "start_time": "2022-07-08T12:31:29.636Z"
   },
   {
    "duration": 17,
    "start_time": "2022-07-08T12:31:29.678Z"
   },
   {
    "duration": 19,
    "start_time": "2022-07-08T12:31:29.697Z"
   },
   {
    "duration": 21,
    "start_time": "2022-07-08T12:31:29.718Z"
   },
   {
    "duration": 39,
    "start_time": "2022-07-08T12:31:29.741Z"
   },
   {
    "duration": 13,
    "start_time": "2022-07-08T12:31:29.782Z"
   },
   {
    "duration": 17,
    "start_time": "2022-07-08T12:31:29.797Z"
   },
   {
    "duration": 27,
    "start_time": "2022-07-08T12:31:29.815Z"
   },
   {
    "duration": 13,
    "start_time": "2022-07-08T12:31:29.846Z"
   },
   {
    "duration": 15,
    "start_time": "2022-07-08T12:31:29.861Z"
   },
   {
    "duration": 12,
    "start_time": "2022-07-08T12:31:29.878Z"
   },
   {
    "duration": 7,
    "start_time": "2022-07-08T12:31:29.892Z"
   },
   {
    "duration": 23,
    "start_time": "2022-07-08T12:31:29.901Z"
   },
   {
    "duration": 38,
    "start_time": "2022-07-08T12:31:29.926Z"
   },
   {
    "duration": 22,
    "start_time": "2022-07-08T12:31:29.966Z"
   },
   {
    "duration": 9,
    "start_time": "2022-07-08T12:31:29.991Z"
   },
   {
    "duration": 22,
    "start_time": "2022-07-08T12:31:30.002Z"
   },
   {
    "duration": 20,
    "start_time": "2022-07-08T12:31:30.027Z"
   },
   {
    "duration": 26,
    "start_time": "2022-07-08T12:31:30.048Z"
   },
   {
    "duration": 18,
    "start_time": "2022-07-08T12:31:30.076Z"
   },
   {
    "duration": 5,
    "start_time": "2022-07-08T12:31:30.095Z"
   },
   {
    "duration": 19,
    "start_time": "2022-07-08T12:31:30.102Z"
   },
   {
    "duration": 6,
    "start_time": "2022-07-08T12:31:30.123Z"
   },
   {
    "duration": 32,
    "start_time": "2022-07-08T12:31:30.131Z"
   },
   {
    "duration": 8,
    "start_time": "2022-07-08T12:31:30.165Z"
   },
   {
    "duration": 6,
    "start_time": "2022-07-08T12:31:30.176Z"
   },
   {
    "duration": 12,
    "start_time": "2022-07-08T12:31:30.187Z"
   },
   {
    "duration": 9,
    "start_time": "2022-07-08T12:31:30.201Z"
   },
   {
    "duration": 8,
    "start_time": "2022-07-08T12:31:30.212Z"
   },
   {
    "duration": 39,
    "start_time": "2022-07-08T12:31:30.222Z"
   },
   {
    "duration": 5,
    "start_time": "2022-07-08T12:31:30.263Z"
   },
   {
    "duration": 9,
    "start_time": "2022-07-08T12:31:30.269Z"
   },
   {
    "duration": 14,
    "start_time": "2022-07-08T12:31:30.280Z"
   },
   {
    "duration": 9,
    "start_time": "2022-07-08T12:31:30.296Z"
   },
   {
    "duration": 7,
    "start_time": "2022-07-08T12:31:30.306Z"
   },
   {
    "duration": 34,
    "start_time": "2022-07-08T12:31:30.314Z"
   },
   {
    "duration": 216,
    "start_time": "2022-07-08T12:31:30.349Z"
   },
   {
    "duration": 250,
    "start_time": "2022-07-08T12:31:30.567Z"
   },
   {
    "duration": 11,
    "start_time": "2022-07-08T12:31:30.818Z"
   },
   {
    "duration": 372,
    "start_time": "2022-07-08T12:31:30.831Z"
   },
   {
    "duration": 14,
    "start_time": "2022-07-08T12:31:31.205Z"
   },
   {
    "duration": 13,
    "start_time": "2022-07-08T12:31:31.221Z"
   },
   {
    "duration": 34,
    "start_time": "2022-07-08T12:31:31.235Z"
   },
   {
    "duration": 30,
    "start_time": "2022-07-08T12:31:31.271Z"
   },
   {
    "duration": 1639,
    "start_time": "2022-07-08T12:31:31.302Z"
   },
   {
    "duration": 892,
    "start_time": "2022-07-08T12:31:32.943Z"
   },
   {
    "duration": 46,
    "start_time": "2022-07-08T12:31:33.837Z"
   },
   {
    "duration": 13,
    "start_time": "2022-07-08T12:31:33.889Z"
   },
   {
    "duration": 16,
    "start_time": "2022-07-08T12:31:33.904Z"
   },
   {
    "duration": 44,
    "start_time": "2022-07-08T12:31:33.922Z"
   },
   {
    "duration": 305,
    "start_time": "2022-07-08T12:31:33.968Z"
   },
   {
    "duration": 10,
    "start_time": "2022-07-08T12:31:34.275Z"
   },
   {
    "duration": 4,
    "start_time": "2022-07-08T12:31:34.287Z"
   },
   {
    "duration": 24,
    "start_time": "2022-07-08T12:31:34.292Z"
   },
   {
    "duration": 242,
    "start_time": "2022-07-08T12:31:34.317Z"
   },
   {
    "duration": 7,
    "start_time": "2022-07-08T12:31:34.561Z"
   },
   {
    "duration": 6,
    "start_time": "2022-07-08T12:31:34.569Z"
   },
   {
    "duration": 249,
    "start_time": "2022-07-08T12:31:34.576Z"
   },
   {
    "duration": 5,
    "start_time": "2022-07-08T12:31:34.827Z"
   },
   {
    "duration": 16,
    "start_time": "2022-07-08T12:31:34.833Z"
   },
   {
    "duration": 259,
    "start_time": "2022-07-08T12:31:34.861Z"
   },
   {
    "duration": 7,
    "start_time": "2022-07-08T12:31:35.121Z"
   },
   {
    "duration": 37,
    "start_time": "2022-07-08T12:31:35.129Z"
   },
   {
    "duration": 306,
    "start_time": "2022-07-08T12:31:35.168Z"
   },
   {
    "duration": 5,
    "start_time": "2022-07-08T12:31:35.475Z"
   },
   {
    "duration": 19,
    "start_time": "2022-07-08T12:31:35.482Z"
   },
   {
    "duration": 1376,
    "start_time": "2022-07-08T12:31:35.503Z"
   },
   {
    "duration": 6,
    "start_time": "2022-07-08T12:31:36.881Z"
   },
   {
    "duration": 189,
    "start_time": "2022-07-08T12:31:36.889Z"
   },
   {
    "duration": 16,
    "start_time": "2022-07-08T12:31:37.079Z"
   },
   {
    "duration": 202,
    "start_time": "2022-07-08T12:31:37.097Z"
   },
   {
    "duration": 21,
    "start_time": "2022-07-08T12:31:37.301Z"
   },
   {
    "duration": 191,
    "start_time": "2022-07-08T12:31:37.324Z"
   },
   {
    "duration": 3,
    "start_time": "2022-07-08T12:31:37.518Z"
   },
   {
    "duration": 49,
    "start_time": "2022-07-08T12:31:37.523Z"
   },
   {
    "duration": 20,
    "start_time": "2022-07-08T12:31:37.574Z"
   },
   {
    "duration": 48,
    "start_time": "2022-07-08T12:31:37.596Z"
   },
   {
    "duration": 4,
    "start_time": "2022-07-08T12:31:37.647Z"
   },
   {
    "duration": 36,
    "start_time": "2022-07-08T12:31:37.653Z"
   },
   {
    "duration": 28,
    "start_time": "2022-07-08T12:31:37.691Z"
   },
   {
    "duration": 22,
    "start_time": "2022-07-08T12:31:37.724Z"
   },
   {
    "duration": 26,
    "start_time": "2022-07-08T12:31:37.748Z"
   },
   {
    "duration": 45,
    "start_time": "2022-07-08T12:31:37.775Z"
   },
   {
    "duration": 25,
    "start_time": "2022-07-08T12:31:37.821Z"
   },
   {
    "duration": 35,
    "start_time": "2022-07-08T12:31:37.848Z"
   },
   {
    "duration": 26,
    "start_time": "2022-07-08T12:31:37.884Z"
   },
   {
    "duration": 30,
    "start_time": "2022-07-08T12:31:37.911Z"
   },
   {
    "duration": 12,
    "start_time": "2022-07-08T12:31:37.943Z"
   },
   {
    "duration": 26,
    "start_time": "2022-07-08T12:31:37.956Z"
   },
   {
    "duration": 21,
    "start_time": "2022-07-08T12:31:37.984Z"
   },
   {
    "duration": 38,
    "start_time": "2022-07-08T12:31:38.007Z"
   },
   {
    "duration": 29,
    "start_time": "2022-07-08T12:31:38.046Z"
   },
   {
    "duration": 27,
    "start_time": "2022-07-08T12:31:38.077Z"
   },
   {
    "duration": 19,
    "start_time": "2022-07-08T12:31:38.106Z"
   },
   {
    "duration": 21,
    "start_time": "2022-07-08T12:56:14.908Z"
   },
   {
    "duration": 6,
    "start_time": "2022-07-08T12:56:23.169Z"
   },
   {
    "duration": 4,
    "start_time": "2022-07-08T19:34:43.051Z"
   },
   {
    "duration": 49,
    "start_time": "2022-07-08T20:30:38.996Z"
   },
   {
    "duration": 1421,
    "start_time": "2022-07-08T20:30:43.965Z"
   },
   {
    "duration": 81,
    "start_time": "2022-07-08T20:30:45.388Z"
   },
   {
    "duration": 19,
    "start_time": "2022-07-08T20:30:45.471Z"
   },
   {
    "duration": 6,
    "start_time": "2022-07-08T20:30:45.492Z"
   },
   {
    "duration": 12,
    "start_time": "2022-07-08T20:30:45.500Z"
   },
   {
    "duration": 36,
    "start_time": "2022-07-08T20:30:45.514Z"
   },
   {
    "duration": 14,
    "start_time": "2022-07-08T20:30:45.552Z"
   },
   {
    "duration": 12,
    "start_time": "2022-07-08T20:30:45.568Z"
   },
   {
    "duration": 9,
    "start_time": "2022-07-08T20:30:45.581Z"
   },
   {
    "duration": 13,
    "start_time": "2022-07-08T20:30:45.593Z"
   },
   {
    "duration": 45,
    "start_time": "2022-07-08T20:30:45.608Z"
   },
   {
    "duration": 8,
    "start_time": "2022-07-08T20:30:45.655Z"
   },
   {
    "duration": 8,
    "start_time": "2022-07-08T20:30:45.664Z"
   },
   {
    "duration": 22,
    "start_time": "2022-07-08T20:30:45.674Z"
   },
   {
    "duration": 16,
    "start_time": "2022-07-08T20:30:45.698Z"
   },
   {
    "duration": 27,
    "start_time": "2022-07-08T20:30:45.715Z"
   },
   {
    "duration": 11,
    "start_time": "2022-07-08T20:30:45.744Z"
   },
   {
    "duration": 23,
    "start_time": "2022-07-08T20:30:45.757Z"
   },
   {
    "duration": 21,
    "start_time": "2022-07-08T20:30:45.782Z"
   },
   {
    "duration": 15,
    "start_time": "2022-07-08T20:30:45.805Z"
   },
   {
    "duration": 32,
    "start_time": "2022-07-08T20:30:45.822Z"
   },
   {
    "duration": 7,
    "start_time": "2022-07-08T20:30:45.856Z"
   },
   {
    "duration": 30,
    "start_time": "2022-07-08T20:30:45.864Z"
   },
   {
    "duration": 7,
    "start_time": "2022-07-08T20:30:45.896Z"
   },
   {
    "duration": 13,
    "start_time": "2022-07-08T20:30:45.904Z"
   },
   {
    "duration": 19,
    "start_time": "2022-07-08T20:30:45.919Z"
   },
   {
    "duration": 16,
    "start_time": "2022-07-08T20:30:45.939Z"
   },
   {
    "duration": 16,
    "start_time": "2022-07-08T20:30:45.960Z"
   },
   {
    "duration": 13,
    "start_time": "2022-07-08T20:30:45.978Z"
   },
   {
    "duration": 13,
    "start_time": "2022-07-08T20:30:45.993Z"
   },
   {
    "duration": 13,
    "start_time": "2022-07-08T20:30:46.007Z"
   },
   {
    "duration": 23,
    "start_time": "2022-07-08T20:30:46.021Z"
   },
   {
    "duration": 9,
    "start_time": "2022-07-08T20:30:46.046Z"
   },
   {
    "duration": 12,
    "start_time": "2022-07-08T20:30:46.057Z"
   },
   {
    "duration": 15,
    "start_time": "2022-07-08T20:30:46.071Z"
   },
   {
    "duration": 9,
    "start_time": "2022-07-08T20:30:46.088Z"
   },
   {
    "duration": 18,
    "start_time": "2022-07-08T20:30:46.099Z"
   },
   {
    "duration": 217,
    "start_time": "2022-07-08T20:30:46.119Z"
   },
   {
    "duration": 236,
    "start_time": "2022-07-08T20:30:46.338Z"
   },
   {
    "duration": 10,
    "start_time": "2022-07-08T20:30:46.576Z"
   },
   {
    "duration": 364,
    "start_time": "2022-07-08T20:30:46.588Z"
   },
   {
    "duration": 15,
    "start_time": "2022-07-08T20:30:46.954Z"
   },
   {
    "duration": 10,
    "start_time": "2022-07-08T20:30:46.971Z"
   },
   {
    "duration": 5,
    "start_time": "2022-07-08T20:30:46.982Z"
   },
   {
    "duration": 8,
    "start_time": "2022-07-08T20:30:46.990Z"
   },
   {
    "duration": 1740,
    "start_time": "2022-07-08T20:30:47.000Z"
   },
   {
    "duration": 975,
    "start_time": "2022-07-08T20:30:48.741Z"
   },
   {
    "duration": 42,
    "start_time": "2022-07-08T20:30:49.728Z"
   },
   {
    "duration": 13,
    "start_time": "2022-07-08T20:30:49.772Z"
   },
   {
    "duration": 14,
    "start_time": "2022-07-08T20:30:49.787Z"
   },
   {
    "duration": 41,
    "start_time": "2022-07-08T20:30:49.802Z"
   },
   {
    "duration": 2,
    "start_time": "2022-07-08T20:30:49.845Z"
   },
   {
    "duration": 343,
    "start_time": "2022-07-08T20:30:49.849Z"
   },
   {
    "duration": 8,
    "start_time": "2022-07-08T20:30:50.194Z"
   },
   {
    "duration": 4,
    "start_time": "2022-07-08T20:30:50.204Z"
   },
   {
    "duration": 25,
    "start_time": "2022-07-08T20:30:50.223Z"
   },
   {
    "duration": 10,
    "start_time": "2022-07-08T20:30:50.250Z"
   },
   {
    "duration": 256,
    "start_time": "2022-07-08T20:30:50.262Z"
   },
   {
    "duration": 9,
    "start_time": "2022-07-08T20:30:50.532Z"
   },
   {
    "duration": 22,
    "start_time": "2022-07-08T20:30:50.543Z"
   },
   {
    "duration": 263,
    "start_time": "2022-07-08T20:30:50.567Z"
   },
   {
    "duration": 6,
    "start_time": "2022-07-08T20:30:50.831Z"
   },
   {
    "duration": 13,
    "start_time": "2022-07-08T20:30:50.839Z"
   },
   {
    "duration": 302,
    "start_time": "2022-07-08T20:30:50.854Z"
   },
   {
    "duration": 8,
    "start_time": "2022-07-08T20:30:51.157Z"
   },
   {
    "duration": 17,
    "start_time": "2022-07-08T20:30:51.167Z"
   },
   {
    "duration": 308,
    "start_time": "2022-07-08T20:30:51.186Z"
   },
   {
    "duration": 6,
    "start_time": "2022-07-08T20:30:51.495Z"
   },
   {
    "duration": 9,
    "start_time": "2022-07-08T20:30:51.502Z"
   },
   {
    "duration": 1358,
    "start_time": "2022-07-08T20:30:51.525Z"
   },
   {
    "duration": 9,
    "start_time": "2022-07-08T20:30:52.885Z"
   },
   {
    "duration": 195,
    "start_time": "2022-07-08T20:30:52.895Z"
   },
   {
    "duration": 14,
    "start_time": "2022-07-08T20:30:53.091Z"
   },
   {
    "duration": 229,
    "start_time": "2022-07-08T20:30:53.106Z"
   },
   {
    "duration": 21,
    "start_time": "2022-07-08T20:30:53.338Z"
   },
   {
    "duration": 188,
    "start_time": "2022-07-08T20:30:53.361Z"
   },
   {
    "duration": 4,
    "start_time": "2022-07-08T20:30:53.550Z"
   },
   {
    "duration": 18,
    "start_time": "2022-07-08T20:30:53.555Z"
   },
   {
    "duration": 11,
    "start_time": "2022-07-08T20:30:53.575Z"
   },
   {
    "duration": 27,
    "start_time": "2022-07-08T20:30:53.588Z"
   },
   {
    "duration": 15,
    "start_time": "2022-07-08T20:30:53.622Z"
   },
   {
    "duration": 19,
    "start_time": "2022-07-08T20:30:53.642Z"
   },
   {
    "duration": 19,
    "start_time": "2022-07-08T20:30:53.663Z"
   },
   {
    "duration": 13,
    "start_time": "2022-07-08T20:30:53.683Z"
   },
   {
    "duration": 8,
    "start_time": "2022-07-08T20:30:53.697Z"
   },
   {
    "duration": 31,
    "start_time": "2022-07-08T20:30:53.706Z"
   },
   {
    "duration": 16,
    "start_time": "2022-07-08T20:30:53.738Z"
   },
   {
    "duration": 12,
    "start_time": "2022-07-08T20:30:53.755Z"
   },
   {
    "duration": 9,
    "start_time": "2022-07-08T20:30:53.769Z"
   },
   {
    "duration": 11,
    "start_time": "2022-07-08T20:30:53.779Z"
   },
   {
    "duration": 9,
    "start_time": "2022-07-08T20:30:53.791Z"
   },
   {
    "duration": 25,
    "start_time": "2022-07-08T20:30:53.802Z"
   },
   {
    "duration": 14,
    "start_time": "2022-07-08T20:30:53.828Z"
   },
   {
    "duration": 8,
    "start_time": "2022-07-08T20:30:53.843Z"
   },
   {
    "duration": 14,
    "start_time": "2022-07-08T20:30:53.853Z"
   },
   {
    "duration": 7,
    "start_time": "2022-07-08T20:30:53.869Z"
   },
   {
    "duration": 6,
    "start_time": "2022-07-08T20:30:53.878Z"
   },
   {
    "duration": 8,
    "start_time": "2022-07-08T20:32:20.298Z"
   },
   {
    "duration": 8,
    "start_time": "2022-07-08T20:34:07.502Z"
   },
   {
    "duration": 8,
    "start_time": "2022-07-08T20:53:44.352Z"
   },
   {
    "duration": 8,
    "start_time": "2022-07-08T21:01:24.273Z"
   },
   {
    "duration": 11,
    "start_time": "2022-07-08T21:01:40.187Z"
   },
   {
    "duration": 10,
    "start_time": "2022-07-08T21:01:47.847Z"
   },
   {
    "duration": 10,
    "start_time": "2022-07-08T21:06:39.700Z"
   },
   {
    "duration": 9,
    "start_time": "2022-07-08T21:07:20.294Z"
   },
   {
    "duration": 1175,
    "start_time": "2022-07-08T21:07:42.445Z"
   },
   {
    "duration": 61,
    "start_time": "2022-07-08T21:07:43.624Z"
   },
   {
    "duration": 14,
    "start_time": "2022-07-08T21:07:43.687Z"
   },
   {
    "duration": 5,
    "start_time": "2022-07-08T21:07:43.703Z"
   },
   {
    "duration": 5,
    "start_time": "2022-07-08T21:07:43.710Z"
   },
   {
    "duration": 32,
    "start_time": "2022-07-08T21:07:43.716Z"
   },
   {
    "duration": 15,
    "start_time": "2022-07-08T21:07:43.750Z"
   },
   {
    "duration": 5,
    "start_time": "2022-07-08T21:07:43.767Z"
   },
   {
    "duration": 7,
    "start_time": "2022-07-08T21:07:43.774Z"
   },
   {
    "duration": 8,
    "start_time": "2022-07-08T21:07:43.783Z"
   },
   {
    "duration": 11,
    "start_time": "2022-07-08T21:07:43.793Z"
   },
   {
    "duration": 36,
    "start_time": "2022-07-08T21:07:43.805Z"
   },
   {
    "duration": 15,
    "start_time": "2022-07-08T21:07:43.843Z"
   },
   {
    "duration": 14,
    "start_time": "2022-07-08T21:07:43.860Z"
   },
   {
    "duration": 13,
    "start_time": "2022-07-08T21:07:43.876Z"
   },
   {
    "duration": 21,
    "start_time": "2022-07-08T21:07:43.891Z"
   },
   {
    "duration": 17,
    "start_time": "2022-07-08T21:07:43.914Z"
   },
   {
    "duration": 12,
    "start_time": "2022-07-08T21:07:43.933Z"
   },
   {
    "duration": 29,
    "start_time": "2022-07-08T21:07:43.946Z"
   },
   {
    "duration": 25,
    "start_time": "2022-07-08T21:07:43.978Z"
   },
   {
    "duration": 22,
    "start_time": "2022-07-08T21:07:44.004Z"
   },
   {
    "duration": 27,
    "start_time": "2022-07-08T21:07:44.027Z"
   },
   {
    "duration": 18,
    "start_time": "2022-07-08T21:07:44.056Z"
   },
   {
    "duration": 6,
    "start_time": "2022-07-08T21:07:44.075Z"
   },
   {
    "duration": 24,
    "start_time": "2022-07-08T21:07:44.082Z"
   },
   {
    "duration": 13,
    "start_time": "2022-07-08T21:07:44.107Z"
   },
   {
    "duration": 42,
    "start_time": "2022-07-08T21:07:44.121Z"
   },
   {
    "duration": 20,
    "start_time": "2022-07-08T21:07:44.164Z"
   },
   {
    "duration": 33,
    "start_time": "2022-07-08T21:07:44.186Z"
   },
   {
    "duration": 52,
    "start_time": "2022-07-08T21:07:44.221Z"
   },
   {
    "duration": 45,
    "start_time": "2022-07-08T21:07:44.274Z"
   },
   {
    "duration": 54,
    "start_time": "2022-07-08T21:07:44.320Z"
   },
   {
    "duration": 17,
    "start_time": "2022-07-08T21:07:44.376Z"
   },
   {
    "duration": 58,
    "start_time": "2022-07-08T21:07:44.395Z"
   },
   {
    "duration": 41,
    "start_time": "2022-07-08T21:07:44.455Z"
   },
   {
    "duration": 45,
    "start_time": "2022-07-08T21:07:44.498Z"
   },
   {
    "duration": 69,
    "start_time": "2022-07-08T21:07:44.551Z"
   },
   {
    "duration": 263,
    "start_time": "2022-07-08T21:07:44.622Z"
   },
   {
    "duration": 249,
    "start_time": "2022-07-08T21:07:44.887Z"
   },
   {
    "duration": 15,
    "start_time": "2022-07-08T21:07:45.138Z"
   },
   {
    "duration": 412,
    "start_time": "2022-07-08T21:07:45.157Z"
   },
   {
    "duration": 14,
    "start_time": "2022-07-08T21:07:45.571Z"
   },
   {
    "duration": 30,
    "start_time": "2022-07-08T21:07:45.587Z"
   },
   {
    "duration": 54,
    "start_time": "2022-07-08T21:07:45.619Z"
   },
   {
    "duration": 26,
    "start_time": "2022-07-08T21:07:45.675Z"
   },
   {
    "duration": 1745,
    "start_time": "2022-07-08T21:07:45.703Z"
   },
   {
    "duration": 958,
    "start_time": "2022-07-08T21:07:47.450Z"
   },
   {
    "duration": 49,
    "start_time": "2022-07-08T21:07:48.410Z"
   },
   {
    "duration": 12,
    "start_time": "2022-07-08T21:07:48.461Z"
   },
   {
    "duration": 19,
    "start_time": "2022-07-08T21:07:48.476Z"
   },
   {
    "duration": 40,
    "start_time": "2022-07-08T21:07:48.496Z"
   },
   {
    "duration": 4,
    "start_time": "2022-07-08T21:07:48.537Z"
   },
   {
    "duration": 351,
    "start_time": "2022-07-08T21:07:48.542Z"
   },
   {
    "duration": 9,
    "start_time": "2022-07-08T21:07:48.895Z"
   },
   {
    "duration": 4,
    "start_time": "2022-07-08T21:07:48.905Z"
   },
   {
    "duration": 56,
    "start_time": "2022-07-08T21:07:48.910Z"
   },
   {
    "duration": 9,
    "start_time": "2022-07-08T21:07:48.968Z"
   },
   {
    "duration": 15,
    "start_time": "2022-07-08T21:07:48.979Z"
   },
   {
    "duration": 260,
    "start_time": "2022-07-08T21:07:48.996Z"
   },
   {
    "duration": 9,
    "start_time": "2022-07-08T21:07:49.258Z"
   },
   {
    "duration": 21,
    "start_time": "2022-07-08T21:07:49.268Z"
   },
   {
    "duration": 264,
    "start_time": "2022-07-08T21:07:49.291Z"
   },
   {
    "duration": 6,
    "start_time": "2022-07-08T21:07:49.557Z"
   },
   {
    "duration": 24,
    "start_time": "2022-07-08T21:07:49.565Z"
   },
   {
    "duration": 302,
    "start_time": "2022-07-08T21:07:49.591Z"
   },
   {
    "duration": 8,
    "start_time": "2022-07-08T21:07:49.895Z"
   },
   {
    "duration": 39,
    "start_time": "2022-07-08T21:07:49.904Z"
   },
   {
    "duration": 317,
    "start_time": "2022-07-08T21:07:49.948Z"
   },
   {
    "duration": 6,
    "start_time": "2022-07-08T21:07:50.266Z"
   },
   {
    "duration": 14,
    "start_time": "2022-07-08T21:07:50.274Z"
   },
   {
    "duration": 1412,
    "start_time": "2022-07-08T21:07:50.291Z"
   },
   {
    "duration": 8,
    "start_time": "2022-07-08T21:07:51.705Z"
   },
   {
    "duration": 218,
    "start_time": "2022-07-08T21:07:51.732Z"
   },
   {
    "duration": 19,
    "start_time": "2022-07-08T21:07:51.952Z"
   },
   {
    "duration": 231,
    "start_time": "2022-07-08T21:07:51.973Z"
   },
   {
    "duration": 40,
    "start_time": "2022-07-08T21:07:52.206Z"
   },
   {
    "duration": 204,
    "start_time": "2022-07-08T21:07:52.249Z"
   },
   {
    "duration": 3,
    "start_time": "2022-07-08T21:07:52.455Z"
   },
   {
    "duration": 39,
    "start_time": "2022-07-08T21:07:52.459Z"
   },
   {
    "duration": 20,
    "start_time": "2022-07-08T21:07:52.499Z"
   },
   {
    "duration": 40,
    "start_time": "2022-07-08T21:07:52.520Z"
   },
   {
    "duration": 4,
    "start_time": "2022-07-08T21:07:52.562Z"
   },
   {
    "duration": 29,
    "start_time": "2022-07-08T21:07:52.567Z"
   },
   {
    "duration": 16,
    "start_time": "2022-07-08T21:07:52.598Z"
   },
   {
    "duration": 15,
    "start_time": "2022-07-08T21:07:52.616Z"
   },
   {
    "duration": 24,
    "start_time": "2022-07-08T21:07:52.633Z"
   },
   {
    "duration": 25,
    "start_time": "2022-07-08T21:07:52.658Z"
   },
   {
    "duration": 28,
    "start_time": "2022-07-08T21:07:52.685Z"
   },
   {
    "duration": 33,
    "start_time": "2022-07-08T21:07:52.715Z"
   },
   {
    "duration": 16,
    "start_time": "2022-07-08T21:07:52.750Z"
   },
   {
    "duration": 20,
    "start_time": "2022-07-08T21:07:52.768Z"
   },
   {
    "duration": 8,
    "start_time": "2022-07-08T21:07:52.790Z"
   },
   {
    "duration": 11,
    "start_time": "2022-07-08T21:07:52.799Z"
   },
   {
    "duration": 9,
    "start_time": "2022-07-08T21:07:52.811Z"
   },
   {
    "duration": 37,
    "start_time": "2022-07-08T21:07:52.822Z"
   },
   {
    "duration": 13,
    "start_time": "2022-07-08T21:07:52.860Z"
   },
   {
    "duration": 22,
    "start_time": "2022-07-08T21:07:52.874Z"
   },
   {
    "duration": 17,
    "start_time": "2022-07-08T21:07:52.898Z"
   },
   {
    "duration": 35,
    "start_time": "2022-07-08T21:07:52.917Z"
   },
   {
    "duration": 14,
    "start_time": "2022-07-08T21:08:10.914Z"
   },
   {
    "duration": 10,
    "start_time": "2022-07-08T21:08:28.788Z"
   },
   {
    "duration": 5,
    "start_time": "2022-07-08T21:08:55.150Z"
   },
   {
    "duration": 17,
    "start_time": "2022-07-08T21:10:35.234Z"
   },
   {
    "duration": 14,
    "start_time": "2022-07-08T21:10:59.242Z"
   },
   {
    "duration": 6,
    "start_time": "2022-07-08T21:11:25.747Z"
   },
   {
    "duration": 5,
    "start_time": "2022-07-08T21:13:11.509Z"
   },
   {
    "duration": 5,
    "start_time": "2022-07-08T21:13:23.055Z"
   },
   {
    "duration": 1257,
    "start_time": "2022-07-08T21:59:34.558Z"
   },
   {
    "duration": 45,
    "start_time": "2022-07-08T21:59:35.817Z"
   },
   {
    "duration": 25,
    "start_time": "2022-07-08T21:59:35.863Z"
   },
   {
    "duration": 8,
    "start_time": "2022-07-08T21:59:35.890Z"
   },
   {
    "duration": 7,
    "start_time": "2022-07-08T21:59:35.900Z"
   },
   {
    "duration": 22,
    "start_time": "2022-07-08T21:59:35.909Z"
   },
   {
    "duration": 35,
    "start_time": "2022-07-08T21:59:35.933Z"
   },
   {
    "duration": 5,
    "start_time": "2022-07-08T21:59:35.975Z"
   },
   {
    "duration": 14,
    "start_time": "2022-07-08T21:59:35.982Z"
   },
   {
    "duration": 13,
    "start_time": "2022-07-08T21:59:35.998Z"
   },
   {
    "duration": 18,
    "start_time": "2022-07-08T21:59:36.013Z"
   },
   {
    "duration": 9,
    "start_time": "2022-07-08T21:59:36.033Z"
   },
   {
    "duration": 5,
    "start_time": "2022-07-08T21:59:36.043Z"
   },
   {
    "duration": 41,
    "start_time": "2022-07-08T21:59:36.050Z"
   },
   {
    "duration": 19,
    "start_time": "2022-07-08T21:59:36.093Z"
   },
   {
    "duration": 32,
    "start_time": "2022-07-08T21:59:36.114Z"
   },
   {
    "duration": 20,
    "start_time": "2022-07-08T21:59:36.148Z"
   },
   {
    "duration": 22,
    "start_time": "2022-07-08T21:59:36.169Z"
   },
   {
    "duration": 12,
    "start_time": "2022-07-08T21:59:36.193Z"
   },
   {
    "duration": 18,
    "start_time": "2022-07-08T21:59:36.208Z"
   },
   {
    "duration": 57,
    "start_time": "2022-07-08T21:59:36.228Z"
   },
   {
    "duration": 12,
    "start_time": "2022-07-08T21:59:36.287Z"
   },
   {
    "duration": 49,
    "start_time": "2022-07-08T21:59:36.301Z"
   },
   {
    "duration": 12,
    "start_time": "2022-07-08T21:59:36.352Z"
   },
   {
    "duration": 26,
    "start_time": "2022-07-08T21:59:36.368Z"
   },
   {
    "duration": 11,
    "start_time": "2022-07-08T21:59:36.397Z"
   },
   {
    "duration": 24,
    "start_time": "2022-07-08T21:59:36.410Z"
   },
   {
    "duration": 18,
    "start_time": "2022-07-08T21:59:36.440Z"
   },
   {
    "duration": 35,
    "start_time": "2022-07-08T21:59:36.460Z"
   },
   {
    "duration": 16,
    "start_time": "2022-07-08T21:59:36.498Z"
   },
   {
    "duration": 44,
    "start_time": "2022-07-08T21:59:36.516Z"
   },
   {
    "duration": 33,
    "start_time": "2022-07-08T21:59:36.562Z"
   },
   {
    "duration": 13,
    "start_time": "2022-07-08T21:59:36.597Z"
   },
   {
    "duration": 18,
    "start_time": "2022-07-08T21:59:36.612Z"
   },
   {
    "duration": 12,
    "start_time": "2022-07-08T21:59:36.632Z"
   },
   {
    "duration": 9,
    "start_time": "2022-07-08T21:59:36.646Z"
   },
   {
    "duration": 47,
    "start_time": "2022-07-08T21:59:36.657Z"
   },
   {
    "duration": 230,
    "start_time": "2022-07-08T21:59:36.706Z"
   },
   {
    "duration": 260,
    "start_time": "2022-07-08T21:59:36.937Z"
   },
   {
    "duration": 11,
    "start_time": "2022-07-08T21:59:37.199Z"
   },
   {
    "duration": 426,
    "start_time": "2022-07-08T21:59:37.212Z"
   },
   {
    "duration": 27,
    "start_time": "2022-07-08T21:59:37.641Z"
   },
   {
    "duration": 14,
    "start_time": "2022-07-08T21:59:37.670Z"
   },
   {
    "duration": 5,
    "start_time": "2022-07-08T21:59:37.686Z"
   },
   {
    "duration": 6,
    "start_time": "2022-07-08T21:59:37.692Z"
   },
   {
    "duration": 1787,
    "start_time": "2022-07-08T21:59:37.700Z"
   },
   {
    "duration": 928,
    "start_time": "2022-07-08T21:59:39.490Z"
   },
   {
    "duration": 49,
    "start_time": "2022-07-08T21:59:40.419Z"
   },
   {
    "duration": 15,
    "start_time": "2022-07-08T21:59:40.472Z"
   },
   {
    "duration": 9,
    "start_time": "2022-07-08T21:59:40.489Z"
   },
   {
    "duration": 17,
    "start_time": "2022-07-08T21:59:40.500Z"
   },
   {
    "duration": 3,
    "start_time": "2022-07-08T21:59:40.518Z"
   },
   {
    "duration": 358,
    "start_time": "2022-07-08T21:59:40.523Z"
   },
   {
    "duration": 9,
    "start_time": "2022-07-08T21:59:40.883Z"
   },
   {
    "duration": 2,
    "start_time": "2022-07-08T21:59:40.894Z"
   },
   {
    "duration": 25,
    "start_time": "2022-07-08T21:59:40.898Z"
   },
   {
    "duration": 8,
    "start_time": "2022-07-08T21:59:40.925Z"
   },
   {
    "duration": 51,
    "start_time": "2022-07-08T21:59:40.935Z"
   },
   {
    "duration": 223,
    "start_time": "2022-07-08T21:59:40.988Z"
   },
   {
    "duration": 8,
    "start_time": "2022-07-08T21:59:41.213Z"
   },
   {
    "duration": 7,
    "start_time": "2022-07-08T21:59:41.223Z"
   },
   {
    "duration": 255,
    "start_time": "2022-07-08T21:59:41.232Z"
   },
   {
    "duration": 5,
    "start_time": "2022-07-08T21:59:41.488Z"
   },
   {
    "duration": 12,
    "start_time": "2022-07-08T21:59:41.495Z"
   },
   {
    "duration": 276,
    "start_time": "2022-07-08T21:59:41.509Z"
   },
   {
    "duration": 7,
    "start_time": "2022-07-08T21:59:41.787Z"
   },
   {
    "duration": 12,
    "start_time": "2022-07-08T21:59:41.796Z"
   },
   {
    "duration": 312,
    "start_time": "2022-07-08T21:59:41.809Z"
   },
   {
    "duration": 7,
    "start_time": "2022-07-08T21:59:42.123Z"
   },
   {
    "duration": 12,
    "start_time": "2022-07-08T21:59:42.131Z"
   },
   {
    "duration": 1287,
    "start_time": "2022-07-08T21:59:42.145Z"
   },
   {
    "duration": 8,
    "start_time": "2022-07-08T21:59:43.434Z"
   },
   {
    "duration": 224,
    "start_time": "2022-07-08T21:59:43.443Z"
   },
   {
    "duration": 17,
    "start_time": "2022-07-08T21:59:43.672Z"
   },
   {
    "duration": 199,
    "start_time": "2022-07-08T21:59:43.691Z"
   },
   {
    "duration": 22,
    "start_time": "2022-07-08T21:59:43.892Z"
   },
   {
    "duration": 207,
    "start_time": "2022-07-08T21:59:43.916Z"
   },
   {
    "duration": 4,
    "start_time": "2022-07-08T21:59:44.125Z"
   },
   {
    "duration": 20,
    "start_time": "2022-07-08T21:59:44.131Z"
   },
   {
    "duration": 29,
    "start_time": "2022-07-08T21:59:44.152Z"
   },
   {
    "duration": 13,
    "start_time": "2022-07-08T21:59:44.183Z"
   },
   {
    "duration": 3,
    "start_time": "2022-07-08T21:59:44.201Z"
   },
   {
    "duration": 18,
    "start_time": "2022-07-08T21:59:44.205Z"
   },
   {
    "duration": 13,
    "start_time": "2022-07-08T21:59:44.224Z"
   },
   {
    "duration": 34,
    "start_time": "2022-07-08T21:59:44.261Z"
   },
   {
    "duration": 7,
    "start_time": "2022-07-08T21:59:44.297Z"
   },
   {
    "duration": 14,
    "start_time": "2022-07-08T21:59:44.305Z"
   },
   {
    "duration": 12,
    "start_time": "2022-07-08T21:59:44.321Z"
   },
   {
    "duration": 14,
    "start_time": "2022-07-08T21:59:44.335Z"
   },
   {
    "duration": 15,
    "start_time": "2022-07-08T21:59:44.351Z"
   },
   {
    "duration": 20,
    "start_time": "2022-07-08T21:59:44.368Z"
   },
   {
    "duration": 6,
    "start_time": "2022-07-08T21:59:44.390Z"
   },
   {
    "duration": 6,
    "start_time": "2022-07-08T21:59:44.398Z"
   },
   {
    "duration": 5,
    "start_time": "2022-07-08T21:59:44.406Z"
   },
   {
    "duration": 8,
    "start_time": "2022-07-08T21:59:44.414Z"
   },
   {
    "duration": 13,
    "start_time": "2022-07-08T21:59:44.424Z"
   },
   {
    "duration": 30,
    "start_time": "2022-07-08T21:59:44.439Z"
   },
   {
    "duration": 17,
    "start_time": "2022-07-08T21:59:44.471Z"
   },
   {
    "duration": 14,
    "start_time": "2022-07-08T21:59:44.490Z"
   },
   {
    "duration": 14,
    "start_time": "2022-07-08T21:59:44.505Z"
   },
   {
    "duration": 7,
    "start_time": "2022-07-08T21:59:44.521Z"
   },
   {
    "duration": 9,
    "start_time": "2022-07-08T21:59:44.530Z"
   },
   {
    "duration": 23,
    "start_time": "2022-07-08T21:59:44.541Z"
   },
   {
    "duration": 21,
    "start_time": "2022-07-08T21:59:44.565Z"
   }
  ],
  "kernelspec": {
   "display_name": "Python 3 (ipykernel)",
   "language": "python",
   "name": "python3"
  },
  "language_info": {
   "codemirror_mode": {
    "name": "ipython",
    "version": 3
   },
   "file_extension": ".py",
   "mimetype": "text/x-python",
   "name": "python",
   "nbconvert_exporter": "python",
   "pygments_lexer": "ipython3",
   "version": "3.7.8"
  },
  "toc": {
   "base_numbering": 1,
   "nav_menu": {},
   "number_sections": true,
   "sideBar": false,
   "skip_h1_title": true,
   "title_cell": "Оглавление",
   "title_sidebar": "Contents",
   "toc_cell": true,
   "toc_position": {
    "height": "867px",
    "left": "29px",
    "top": "183.133px",
    "width": "408.383px"
   },
   "toc_section_display": false,
   "toc_window_display": true
  }
 },
 "nbformat": 4,
 "nbformat_minor": 2
}
